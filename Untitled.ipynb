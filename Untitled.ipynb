{
 "cells": [
  {
   "cell_type": "code",
   "execution_count": 1,
   "metadata": {},
   "outputs": [],
   "source": [
    "import altair as alt\n",
    "import c3p0\n",
    "import martha\n",
    "import pandas as pd"
   ]
  },
  {
   "cell_type": "code",
   "execution_count": 18,
   "metadata": {},
   "outputs": [
    {
     "data": {
      "text/html": [
       "<div>\n",
       "<style scoped>\n",
       "    .dataframe tbody tr th:only-of-type {\n",
       "        vertical-align: middle;\n",
       "    }\n",
       "\n",
       "    .dataframe tbody tr th {\n",
       "        vertical-align: top;\n",
       "    }\n",
       "\n",
       "    .dataframe thead th {\n",
       "        text-align: right;\n",
       "    }\n",
       "</style>\n",
       "<table border=\"1\" class=\"dataframe\">\n",
       "  <thead>\n",
       "    <tr style=\"text-align: right;\">\n",
       "      <th></th>\n",
       "      <th>Unnamed: 0</th>\n",
       "      <th>symbol</th>\n",
       "      <th>date</th>\n",
       "      <th>price</th>\n",
       "    </tr>\n",
       "  </thead>\n",
       "  <tbody>\n",
       "    <tr>\n",
       "      <th>0</th>\n",
       "      <td>0</td>\n",
       "      <td>MSFT</td>\n",
       "      <td>2000-01-01</td>\n",
       "      <td>39.81</td>\n",
       "    </tr>\n",
       "    <tr>\n",
       "      <th>1</th>\n",
       "      <td>1</td>\n",
       "      <td>MSFT</td>\n",
       "      <td>2000-02-01</td>\n",
       "      <td>36.35</td>\n",
       "    </tr>\n",
       "    <tr>\n",
       "      <th>2</th>\n",
       "      <td>2</td>\n",
       "      <td>MSFT</td>\n",
       "      <td>2000-03-01</td>\n",
       "      <td>43.22</td>\n",
       "    </tr>\n",
       "    <tr>\n",
       "      <th>3</th>\n",
       "      <td>3</td>\n",
       "      <td>MSFT</td>\n",
       "      <td>2000-04-01</td>\n",
       "      <td>28.37</td>\n",
       "    </tr>\n",
       "    <tr>\n",
       "      <th>4</th>\n",
       "      <td>4</td>\n",
       "      <td>MSFT</td>\n",
       "      <td>2000-05-01</td>\n",
       "      <td>25.45</td>\n",
       "    </tr>\n",
       "  </tbody>\n",
       "</table>\n",
       "</div>"
      ],
      "text/plain": [
       "   Unnamed: 0 symbol        date  price\n",
       "0           0   MSFT  2000-01-01  39.81\n",
       "1           1   MSFT  2000-02-01  36.35\n",
       "2           2   MSFT  2000-03-01  43.22\n",
       "3           3   MSFT  2000-04-01  28.37\n",
       "4           4   MSFT  2000-05-01  25.45"
      ]
     },
     "execution_count": 18,
     "metadata": {},
     "output_type": "execute_result"
    }
   ],
   "source": [
    "data = pd.read_csv(\"data/stocks.csv\")\n",
    "# data = data.query(\"symbol == 'GOOG'\")\n",
    "data.head()"
   ]
  },
  {
   "cell_type": "code",
   "execution_count": 2,
   "metadata": {},
   "outputs": [],
   "source": [
    "def calcSizes(data, x, width):\n",
    "    types = [\":T\", \":Q\", \":O\", \":N\"]\n",
    "    for type in types:\n",
    "        x = x.replace(type, \"\")\n",
    "        \n",
    "    xRange = len(data[x].unique())\n",
    "    barSize = (width / xRange)\n",
    "    padding = (barSize / 2) + 1\n",
    "    return barSize, padding"
   ]
  },
  {
   "cell_type": "code",
   "execution_count": 82,
   "metadata": {},
   "outputs": [],
   "source": [
    "def barChart(data, x, y, color, stack = \"zero\", y2 = None, height = 400, width = 1000):\n",
    "    dims = calcSizes(data, x, width)\n",
    "    \n",
    "    chart = alt.Chart(data).mark_bar(size = dims[0]).encode(\n",
    "        x = alt.X(x),\n",
    "        y = alt.Y(y, stack = stack),\n",
    "        color = alt.Color(color),\n",
    "        tooltip = data.columns.tolist()\n",
    "    ).properties(\n",
    "        width = width,\n",
    "        height = height\n",
    "    ).interactive(\n",
    "        bind_y = False\n",
    "    )\n",
    "    return chart"
   ]
  },
  {
   "cell_type": "code",
   "execution_count": 83,
   "metadata": {},
   "outputs": [
    {
     "data": {
      "application/vnd.vegalite.v2+json": {
       "$schema": "https://vega.github.io/schema/vega-lite/v2.4.3.json",
       "config": {
        "view": {
         "height": 300,
         "width": 400
        }
       },
       "data": {
        "values": [
         {
          "Unnamed: 0": 0,
          "date": "2000-01-01",
          "price": 39.81,
          "symbol": "MSFT"
         },
         {
          "Unnamed: 0": 1,
          "date": "2000-02-01",
          "price": 36.35,
          "symbol": "MSFT"
         },
         {
          "Unnamed: 0": 2,
          "date": "2000-03-01",
          "price": 43.22,
          "symbol": "MSFT"
         },
         {
          "Unnamed: 0": 3,
          "date": "2000-04-01",
          "price": 28.37,
          "symbol": "MSFT"
         },
         {
          "Unnamed: 0": 4,
          "date": "2000-05-01",
          "price": 25.45,
          "symbol": "MSFT"
         },
         {
          "Unnamed: 0": 5,
          "date": "2000-06-01",
          "price": 32.54,
          "symbol": "MSFT"
         },
         {
          "Unnamed: 0": 6,
          "date": "2000-07-01",
          "price": 28.4,
          "symbol": "MSFT"
         },
         {
          "Unnamed: 0": 7,
          "date": "2000-08-01",
          "price": 28.4,
          "symbol": "MSFT"
         },
         {
          "Unnamed: 0": 8,
          "date": "2000-09-01",
          "price": 24.53,
          "symbol": "MSFT"
         },
         {
          "Unnamed: 0": 9,
          "date": "2000-10-01",
          "price": 28.02,
          "symbol": "MSFT"
         },
         {
          "Unnamed: 0": 10,
          "date": "2000-11-01",
          "price": 23.34,
          "symbol": "MSFT"
         },
         {
          "Unnamed: 0": 11,
          "date": "2000-12-01",
          "price": 17.65,
          "symbol": "MSFT"
         },
         {
          "Unnamed: 0": 12,
          "date": "2001-01-01",
          "price": 24.84,
          "symbol": "MSFT"
         },
         {
          "Unnamed: 0": 13,
          "date": "2001-02-01",
          "price": 24,
          "symbol": "MSFT"
         },
         {
          "Unnamed: 0": 14,
          "date": "2001-03-01",
          "price": 22.25,
          "symbol": "MSFT"
         },
         {
          "Unnamed: 0": 15,
          "date": "2001-04-01",
          "price": 27.56,
          "symbol": "MSFT"
         },
         {
          "Unnamed: 0": 16,
          "date": "2001-05-01",
          "price": 28.14,
          "symbol": "MSFT"
         },
         {
          "Unnamed: 0": 17,
          "date": "2001-06-01",
          "price": 29.7,
          "symbol": "MSFT"
         },
         {
          "Unnamed: 0": 18,
          "date": "2001-07-01",
          "price": 26.93,
          "symbol": "MSFT"
         },
         {
          "Unnamed: 0": 19,
          "date": "2001-08-01",
          "price": 23.21,
          "symbol": "MSFT"
         },
         {
          "Unnamed: 0": 20,
          "date": "2001-09-01",
          "price": 20.82,
          "symbol": "MSFT"
         },
         {
          "Unnamed: 0": 21,
          "date": "2001-10-01",
          "price": 23.65,
          "symbol": "MSFT"
         },
         {
          "Unnamed: 0": 22,
          "date": "2001-11-01",
          "price": 26.12,
          "symbol": "MSFT"
         },
         {
          "Unnamed: 0": 23,
          "date": "2001-12-01",
          "price": 26.95,
          "symbol": "MSFT"
         },
         {
          "Unnamed: 0": 24,
          "date": "2002-01-01",
          "price": 25.92,
          "symbol": "MSFT"
         },
         {
          "Unnamed: 0": 25,
          "date": "2002-02-01",
          "price": 23.73,
          "symbol": "MSFT"
         },
         {
          "Unnamed: 0": 26,
          "date": "2002-03-01",
          "price": 24.53,
          "symbol": "MSFT"
         },
         {
          "Unnamed: 0": 27,
          "date": "2002-04-01",
          "price": 21.26,
          "symbol": "MSFT"
         },
         {
          "Unnamed: 0": 28,
          "date": "2002-05-01",
          "price": 20.71,
          "symbol": "MSFT"
         },
         {
          "Unnamed: 0": 29,
          "date": "2002-06-01",
          "price": 22.25,
          "symbol": "MSFT"
         },
         {
          "Unnamed: 0": 30,
          "date": "2002-07-01",
          "price": 19.52,
          "symbol": "MSFT"
         },
         {
          "Unnamed: 0": 31,
          "date": "2002-08-01",
          "price": 19.97,
          "symbol": "MSFT"
         },
         {
          "Unnamed: 0": 32,
          "date": "2002-09-01",
          "price": 17.79,
          "symbol": "MSFT"
         },
         {
          "Unnamed: 0": 33,
          "date": "2002-10-01",
          "price": 21.75,
          "symbol": "MSFT"
         },
         {
          "Unnamed: 0": 34,
          "date": "2002-11-01",
          "price": 23.46,
          "symbol": "MSFT"
         },
         {
          "Unnamed: 0": 35,
          "date": "2002-12-01",
          "price": 21.03,
          "symbol": "MSFT"
         },
         {
          "Unnamed: 0": 36,
          "date": "2003-01-01",
          "price": 19.31,
          "symbol": "MSFT"
         },
         {
          "Unnamed: 0": 37,
          "date": "2003-02-01",
          "price": 19.34,
          "symbol": "MSFT"
         },
         {
          "Unnamed: 0": 38,
          "date": "2003-03-01",
          "price": 19.76,
          "symbol": "MSFT"
         },
         {
          "Unnamed: 0": 39,
          "date": "2003-04-01",
          "price": 20.87,
          "symbol": "MSFT"
         },
         {
          "Unnamed: 0": 40,
          "date": "2003-05-01",
          "price": 20.09,
          "symbol": "MSFT"
         },
         {
          "Unnamed: 0": 41,
          "date": "2003-06-01",
          "price": 20.93,
          "symbol": "MSFT"
         },
         {
          "Unnamed: 0": 42,
          "date": "2003-07-01",
          "price": 21.56,
          "symbol": "MSFT"
         },
         {
          "Unnamed: 0": 43,
          "date": "2003-08-01",
          "price": 21.65,
          "symbol": "MSFT"
         },
         {
          "Unnamed: 0": 44,
          "date": "2003-09-01",
          "price": 22.69,
          "symbol": "MSFT"
         },
         {
          "Unnamed: 0": 45,
          "date": "2003-10-01",
          "price": 21.45,
          "symbol": "MSFT"
         },
         {
          "Unnamed: 0": 46,
          "date": "2003-11-01",
          "price": 21.1,
          "symbol": "MSFT"
         },
         {
          "Unnamed: 0": 47,
          "date": "2003-12-01",
          "price": 22.46,
          "symbol": "MSFT"
         },
         {
          "Unnamed: 0": 48,
          "date": "2004-01-01",
          "price": 22.69,
          "symbol": "MSFT"
         },
         {
          "Unnamed: 0": 49,
          "date": "2004-02-01",
          "price": 21.77,
          "symbol": "MSFT"
         },
         {
          "Unnamed: 0": 50,
          "date": "2004-03-01",
          "price": 20.46,
          "symbol": "MSFT"
         },
         {
          "Unnamed: 0": 51,
          "date": "2004-04-01",
          "price": 21.45,
          "symbol": "MSFT"
         },
         {
          "Unnamed: 0": 52,
          "date": "2004-05-01",
          "price": 21.53,
          "symbol": "MSFT"
         },
         {
          "Unnamed: 0": 53,
          "date": "2004-06-01",
          "price": 23.44,
          "symbol": "MSFT"
         },
         {
          "Unnamed: 0": 54,
          "date": "2004-07-01",
          "price": 23.38,
          "symbol": "MSFT"
         },
         {
          "Unnamed: 0": 55,
          "date": "2004-08-01",
          "price": 22.47,
          "symbol": "MSFT"
         },
         {
          "Unnamed: 0": 56,
          "date": "2004-09-01",
          "price": 22.76,
          "symbol": "MSFT"
         },
         {
          "Unnamed: 0": 57,
          "date": "2004-10-01",
          "price": 23.02,
          "symbol": "MSFT"
         },
         {
          "Unnamed: 0": 58,
          "date": "2004-11-01",
          "price": 24.6,
          "symbol": "MSFT"
         },
         {
          "Unnamed: 0": 59,
          "date": "2004-12-01",
          "price": 24.52,
          "symbol": "MSFT"
         },
         {
          "Unnamed: 0": 60,
          "date": "2005-01-01",
          "price": 24.11,
          "symbol": "MSFT"
         },
         {
          "Unnamed: 0": 61,
          "date": "2005-02-01",
          "price": 23.15,
          "symbol": "MSFT"
         },
         {
          "Unnamed: 0": 62,
          "date": "2005-03-01",
          "price": 22.24,
          "symbol": "MSFT"
         },
         {
          "Unnamed: 0": 63,
          "date": "2005-04-01",
          "price": 23.28,
          "symbol": "MSFT"
         },
         {
          "Unnamed: 0": 64,
          "date": "2005-05-01",
          "price": 23.82,
          "symbol": "MSFT"
         },
         {
          "Unnamed: 0": 65,
          "date": "2005-06-01",
          "price": 22.93,
          "symbol": "MSFT"
         },
         {
          "Unnamed: 0": 66,
          "date": "2005-07-01",
          "price": 23.64,
          "symbol": "MSFT"
         },
         {
          "Unnamed: 0": 67,
          "date": "2005-08-01",
          "price": 25.35,
          "symbol": "MSFT"
         },
         {
          "Unnamed: 0": 68,
          "date": "2005-09-01",
          "price": 23.83,
          "symbol": "MSFT"
         },
         {
          "Unnamed: 0": 69,
          "date": "2005-10-01",
          "price": 23.8,
          "symbol": "MSFT"
         },
         {
          "Unnamed: 0": 70,
          "date": "2005-11-01",
          "price": 25.71,
          "symbol": "MSFT"
         },
         {
          "Unnamed: 0": 71,
          "date": "2005-12-01",
          "price": 24.29,
          "symbol": "MSFT"
         },
         {
          "Unnamed: 0": 72,
          "date": "2006-01-01",
          "price": 26.14,
          "symbol": "MSFT"
         },
         {
          "Unnamed: 0": 73,
          "date": "2006-02-01",
          "price": 25.04,
          "symbol": "MSFT"
         },
         {
          "Unnamed: 0": 74,
          "date": "2006-03-01",
          "price": 25.36,
          "symbol": "MSFT"
         },
         {
          "Unnamed: 0": 75,
          "date": "2006-04-01",
          "price": 22.5,
          "symbol": "MSFT"
         },
         {
          "Unnamed: 0": 76,
          "date": "2006-05-01",
          "price": 21.19,
          "symbol": "MSFT"
         },
         {
          "Unnamed: 0": 77,
          "date": "2006-06-01",
          "price": 21.8,
          "symbol": "MSFT"
         },
         {
          "Unnamed: 0": 78,
          "date": "2006-07-01",
          "price": 22.51,
          "symbol": "MSFT"
         },
         {
          "Unnamed: 0": 79,
          "date": "2006-08-01",
          "price": 24.13,
          "symbol": "MSFT"
         },
         {
          "Unnamed: 0": 80,
          "date": "2006-09-01",
          "price": 25.68,
          "symbol": "MSFT"
         },
         {
          "Unnamed: 0": 81,
          "date": "2006-10-01",
          "price": 26.96,
          "symbol": "MSFT"
         },
         {
          "Unnamed: 0": 82,
          "date": "2006-11-01",
          "price": 27.66,
          "symbol": "MSFT"
         },
         {
          "Unnamed: 0": 83,
          "date": "2006-12-01",
          "price": 28.13,
          "symbol": "MSFT"
         },
         {
          "Unnamed: 0": 84,
          "date": "2007-01-01",
          "price": 29.07,
          "symbol": "MSFT"
         },
         {
          "Unnamed: 0": 85,
          "date": "2007-02-01",
          "price": 26.63,
          "symbol": "MSFT"
         },
         {
          "Unnamed: 0": 86,
          "date": "2007-03-01",
          "price": 26.35,
          "symbol": "MSFT"
         },
         {
          "Unnamed: 0": 87,
          "date": "2007-04-01",
          "price": 28.3,
          "symbol": "MSFT"
         },
         {
          "Unnamed: 0": 88,
          "date": "2007-05-01",
          "price": 29.11,
          "symbol": "MSFT"
         },
         {
          "Unnamed: 0": 89,
          "date": "2007-06-01",
          "price": 27.95,
          "symbol": "MSFT"
         },
         {
          "Unnamed: 0": 90,
          "date": "2007-07-01",
          "price": 27.5,
          "symbol": "MSFT"
         },
         {
          "Unnamed: 0": 91,
          "date": "2007-08-01",
          "price": 27.34,
          "symbol": "MSFT"
         },
         {
          "Unnamed: 0": 92,
          "date": "2007-09-01",
          "price": 28.04,
          "symbol": "MSFT"
         },
         {
          "Unnamed: 0": 93,
          "date": "2007-10-01",
          "price": 35.03,
          "symbol": "MSFT"
         },
         {
          "Unnamed: 0": 94,
          "date": "2007-11-01",
          "price": 32.09,
          "symbol": "MSFT"
         },
         {
          "Unnamed: 0": 95,
          "date": "2007-12-01",
          "price": 34,
          "symbol": "MSFT"
         },
         {
          "Unnamed: 0": 96,
          "date": "2008-01-01",
          "price": 31.13,
          "symbol": "MSFT"
         },
         {
          "Unnamed: 0": 97,
          "date": "2008-02-01",
          "price": 26.07,
          "symbol": "MSFT"
         },
         {
          "Unnamed: 0": 98,
          "date": "2008-03-01",
          "price": 27.21,
          "symbol": "MSFT"
         },
         {
          "Unnamed: 0": 99,
          "date": "2008-04-01",
          "price": 27.34,
          "symbol": "MSFT"
         },
         {
          "Unnamed: 0": 100,
          "date": "2008-05-01",
          "price": 27.25,
          "symbol": "MSFT"
         },
         {
          "Unnamed: 0": 101,
          "date": "2008-06-01",
          "price": 26.47,
          "symbol": "MSFT"
         },
         {
          "Unnamed: 0": 102,
          "date": "2008-07-01",
          "price": 24.75,
          "symbol": "MSFT"
         },
         {
          "Unnamed: 0": 103,
          "date": "2008-08-01",
          "price": 26.36,
          "symbol": "MSFT"
         },
         {
          "Unnamed: 0": 104,
          "date": "2008-09-01",
          "price": 25.78,
          "symbol": "MSFT"
         },
         {
          "Unnamed: 0": 105,
          "date": "2008-10-01",
          "price": 21.57,
          "symbol": "MSFT"
         },
         {
          "Unnamed: 0": 106,
          "date": "2008-11-01",
          "price": 19.66,
          "symbol": "MSFT"
         },
         {
          "Unnamed: 0": 107,
          "date": "2008-12-01",
          "price": 18.91,
          "symbol": "MSFT"
         },
         {
          "Unnamed: 0": 108,
          "date": "2009-01-01",
          "price": 16.63,
          "symbol": "MSFT"
         },
         {
          "Unnamed: 0": 109,
          "date": "2009-02-01",
          "price": 15.81,
          "symbol": "MSFT"
         },
         {
          "Unnamed: 0": 110,
          "date": "2009-03-01",
          "price": 17.99,
          "symbol": "MSFT"
         },
         {
          "Unnamed: 0": 111,
          "date": "2009-04-01",
          "price": 19.84,
          "symbol": "MSFT"
         },
         {
          "Unnamed: 0": 112,
          "date": "2009-05-01",
          "price": 20.59,
          "symbol": "MSFT"
         },
         {
          "Unnamed: 0": 113,
          "date": "2009-06-01",
          "price": 23.42,
          "symbol": "MSFT"
         },
         {
          "Unnamed: 0": 114,
          "date": "2009-07-01",
          "price": 23.18,
          "symbol": "MSFT"
         },
         {
          "Unnamed: 0": 115,
          "date": "2009-08-01",
          "price": 24.43,
          "symbol": "MSFT"
         },
         {
          "Unnamed: 0": 116,
          "date": "2009-09-01",
          "price": 25.49,
          "symbol": "MSFT"
         },
         {
          "Unnamed: 0": 117,
          "date": "2009-10-01",
          "price": 27.48,
          "symbol": "MSFT"
         },
         {
          "Unnamed: 0": 118,
          "date": "2009-11-01",
          "price": 29.27,
          "symbol": "MSFT"
         },
         {
          "Unnamed: 0": 119,
          "date": "2009-12-01",
          "price": 30.34,
          "symbol": "MSFT"
         },
         {
          "Unnamed: 0": 120,
          "date": "2010-01-01",
          "price": 28.05,
          "symbol": "MSFT"
         },
         {
          "Unnamed: 0": 121,
          "date": "2010-02-01",
          "price": 28.67,
          "symbol": "MSFT"
         },
         {
          "Unnamed: 0": 122,
          "date": "2010-03-01",
          "price": 28.8,
          "symbol": "MSFT"
         },
         {
          "Unnamed: 0": 123,
          "date": "2000-01-01",
          "price": 64.56,
          "symbol": "AMZN"
         },
         {
          "Unnamed: 0": 124,
          "date": "2000-02-01",
          "price": 68.87,
          "symbol": "AMZN"
         },
         {
          "Unnamed: 0": 125,
          "date": "2000-03-01",
          "price": 67,
          "symbol": "AMZN"
         },
         {
          "Unnamed: 0": 126,
          "date": "2000-04-01",
          "price": 55.19,
          "symbol": "AMZN"
         },
         {
          "Unnamed: 0": 127,
          "date": "2000-05-01",
          "price": 48.31,
          "symbol": "AMZN"
         },
         {
          "Unnamed: 0": 128,
          "date": "2000-06-01",
          "price": 36.31,
          "symbol": "AMZN"
         },
         {
          "Unnamed: 0": 129,
          "date": "2000-07-01",
          "price": 30.12,
          "symbol": "AMZN"
         },
         {
          "Unnamed: 0": 130,
          "date": "2000-08-01",
          "price": 41.5,
          "symbol": "AMZN"
         },
         {
          "Unnamed: 0": 131,
          "date": "2000-09-01",
          "price": 38.44,
          "symbol": "AMZN"
         },
         {
          "Unnamed: 0": 132,
          "date": "2000-10-01",
          "price": 36.62,
          "symbol": "AMZN"
         },
         {
          "Unnamed: 0": 133,
          "date": "2000-11-01",
          "price": 24.69,
          "symbol": "AMZN"
         },
         {
          "Unnamed: 0": 134,
          "date": "2000-12-01",
          "price": 15.56,
          "symbol": "AMZN"
         },
         {
          "Unnamed: 0": 135,
          "date": "2001-01-01",
          "price": 17.31,
          "symbol": "AMZN"
         },
         {
          "Unnamed: 0": 136,
          "date": "2001-02-01",
          "price": 10.19,
          "symbol": "AMZN"
         },
         {
          "Unnamed: 0": 137,
          "date": "2001-03-01",
          "price": 10.23,
          "symbol": "AMZN"
         },
         {
          "Unnamed: 0": 138,
          "date": "2001-04-01",
          "price": 15.78,
          "symbol": "AMZN"
         },
         {
          "Unnamed: 0": 139,
          "date": "2001-05-01",
          "price": 16.69,
          "symbol": "AMZN"
         },
         {
          "Unnamed: 0": 140,
          "date": "2001-06-01",
          "price": 14.15,
          "symbol": "AMZN"
         },
         {
          "Unnamed: 0": 141,
          "date": "2001-07-01",
          "price": 12.49,
          "symbol": "AMZN"
         },
         {
          "Unnamed: 0": 142,
          "date": "2001-08-01",
          "price": 8.94,
          "symbol": "AMZN"
         },
         {
          "Unnamed: 0": 143,
          "date": "2001-09-01",
          "price": 5.97,
          "symbol": "AMZN"
         },
         {
          "Unnamed: 0": 144,
          "date": "2001-10-01",
          "price": 6.98,
          "symbol": "AMZN"
         },
         {
          "Unnamed: 0": 145,
          "date": "2001-11-01",
          "price": 11.32,
          "symbol": "AMZN"
         },
         {
          "Unnamed: 0": 146,
          "date": "2001-12-01",
          "price": 10.82,
          "symbol": "AMZN"
         },
         {
          "Unnamed: 0": 147,
          "date": "2002-01-01",
          "price": 14.19,
          "symbol": "AMZN"
         },
         {
          "Unnamed: 0": 148,
          "date": "2002-02-01",
          "price": 14.1,
          "symbol": "AMZN"
         },
         {
          "Unnamed: 0": 149,
          "date": "2002-03-01",
          "price": 14.3,
          "symbol": "AMZN"
         },
         {
          "Unnamed: 0": 150,
          "date": "2002-04-01",
          "price": 16.69,
          "symbol": "AMZN"
         },
         {
          "Unnamed: 0": 151,
          "date": "2002-05-01",
          "price": 18.23,
          "symbol": "AMZN"
         },
         {
          "Unnamed: 0": 152,
          "date": "2002-06-01",
          "price": 16.25,
          "symbol": "AMZN"
         },
         {
          "Unnamed: 0": 153,
          "date": "2002-07-01",
          "price": 14.45,
          "symbol": "AMZN"
         },
         {
          "Unnamed: 0": 154,
          "date": "2002-08-01",
          "price": 14.94,
          "symbol": "AMZN"
         },
         {
          "Unnamed: 0": 155,
          "date": "2002-09-01",
          "price": 15.93,
          "symbol": "AMZN"
         },
         {
          "Unnamed: 0": 156,
          "date": "2002-10-01",
          "price": 19.36,
          "symbol": "AMZN"
         },
         {
          "Unnamed: 0": 157,
          "date": "2002-11-01",
          "price": 23.35,
          "symbol": "AMZN"
         },
         {
          "Unnamed: 0": 158,
          "date": "2002-12-01",
          "price": 18.89,
          "symbol": "AMZN"
         },
         {
          "Unnamed: 0": 159,
          "date": "2003-01-01",
          "price": 21.85,
          "symbol": "AMZN"
         },
         {
          "Unnamed: 0": 160,
          "date": "2003-02-01",
          "price": 22.01,
          "symbol": "AMZN"
         },
         {
          "Unnamed: 0": 161,
          "date": "2003-03-01",
          "price": 26.03,
          "symbol": "AMZN"
         },
         {
          "Unnamed: 0": 162,
          "date": "2003-04-01",
          "price": 28.69,
          "symbol": "AMZN"
         },
         {
          "Unnamed: 0": 163,
          "date": "2003-05-01",
          "price": 35.89,
          "symbol": "AMZN"
         },
         {
          "Unnamed: 0": 164,
          "date": "2003-06-01",
          "price": 36.32,
          "symbol": "AMZN"
         },
         {
          "Unnamed: 0": 165,
          "date": "2003-07-01",
          "price": 41.64,
          "symbol": "AMZN"
         },
         {
          "Unnamed: 0": 166,
          "date": "2003-08-01",
          "price": 46.32,
          "symbol": "AMZN"
         },
         {
          "Unnamed: 0": 167,
          "date": "2003-09-01",
          "price": 48.43,
          "symbol": "AMZN"
         },
         {
          "Unnamed: 0": 168,
          "date": "2003-10-01",
          "price": 54.43,
          "symbol": "AMZN"
         },
         {
          "Unnamed: 0": 169,
          "date": "2003-11-01",
          "price": 53.97,
          "symbol": "AMZN"
         },
         {
          "Unnamed: 0": 170,
          "date": "2003-12-01",
          "price": 52.62,
          "symbol": "AMZN"
         },
         {
          "Unnamed: 0": 171,
          "date": "2004-01-01",
          "price": 50.4,
          "symbol": "AMZN"
         },
         {
          "Unnamed: 0": 172,
          "date": "2004-02-01",
          "price": 43.01,
          "symbol": "AMZN"
         },
         {
          "Unnamed: 0": 173,
          "date": "2004-03-01",
          "price": 43.28,
          "symbol": "AMZN"
         },
         {
          "Unnamed: 0": 174,
          "date": "2004-04-01",
          "price": 43.6,
          "symbol": "AMZN"
         },
         {
          "Unnamed: 0": 175,
          "date": "2004-05-01",
          "price": 48.5,
          "symbol": "AMZN"
         },
         {
          "Unnamed: 0": 176,
          "date": "2004-06-01",
          "price": 54.4,
          "symbol": "AMZN"
         },
         {
          "Unnamed: 0": 177,
          "date": "2004-07-01",
          "price": 38.92,
          "symbol": "AMZN"
         },
         {
          "Unnamed: 0": 178,
          "date": "2004-08-01",
          "price": 38.14,
          "symbol": "AMZN"
         },
         {
          "Unnamed: 0": 179,
          "date": "2004-09-01",
          "price": 40.86,
          "symbol": "AMZN"
         },
         {
          "Unnamed: 0": 180,
          "date": "2004-10-01",
          "price": 34.13,
          "symbol": "AMZN"
         },
         {
          "Unnamed: 0": 181,
          "date": "2004-11-01",
          "price": 39.68,
          "symbol": "AMZN"
         },
         {
          "Unnamed: 0": 182,
          "date": "2004-12-01",
          "price": 44.29,
          "symbol": "AMZN"
         },
         {
          "Unnamed: 0": 183,
          "date": "2005-01-01",
          "price": 43.22,
          "symbol": "AMZN"
         },
         {
          "Unnamed: 0": 184,
          "date": "2005-02-01",
          "price": 35.18,
          "symbol": "AMZN"
         },
         {
          "Unnamed: 0": 185,
          "date": "2005-03-01",
          "price": 34.27,
          "symbol": "AMZN"
         },
         {
          "Unnamed: 0": 186,
          "date": "2005-04-01",
          "price": 32.36,
          "symbol": "AMZN"
         },
         {
          "Unnamed: 0": 187,
          "date": "2005-05-01",
          "price": 35.51,
          "symbol": "AMZN"
         },
         {
          "Unnamed: 0": 188,
          "date": "2005-06-01",
          "price": 33.09,
          "symbol": "AMZN"
         },
         {
          "Unnamed: 0": 189,
          "date": "2005-07-01",
          "price": 45.15,
          "symbol": "AMZN"
         },
         {
          "Unnamed: 0": 190,
          "date": "2005-08-01",
          "price": 42.7,
          "symbol": "AMZN"
         },
         {
          "Unnamed: 0": 191,
          "date": "2005-09-01",
          "price": 45.3,
          "symbol": "AMZN"
         },
         {
          "Unnamed: 0": 192,
          "date": "2005-10-01",
          "price": 39.86,
          "symbol": "AMZN"
         },
         {
          "Unnamed: 0": 193,
          "date": "2005-11-01",
          "price": 48.46,
          "symbol": "AMZN"
         },
         {
          "Unnamed: 0": 194,
          "date": "2005-12-01",
          "price": 47.15,
          "symbol": "AMZN"
         },
         {
          "Unnamed: 0": 195,
          "date": "2006-01-01",
          "price": 44.82,
          "symbol": "AMZN"
         },
         {
          "Unnamed: 0": 196,
          "date": "2006-02-01",
          "price": 37.44,
          "symbol": "AMZN"
         },
         {
          "Unnamed: 0": 197,
          "date": "2006-03-01",
          "price": 36.53,
          "symbol": "AMZN"
         },
         {
          "Unnamed: 0": 198,
          "date": "2006-04-01",
          "price": 35.21,
          "symbol": "AMZN"
         },
         {
          "Unnamed: 0": 199,
          "date": "2006-05-01",
          "price": 34.61,
          "symbol": "AMZN"
         },
         {
          "Unnamed: 0": 200,
          "date": "2006-06-01",
          "price": 38.68,
          "symbol": "AMZN"
         },
         {
          "Unnamed: 0": 201,
          "date": "2006-07-01",
          "price": 26.89,
          "symbol": "AMZN"
         },
         {
          "Unnamed: 0": 202,
          "date": "2006-08-01",
          "price": 30.83,
          "symbol": "AMZN"
         },
         {
          "Unnamed: 0": 203,
          "date": "2006-09-01",
          "price": 32.12,
          "symbol": "AMZN"
         },
         {
          "Unnamed: 0": 204,
          "date": "2006-10-01",
          "price": 38.09,
          "symbol": "AMZN"
         },
         {
          "Unnamed: 0": 205,
          "date": "2006-11-01",
          "price": 40.34,
          "symbol": "AMZN"
         },
         {
          "Unnamed: 0": 206,
          "date": "2006-12-01",
          "price": 39.46,
          "symbol": "AMZN"
         },
         {
          "Unnamed: 0": 207,
          "date": "2007-01-01",
          "price": 37.67,
          "symbol": "AMZN"
         },
         {
          "Unnamed: 0": 208,
          "date": "2007-02-01",
          "price": 39.14,
          "symbol": "AMZN"
         },
         {
          "Unnamed: 0": 209,
          "date": "2007-03-01",
          "price": 39.79,
          "symbol": "AMZN"
         },
         {
          "Unnamed: 0": 210,
          "date": "2007-04-01",
          "price": 61.33,
          "symbol": "AMZN"
         },
         {
          "Unnamed: 0": 211,
          "date": "2007-05-01",
          "price": 69.14,
          "symbol": "AMZN"
         },
         {
          "Unnamed: 0": 212,
          "date": "2007-06-01",
          "price": 68.41,
          "symbol": "AMZN"
         },
         {
          "Unnamed: 0": 213,
          "date": "2007-07-01",
          "price": 78.54,
          "symbol": "AMZN"
         },
         {
          "Unnamed: 0": 214,
          "date": "2007-08-01",
          "price": 79.91,
          "symbol": "AMZN"
         },
         {
          "Unnamed: 0": 215,
          "date": "2007-09-01",
          "price": 93.15,
          "symbol": "AMZN"
         },
         {
          "Unnamed: 0": 216,
          "date": "2007-10-01",
          "price": 89.15,
          "symbol": "AMZN"
         },
         {
          "Unnamed: 0": 217,
          "date": "2007-11-01",
          "price": 90.56,
          "symbol": "AMZN"
         },
         {
          "Unnamed: 0": 218,
          "date": "2007-12-01",
          "price": 92.64,
          "symbol": "AMZN"
         },
         {
          "Unnamed: 0": 219,
          "date": "2008-01-01",
          "price": 77.7,
          "symbol": "AMZN"
         },
         {
          "Unnamed: 0": 220,
          "date": "2008-02-01",
          "price": 64.47,
          "symbol": "AMZN"
         },
         {
          "Unnamed: 0": 221,
          "date": "2008-03-01",
          "price": 71.3,
          "symbol": "AMZN"
         },
         {
          "Unnamed: 0": 222,
          "date": "2008-04-01",
          "price": 78.63,
          "symbol": "AMZN"
         },
         {
          "Unnamed: 0": 223,
          "date": "2008-05-01",
          "price": 81.62,
          "symbol": "AMZN"
         },
         {
          "Unnamed: 0": 224,
          "date": "2008-06-01",
          "price": 73.33,
          "symbol": "AMZN"
         },
         {
          "Unnamed: 0": 225,
          "date": "2008-07-01",
          "price": 76.34,
          "symbol": "AMZN"
         },
         {
          "Unnamed: 0": 226,
          "date": "2008-08-01",
          "price": 80.81,
          "symbol": "AMZN"
         },
         {
          "Unnamed: 0": 227,
          "date": "2008-09-01",
          "price": 72.76,
          "symbol": "AMZN"
         },
         {
          "Unnamed: 0": 228,
          "date": "2008-10-01",
          "price": 57.24,
          "symbol": "AMZN"
         },
         {
          "Unnamed: 0": 229,
          "date": "2008-11-01",
          "price": 42.7,
          "symbol": "AMZN"
         },
         {
          "Unnamed: 0": 230,
          "date": "2008-12-01",
          "price": 51.28,
          "symbol": "AMZN"
         },
         {
          "Unnamed: 0": 231,
          "date": "2009-01-01",
          "price": 58.82,
          "symbol": "AMZN"
         },
         {
          "Unnamed: 0": 232,
          "date": "2009-02-01",
          "price": 64.79,
          "symbol": "AMZN"
         },
         {
          "Unnamed: 0": 233,
          "date": "2009-03-01",
          "price": 73.44,
          "symbol": "AMZN"
         },
         {
          "Unnamed: 0": 234,
          "date": "2009-04-01",
          "price": 80.52,
          "symbol": "AMZN"
         },
         {
          "Unnamed: 0": 235,
          "date": "2009-05-01",
          "price": 77.99,
          "symbol": "AMZN"
         },
         {
          "Unnamed: 0": 236,
          "date": "2009-06-01",
          "price": 83.66,
          "symbol": "AMZN"
         },
         {
          "Unnamed: 0": 237,
          "date": "2009-07-01",
          "price": 85.76,
          "symbol": "AMZN"
         },
         {
          "Unnamed: 0": 238,
          "date": "2009-08-01",
          "price": 81.19,
          "symbol": "AMZN"
         },
         {
          "Unnamed: 0": 239,
          "date": "2009-09-01",
          "price": 93.36,
          "symbol": "AMZN"
         },
         {
          "Unnamed: 0": 240,
          "date": "2009-10-01",
          "price": 118.81,
          "symbol": "AMZN"
         },
         {
          "Unnamed: 0": 241,
          "date": "2009-11-01",
          "price": 135.91,
          "symbol": "AMZN"
         },
         {
          "Unnamed: 0": 242,
          "date": "2009-12-01",
          "price": 134.52,
          "symbol": "AMZN"
         },
         {
          "Unnamed: 0": 243,
          "date": "2010-01-01",
          "price": 125.41,
          "symbol": "AMZN"
         },
         {
          "Unnamed: 0": 244,
          "date": "2010-02-01",
          "price": 118.4,
          "symbol": "AMZN"
         },
         {
          "Unnamed: 0": 245,
          "date": "2010-03-01",
          "price": 128.82,
          "symbol": "AMZN"
         },
         {
          "Unnamed: 0": 246,
          "date": "2000-01-01",
          "price": 100.52,
          "symbol": "IBM"
         },
         {
          "Unnamed: 0": 247,
          "date": "2000-02-01",
          "price": 92.11,
          "symbol": "IBM"
         },
         {
          "Unnamed: 0": 248,
          "date": "2000-03-01",
          "price": 106.11,
          "symbol": "IBM"
         },
         {
          "Unnamed: 0": 249,
          "date": "2000-04-01",
          "price": 99.95,
          "symbol": "IBM"
         },
         {
          "Unnamed: 0": 250,
          "date": "2000-05-01",
          "price": 96.31,
          "symbol": "IBM"
         },
         {
          "Unnamed: 0": 251,
          "date": "2000-06-01",
          "price": 98.33,
          "symbol": "IBM"
         },
         {
          "Unnamed: 0": 252,
          "date": "2000-07-01",
          "price": 100.74,
          "symbol": "IBM"
         },
         {
          "Unnamed: 0": 253,
          "date": "2000-08-01",
          "price": 118.62,
          "symbol": "IBM"
         },
         {
          "Unnamed: 0": 254,
          "date": "2000-09-01",
          "price": 101.19,
          "symbol": "IBM"
         },
         {
          "Unnamed: 0": 255,
          "date": "2000-10-01",
          "price": 88.5,
          "symbol": "IBM"
         },
         {
          "Unnamed: 0": 256,
          "date": "2000-11-01",
          "price": 84.12,
          "symbol": "IBM"
         },
         {
          "Unnamed: 0": 257,
          "date": "2000-12-01",
          "price": 76.47,
          "symbol": "IBM"
         },
         {
          "Unnamed: 0": 258,
          "date": "2001-01-01",
          "price": 100.76,
          "symbol": "IBM"
         },
         {
          "Unnamed: 0": 259,
          "date": "2001-02-01",
          "price": 89.98,
          "symbol": "IBM"
         },
         {
          "Unnamed: 0": 260,
          "date": "2001-03-01",
          "price": 86.63,
          "symbol": "IBM"
         },
         {
          "Unnamed: 0": 261,
          "date": "2001-04-01",
          "price": 103.7,
          "symbol": "IBM"
         },
         {
          "Unnamed: 0": 262,
          "date": "2001-05-01",
          "price": 100.82,
          "symbol": "IBM"
         },
         {
          "Unnamed: 0": 263,
          "date": "2001-06-01",
          "price": 102.35,
          "symbol": "IBM"
         },
         {
          "Unnamed: 0": 264,
          "date": "2001-07-01",
          "price": 94.87,
          "symbol": "IBM"
         },
         {
          "Unnamed: 0": 265,
          "date": "2001-08-01",
          "price": 90.25,
          "symbol": "IBM"
         },
         {
          "Unnamed: 0": 266,
          "date": "2001-09-01",
          "price": 82.82,
          "symbol": "IBM"
         },
         {
          "Unnamed: 0": 267,
          "date": "2001-10-01",
          "price": 97.58,
          "symbol": "IBM"
         },
         {
          "Unnamed: 0": 268,
          "date": "2001-11-01",
          "price": 104.5,
          "symbol": "IBM"
         },
         {
          "Unnamed: 0": 269,
          "date": "2001-12-01",
          "price": 109.36,
          "symbol": "IBM"
         },
         {
          "Unnamed: 0": 270,
          "date": "2002-01-01",
          "price": 97.54,
          "symbol": "IBM"
         },
         {
          "Unnamed: 0": 271,
          "date": "2002-02-01",
          "price": 88.82,
          "symbol": "IBM"
         },
         {
          "Unnamed: 0": 272,
          "date": "2002-03-01",
          "price": 94.15,
          "symbol": "IBM"
         },
         {
          "Unnamed: 0": 273,
          "date": "2002-04-01",
          "price": 75.82,
          "symbol": "IBM"
         },
         {
          "Unnamed: 0": 274,
          "date": "2002-05-01",
          "price": 72.97,
          "symbol": "IBM"
         },
         {
          "Unnamed: 0": 275,
          "date": "2002-06-01",
          "price": 65.31,
          "symbol": "IBM"
         },
         {
          "Unnamed: 0": 276,
          "date": "2002-07-01",
          "price": 63.86,
          "symbol": "IBM"
         },
         {
          "Unnamed: 0": 277,
          "date": "2002-08-01",
          "price": 68.52,
          "symbol": "IBM"
         },
         {
          "Unnamed: 0": 278,
          "date": "2002-09-01",
          "price": 53.01,
          "symbol": "IBM"
         },
         {
          "Unnamed: 0": 279,
          "date": "2002-10-01",
          "price": 71.76,
          "symbol": "IBM"
         },
         {
          "Unnamed: 0": 280,
          "date": "2002-11-01",
          "price": 79.16,
          "symbol": "IBM"
         },
         {
          "Unnamed: 0": 281,
          "date": "2002-12-01",
          "price": 70.58,
          "symbol": "IBM"
         },
         {
          "Unnamed: 0": 282,
          "date": "2003-01-01",
          "price": 71.22,
          "symbol": "IBM"
         },
         {
          "Unnamed: 0": 283,
          "date": "2003-02-01",
          "price": 71.13,
          "symbol": "IBM"
         },
         {
          "Unnamed: 0": 284,
          "date": "2003-03-01",
          "price": 71.57,
          "symbol": "IBM"
         },
         {
          "Unnamed: 0": 285,
          "date": "2003-04-01",
          "price": 77.47,
          "symbol": "IBM"
         },
         {
          "Unnamed: 0": 286,
          "date": "2003-05-01",
          "price": 80.48,
          "symbol": "IBM"
         },
         {
          "Unnamed: 0": 287,
          "date": "2003-06-01",
          "price": 75.42,
          "symbol": "IBM"
         },
         {
          "Unnamed: 0": 288,
          "date": "2003-07-01",
          "price": 74.28,
          "symbol": "IBM"
         },
         {
          "Unnamed: 0": 289,
          "date": "2003-08-01",
          "price": 75.12,
          "symbol": "IBM"
         },
         {
          "Unnamed: 0": 290,
          "date": "2003-09-01",
          "price": 80.91,
          "symbol": "IBM"
         },
         {
          "Unnamed: 0": 291,
          "date": "2003-10-01",
          "price": 81.96,
          "symbol": "IBM"
         },
         {
          "Unnamed: 0": 292,
          "date": "2003-11-01",
          "price": 83.08,
          "symbol": "IBM"
         },
         {
          "Unnamed: 0": 293,
          "date": "2003-12-01",
          "price": 85.05,
          "symbol": "IBM"
         },
         {
          "Unnamed: 0": 294,
          "date": "2004-01-01",
          "price": 91.06,
          "symbol": "IBM"
         },
         {
          "Unnamed: 0": 295,
          "date": "2004-02-01",
          "price": 88.7,
          "symbol": "IBM"
         },
         {
          "Unnamed: 0": 296,
          "date": "2004-03-01",
          "price": 84.41,
          "symbol": "IBM"
         },
         {
          "Unnamed: 0": 297,
          "date": "2004-04-01",
          "price": 81.04,
          "symbol": "IBM"
         },
         {
          "Unnamed: 0": 298,
          "date": "2004-05-01",
          "price": 81.59,
          "symbol": "IBM"
         },
         {
          "Unnamed: 0": 299,
          "date": "2004-06-01",
          "price": 81.19,
          "symbol": "IBM"
         },
         {
          "Unnamed: 0": 300,
          "date": "2004-07-01",
          "price": 80.19,
          "symbol": "IBM"
         },
         {
          "Unnamed: 0": 301,
          "date": "2004-08-01",
          "price": 78.17,
          "symbol": "IBM"
         },
         {
          "Unnamed: 0": 302,
          "date": "2004-09-01",
          "price": 79.13,
          "symbol": "IBM"
         },
         {
          "Unnamed: 0": 303,
          "date": "2004-10-01",
          "price": 82.84,
          "symbol": "IBM"
         },
         {
          "Unnamed: 0": 304,
          "date": "2004-11-01",
          "price": 87.15,
          "symbol": "IBM"
         },
         {
          "Unnamed: 0": 305,
          "date": "2004-12-01",
          "price": 91.16,
          "symbol": "IBM"
         },
         {
          "Unnamed: 0": 306,
          "date": "2005-01-01",
          "price": 86.39,
          "symbol": "IBM"
         },
         {
          "Unnamed: 0": 307,
          "date": "2005-02-01",
          "price": 85.78,
          "symbol": "IBM"
         },
         {
          "Unnamed: 0": 308,
          "date": "2005-03-01",
          "price": 84.66,
          "symbol": "IBM"
         },
         {
          "Unnamed: 0": 309,
          "date": "2005-04-01",
          "price": 70.77,
          "symbol": "IBM"
         },
         {
          "Unnamed: 0": 310,
          "date": "2005-05-01",
          "price": 70.18,
          "symbol": "IBM"
         },
         {
          "Unnamed: 0": 311,
          "date": "2005-06-01",
          "price": 68.93,
          "symbol": "IBM"
         },
         {
          "Unnamed: 0": 312,
          "date": "2005-07-01",
          "price": 77.53,
          "symbol": "IBM"
         },
         {
          "Unnamed: 0": 313,
          "date": "2005-08-01",
          "price": 75.07,
          "symbol": "IBM"
         },
         {
          "Unnamed: 0": 314,
          "date": "2005-09-01",
          "price": 74.7,
          "symbol": "IBM"
         },
         {
          "Unnamed: 0": 315,
          "date": "2005-10-01",
          "price": 76.25,
          "symbol": "IBM"
         },
         {
          "Unnamed: 0": 316,
          "date": "2005-11-01",
          "price": 82.98,
          "symbol": "IBM"
         },
         {
          "Unnamed: 0": 317,
          "date": "2005-12-01",
          "price": 76.73,
          "symbol": "IBM"
         },
         {
          "Unnamed: 0": 318,
          "date": "2006-01-01",
          "price": 75.89,
          "symbol": "IBM"
         },
         {
          "Unnamed: 0": 319,
          "date": "2006-02-01",
          "price": 75.09,
          "symbol": "IBM"
         },
         {
          "Unnamed: 0": 320,
          "date": "2006-03-01",
          "price": 77.17,
          "symbol": "IBM"
         },
         {
          "Unnamed: 0": 321,
          "date": "2006-04-01",
          "price": 77.05,
          "symbol": "IBM"
         },
         {
          "Unnamed: 0": 322,
          "date": "2006-05-01",
          "price": 75.04,
          "symbol": "IBM"
         },
         {
          "Unnamed: 0": 323,
          "date": "2006-06-01",
          "price": 72.15,
          "symbol": "IBM"
         },
         {
          "Unnamed: 0": 324,
          "date": "2006-07-01",
          "price": 72.7,
          "symbol": "IBM"
         },
         {
          "Unnamed: 0": 325,
          "date": "2006-08-01",
          "price": 76.35,
          "symbol": "IBM"
         },
         {
          "Unnamed: 0": 326,
          "date": "2006-09-01",
          "price": 77.26,
          "symbol": "IBM"
         },
         {
          "Unnamed: 0": 327,
          "date": "2006-10-01",
          "price": 87.06,
          "symbol": "IBM"
         },
         {
          "Unnamed: 0": 328,
          "date": "2006-11-01",
          "price": 86.95,
          "symbol": "IBM"
         },
         {
          "Unnamed: 0": 329,
          "date": "2006-12-01",
          "price": 91.9,
          "symbol": "IBM"
         },
         {
          "Unnamed: 0": 330,
          "date": "2007-01-01",
          "price": 93.79,
          "symbol": "IBM"
         },
         {
          "Unnamed: 0": 331,
          "date": "2007-02-01",
          "price": 88.18,
          "symbol": "IBM"
         },
         {
          "Unnamed: 0": 332,
          "date": "2007-03-01",
          "price": 89.44,
          "symbol": "IBM"
         },
         {
          "Unnamed: 0": 333,
          "date": "2007-04-01",
          "price": 96.98,
          "symbol": "IBM"
         },
         {
          "Unnamed: 0": 334,
          "date": "2007-05-01",
          "price": 101.54,
          "symbol": "IBM"
         },
         {
          "Unnamed: 0": 335,
          "date": "2007-06-01",
          "price": 100.25,
          "symbol": "IBM"
         },
         {
          "Unnamed: 0": 336,
          "date": "2007-07-01",
          "price": 105.4,
          "symbol": "IBM"
         },
         {
          "Unnamed: 0": 337,
          "date": "2007-08-01",
          "price": 111.54,
          "symbol": "IBM"
         },
         {
          "Unnamed: 0": 338,
          "date": "2007-09-01",
          "price": 112.6,
          "symbol": "IBM"
         },
         {
          "Unnamed: 0": 339,
          "date": "2007-10-01",
          "price": 111,
          "symbol": "IBM"
         },
         {
          "Unnamed: 0": 340,
          "date": "2007-11-01",
          "price": 100.9,
          "symbol": "IBM"
         },
         {
          "Unnamed: 0": 341,
          "date": "2007-12-01",
          "price": 103.7,
          "symbol": "IBM"
         },
         {
          "Unnamed: 0": 342,
          "date": "2008-01-01",
          "price": 102.75,
          "symbol": "IBM"
         },
         {
          "Unnamed: 0": 343,
          "date": "2008-02-01",
          "price": 109.64,
          "symbol": "IBM"
         },
         {
          "Unnamed: 0": 344,
          "date": "2008-03-01",
          "price": 110.87,
          "symbol": "IBM"
         },
         {
          "Unnamed: 0": 345,
          "date": "2008-04-01",
          "price": 116.23,
          "symbol": "IBM"
         },
         {
          "Unnamed: 0": 346,
          "date": "2008-05-01",
          "price": 125.14,
          "symbol": "IBM"
         },
         {
          "Unnamed: 0": 347,
          "date": "2008-06-01",
          "price": 114.6,
          "symbol": "IBM"
         },
         {
          "Unnamed: 0": 348,
          "date": "2008-07-01",
          "price": 123.74,
          "symbol": "IBM"
         },
         {
          "Unnamed: 0": 349,
          "date": "2008-08-01",
          "price": 118.16,
          "symbol": "IBM"
         },
         {
          "Unnamed: 0": 350,
          "date": "2008-09-01",
          "price": 113.53,
          "symbol": "IBM"
         },
         {
          "Unnamed: 0": 351,
          "date": "2008-10-01",
          "price": 90.24,
          "symbol": "IBM"
         },
         {
          "Unnamed: 0": 352,
          "date": "2008-11-01",
          "price": 79.65,
          "symbol": "IBM"
         },
         {
          "Unnamed: 0": 353,
          "date": "2008-12-01",
          "price": 82.15,
          "symbol": "IBM"
         },
         {
          "Unnamed: 0": 354,
          "date": "2009-01-01",
          "price": 89.46,
          "symbol": "IBM"
         },
         {
          "Unnamed: 0": 355,
          "date": "2009-02-01",
          "price": 90.32,
          "symbol": "IBM"
         },
         {
          "Unnamed: 0": 356,
          "date": "2009-03-01",
          "price": 95.09,
          "symbol": "IBM"
         },
         {
          "Unnamed: 0": 357,
          "date": "2009-04-01",
          "price": 101.29,
          "symbol": "IBM"
         },
         {
          "Unnamed: 0": 358,
          "date": "2009-05-01",
          "price": 104.85,
          "symbol": "IBM"
         },
         {
          "Unnamed: 0": 359,
          "date": "2009-06-01",
          "price": 103.01,
          "symbol": "IBM"
         },
         {
          "Unnamed: 0": 360,
          "date": "2009-07-01",
          "price": 116.34,
          "symbol": "IBM"
         },
         {
          "Unnamed: 0": 361,
          "date": "2009-08-01",
          "price": 117,
          "symbol": "IBM"
         },
         {
          "Unnamed: 0": 362,
          "date": "2009-09-01",
          "price": 118.55,
          "symbol": "IBM"
         },
         {
          "Unnamed: 0": 363,
          "date": "2009-10-01",
          "price": 119.54,
          "symbol": "IBM"
         },
         {
          "Unnamed: 0": 364,
          "date": "2009-11-01",
          "price": 125.79,
          "symbol": "IBM"
         },
         {
          "Unnamed: 0": 365,
          "date": "2009-12-01",
          "price": 130.32,
          "symbol": "IBM"
         },
         {
          "Unnamed: 0": 366,
          "date": "2010-01-01",
          "price": 121.85,
          "symbol": "IBM"
         },
         {
          "Unnamed: 0": 367,
          "date": "2010-02-01",
          "price": 127.16,
          "symbol": "IBM"
         },
         {
          "Unnamed: 0": 368,
          "date": "2010-03-01",
          "price": 125.55,
          "symbol": "IBM"
         },
         {
          "Unnamed: 0": 369,
          "date": "2004-08-01",
          "price": 102.37,
          "symbol": "GOOG"
         },
         {
          "Unnamed: 0": 370,
          "date": "2004-09-01",
          "price": 129.6,
          "symbol": "GOOG"
         },
         {
          "Unnamed: 0": 371,
          "date": "2004-10-01",
          "price": 190.64,
          "symbol": "GOOG"
         },
         {
          "Unnamed: 0": 372,
          "date": "2004-11-01",
          "price": 181.98,
          "symbol": "GOOG"
         },
         {
          "Unnamed: 0": 373,
          "date": "2004-12-01",
          "price": 192.79,
          "symbol": "GOOG"
         },
         {
          "Unnamed: 0": 374,
          "date": "2005-01-01",
          "price": 195.62,
          "symbol": "GOOG"
         },
         {
          "Unnamed: 0": 375,
          "date": "2005-02-01",
          "price": 187.99,
          "symbol": "GOOG"
         },
         {
          "Unnamed: 0": 376,
          "date": "2005-03-01",
          "price": 180.51,
          "symbol": "GOOG"
         },
         {
          "Unnamed: 0": 377,
          "date": "2005-04-01",
          "price": 220,
          "symbol": "GOOG"
         },
         {
          "Unnamed: 0": 378,
          "date": "2005-05-01",
          "price": 277.27,
          "symbol": "GOOG"
         },
         {
          "Unnamed: 0": 379,
          "date": "2005-06-01",
          "price": 294.15,
          "symbol": "GOOG"
         },
         {
          "Unnamed: 0": 380,
          "date": "2005-07-01",
          "price": 287.76,
          "symbol": "GOOG"
         },
         {
          "Unnamed: 0": 381,
          "date": "2005-08-01",
          "price": 286,
          "symbol": "GOOG"
         },
         {
          "Unnamed: 0": 382,
          "date": "2005-09-01",
          "price": 316.46,
          "symbol": "GOOG"
         },
         {
          "Unnamed: 0": 383,
          "date": "2005-10-01",
          "price": 372.14,
          "symbol": "GOOG"
         },
         {
          "Unnamed: 0": 384,
          "date": "2005-11-01",
          "price": 404.91,
          "symbol": "GOOG"
         },
         {
          "Unnamed: 0": 385,
          "date": "2005-12-01",
          "price": 414.86,
          "symbol": "GOOG"
         },
         {
          "Unnamed: 0": 386,
          "date": "2006-01-01",
          "price": 432.66,
          "symbol": "GOOG"
         },
         {
          "Unnamed: 0": 387,
          "date": "2006-02-01",
          "price": 362.62,
          "symbol": "GOOG"
         },
         {
          "Unnamed: 0": 388,
          "date": "2006-03-01",
          "price": 390,
          "symbol": "GOOG"
         },
         {
          "Unnamed: 0": 389,
          "date": "2006-04-01",
          "price": 417.94,
          "symbol": "GOOG"
         },
         {
          "Unnamed: 0": 390,
          "date": "2006-05-01",
          "price": 371.82,
          "symbol": "GOOG"
         },
         {
          "Unnamed: 0": 391,
          "date": "2006-06-01",
          "price": 419.33,
          "symbol": "GOOG"
         },
         {
          "Unnamed: 0": 392,
          "date": "2006-07-01",
          "price": 386.6,
          "symbol": "GOOG"
         },
         {
          "Unnamed: 0": 393,
          "date": "2006-08-01",
          "price": 378.53,
          "symbol": "GOOG"
         },
         {
          "Unnamed: 0": 394,
          "date": "2006-09-01",
          "price": 401.9,
          "symbol": "GOOG"
         },
         {
          "Unnamed: 0": 395,
          "date": "2006-10-01",
          "price": 476.39,
          "symbol": "GOOG"
         },
         {
          "Unnamed: 0": 396,
          "date": "2006-11-01",
          "price": 484.81,
          "symbol": "GOOG"
         },
         {
          "Unnamed: 0": 397,
          "date": "2006-12-01",
          "price": 460.48,
          "symbol": "GOOG"
         },
         {
          "Unnamed: 0": 398,
          "date": "2007-01-01",
          "price": 501.5,
          "symbol": "GOOG"
         },
         {
          "Unnamed: 0": 399,
          "date": "2007-02-01",
          "price": 449.45,
          "symbol": "GOOG"
         },
         {
          "Unnamed: 0": 400,
          "date": "2007-03-01",
          "price": 458.16,
          "symbol": "GOOG"
         },
         {
          "Unnamed: 0": 401,
          "date": "2007-04-01",
          "price": 471.38,
          "symbol": "GOOG"
         },
         {
          "Unnamed: 0": 402,
          "date": "2007-05-01",
          "price": 497.91,
          "symbol": "GOOG"
         },
         {
          "Unnamed: 0": 403,
          "date": "2007-06-01",
          "price": 522.7,
          "symbol": "GOOG"
         },
         {
          "Unnamed: 0": 404,
          "date": "2007-07-01",
          "price": 510,
          "symbol": "GOOG"
         },
         {
          "Unnamed: 0": 405,
          "date": "2007-08-01",
          "price": 515.25,
          "symbol": "GOOG"
         },
         {
          "Unnamed: 0": 406,
          "date": "2007-09-01",
          "price": 567.27,
          "symbol": "GOOG"
         },
         {
          "Unnamed: 0": 407,
          "date": "2007-10-01",
          "price": 707,
          "symbol": "GOOG"
         },
         {
          "Unnamed: 0": 408,
          "date": "2007-11-01",
          "price": 693,
          "symbol": "GOOG"
         },
         {
          "Unnamed: 0": 409,
          "date": "2007-12-01",
          "price": 691.48,
          "symbol": "GOOG"
         },
         {
          "Unnamed: 0": 410,
          "date": "2008-01-01",
          "price": 564.3,
          "symbol": "GOOG"
         },
         {
          "Unnamed: 0": 411,
          "date": "2008-02-01",
          "price": 471.18,
          "symbol": "GOOG"
         },
         {
          "Unnamed: 0": 412,
          "date": "2008-03-01",
          "price": 440.47,
          "symbol": "GOOG"
         },
         {
          "Unnamed: 0": 413,
          "date": "2008-04-01",
          "price": 574.29,
          "symbol": "GOOG"
         },
         {
          "Unnamed: 0": 414,
          "date": "2008-05-01",
          "price": 585.8,
          "symbol": "GOOG"
         },
         {
          "Unnamed: 0": 415,
          "date": "2008-06-01",
          "price": 526.42,
          "symbol": "GOOG"
         },
         {
          "Unnamed: 0": 416,
          "date": "2008-07-01",
          "price": 473.75,
          "symbol": "GOOG"
         },
         {
          "Unnamed: 0": 417,
          "date": "2008-08-01",
          "price": 463.29,
          "symbol": "GOOG"
         },
         {
          "Unnamed: 0": 418,
          "date": "2008-09-01",
          "price": 400.52,
          "symbol": "GOOG"
         },
         {
          "Unnamed: 0": 419,
          "date": "2008-10-01",
          "price": 359.36,
          "symbol": "GOOG"
         },
         {
          "Unnamed: 0": 420,
          "date": "2008-11-01",
          "price": 292.96,
          "symbol": "GOOG"
         },
         {
          "Unnamed: 0": 421,
          "date": "2008-12-01",
          "price": 307.65,
          "symbol": "GOOG"
         },
         {
          "Unnamed: 0": 422,
          "date": "2009-01-01",
          "price": 338.53,
          "symbol": "GOOG"
         },
         {
          "Unnamed: 0": 423,
          "date": "2009-02-01",
          "price": 337.99,
          "symbol": "GOOG"
         },
         {
          "Unnamed: 0": 424,
          "date": "2009-03-01",
          "price": 348.06,
          "symbol": "GOOG"
         },
         {
          "Unnamed: 0": 425,
          "date": "2009-04-01",
          "price": 395.97,
          "symbol": "GOOG"
         },
         {
          "Unnamed: 0": 426,
          "date": "2009-05-01",
          "price": 417.23,
          "symbol": "GOOG"
         },
         {
          "Unnamed: 0": 427,
          "date": "2009-06-01",
          "price": 421.59,
          "symbol": "GOOG"
         },
         {
          "Unnamed: 0": 428,
          "date": "2009-07-01",
          "price": 443.05,
          "symbol": "GOOG"
         },
         {
          "Unnamed: 0": 429,
          "date": "2009-08-01",
          "price": 461.67,
          "symbol": "GOOG"
         },
         {
          "Unnamed: 0": 430,
          "date": "2009-09-01",
          "price": 495.85,
          "symbol": "GOOG"
         },
         {
          "Unnamed: 0": 431,
          "date": "2009-10-01",
          "price": 536.12,
          "symbol": "GOOG"
         },
         {
          "Unnamed: 0": 432,
          "date": "2009-11-01",
          "price": 583,
          "symbol": "GOOG"
         },
         {
          "Unnamed: 0": 433,
          "date": "2009-12-01",
          "price": 619.98,
          "symbol": "GOOG"
         },
         {
          "Unnamed: 0": 434,
          "date": "2010-01-01",
          "price": 529.94,
          "symbol": "GOOG"
         },
         {
          "Unnamed: 0": 435,
          "date": "2010-02-01",
          "price": 526.8,
          "symbol": "GOOG"
         },
         {
          "Unnamed: 0": 436,
          "date": "2010-03-01",
          "price": 560.19,
          "symbol": "GOOG"
         },
         {
          "Unnamed: 0": 437,
          "date": "2000-01-01",
          "price": 25.94,
          "symbol": "AAPL"
         },
         {
          "Unnamed: 0": 438,
          "date": "2000-02-01",
          "price": 28.66,
          "symbol": "AAPL"
         },
         {
          "Unnamed: 0": 439,
          "date": "2000-03-01",
          "price": 33.95,
          "symbol": "AAPL"
         },
         {
          "Unnamed: 0": 440,
          "date": "2000-04-01",
          "price": 31.01,
          "symbol": "AAPL"
         },
         {
          "Unnamed: 0": 441,
          "date": "2000-05-01",
          "price": 21,
          "symbol": "AAPL"
         },
         {
          "Unnamed: 0": 442,
          "date": "2000-06-01",
          "price": 26.19,
          "symbol": "AAPL"
         },
         {
          "Unnamed: 0": 443,
          "date": "2000-07-01",
          "price": 25.41,
          "symbol": "AAPL"
         },
         {
          "Unnamed: 0": 444,
          "date": "2000-08-01",
          "price": 30.47,
          "symbol": "AAPL"
         },
         {
          "Unnamed: 0": 445,
          "date": "2000-09-01",
          "price": 12.88,
          "symbol": "AAPL"
         },
         {
          "Unnamed: 0": 446,
          "date": "2000-10-01",
          "price": 9.78,
          "symbol": "AAPL"
         },
         {
          "Unnamed: 0": 447,
          "date": "2000-11-01",
          "price": 8.25,
          "symbol": "AAPL"
         },
         {
          "Unnamed: 0": 448,
          "date": "2000-12-01",
          "price": 7.44,
          "symbol": "AAPL"
         },
         {
          "Unnamed: 0": 449,
          "date": "2001-01-01",
          "price": 10.81,
          "symbol": "AAPL"
         },
         {
          "Unnamed: 0": 450,
          "date": "2001-02-01",
          "price": 9.12,
          "symbol": "AAPL"
         },
         {
          "Unnamed: 0": 451,
          "date": "2001-03-01",
          "price": 11.03,
          "symbol": "AAPL"
         },
         {
          "Unnamed: 0": 452,
          "date": "2001-04-01",
          "price": 12.74,
          "symbol": "AAPL"
         },
         {
          "Unnamed: 0": 453,
          "date": "2001-05-01",
          "price": 9.98,
          "symbol": "AAPL"
         },
         {
          "Unnamed: 0": 454,
          "date": "2001-06-01",
          "price": 11.62,
          "symbol": "AAPL"
         },
         {
          "Unnamed: 0": 455,
          "date": "2001-07-01",
          "price": 9.4,
          "symbol": "AAPL"
         },
         {
          "Unnamed: 0": 456,
          "date": "2001-08-01",
          "price": 9.27,
          "symbol": "AAPL"
         },
         {
          "Unnamed: 0": 457,
          "date": "2001-09-01",
          "price": 7.76,
          "symbol": "AAPL"
         },
         {
          "Unnamed: 0": 458,
          "date": "2001-10-01",
          "price": 8.78,
          "symbol": "AAPL"
         },
         {
          "Unnamed: 0": 459,
          "date": "2001-11-01",
          "price": 10.65,
          "symbol": "AAPL"
         },
         {
          "Unnamed: 0": 460,
          "date": "2001-12-01",
          "price": 10.95,
          "symbol": "AAPL"
         },
         {
          "Unnamed: 0": 461,
          "date": "2002-01-01",
          "price": 12.36,
          "symbol": "AAPL"
         },
         {
          "Unnamed: 0": 462,
          "date": "2002-02-01",
          "price": 10.85,
          "symbol": "AAPL"
         },
         {
          "Unnamed: 0": 463,
          "date": "2002-03-01",
          "price": 11.84,
          "symbol": "AAPL"
         },
         {
          "Unnamed: 0": 464,
          "date": "2002-04-01",
          "price": 12.14,
          "symbol": "AAPL"
         },
         {
          "Unnamed: 0": 465,
          "date": "2002-05-01",
          "price": 11.65,
          "symbol": "AAPL"
         },
         {
          "Unnamed: 0": 466,
          "date": "2002-06-01",
          "price": 8.86,
          "symbol": "AAPL"
         },
         {
          "Unnamed: 0": 467,
          "date": "2002-07-01",
          "price": 7.63,
          "symbol": "AAPL"
         },
         {
          "Unnamed: 0": 468,
          "date": "2002-08-01",
          "price": 7.38,
          "symbol": "AAPL"
         },
         {
          "Unnamed: 0": 469,
          "date": "2002-09-01",
          "price": 7.25,
          "symbol": "AAPL"
         },
         {
          "Unnamed: 0": 470,
          "date": "2002-10-01",
          "price": 8.03,
          "symbol": "AAPL"
         },
         {
          "Unnamed: 0": 471,
          "date": "2002-11-01",
          "price": 7.75,
          "symbol": "AAPL"
         },
         {
          "Unnamed: 0": 472,
          "date": "2002-12-01",
          "price": 7.16,
          "symbol": "AAPL"
         },
         {
          "Unnamed: 0": 473,
          "date": "2003-01-01",
          "price": 7.18,
          "symbol": "AAPL"
         },
         {
          "Unnamed: 0": 474,
          "date": "2003-02-01",
          "price": 7.51,
          "symbol": "AAPL"
         },
         {
          "Unnamed: 0": 475,
          "date": "2003-03-01",
          "price": 7.07,
          "symbol": "AAPL"
         },
         {
          "Unnamed: 0": 476,
          "date": "2003-04-01",
          "price": 7.11,
          "symbol": "AAPL"
         },
         {
          "Unnamed: 0": 477,
          "date": "2003-05-01",
          "price": 8.98,
          "symbol": "AAPL"
         },
         {
          "Unnamed: 0": 478,
          "date": "2003-06-01",
          "price": 9.53,
          "symbol": "AAPL"
         },
         {
          "Unnamed: 0": 479,
          "date": "2003-07-01",
          "price": 10.54,
          "symbol": "AAPL"
         },
         {
          "Unnamed: 0": 480,
          "date": "2003-08-01",
          "price": 11.31,
          "symbol": "AAPL"
         },
         {
          "Unnamed: 0": 481,
          "date": "2003-09-01",
          "price": 10.36,
          "symbol": "AAPL"
         },
         {
          "Unnamed: 0": 482,
          "date": "2003-10-01",
          "price": 11.44,
          "symbol": "AAPL"
         },
         {
          "Unnamed: 0": 483,
          "date": "2003-11-01",
          "price": 10.45,
          "symbol": "AAPL"
         },
         {
          "Unnamed: 0": 484,
          "date": "2003-12-01",
          "price": 10.69,
          "symbol": "AAPL"
         },
         {
          "Unnamed: 0": 485,
          "date": "2004-01-01",
          "price": 11.28,
          "symbol": "AAPL"
         },
         {
          "Unnamed: 0": 486,
          "date": "2004-02-01",
          "price": 11.96,
          "symbol": "AAPL"
         },
         {
          "Unnamed: 0": 487,
          "date": "2004-03-01",
          "price": 13.52,
          "symbol": "AAPL"
         },
         {
          "Unnamed: 0": 488,
          "date": "2004-04-01",
          "price": 12.89,
          "symbol": "AAPL"
         },
         {
          "Unnamed: 0": 489,
          "date": "2004-05-01",
          "price": 14.03,
          "symbol": "AAPL"
         },
         {
          "Unnamed: 0": 490,
          "date": "2004-06-01",
          "price": 16.27,
          "symbol": "AAPL"
         },
         {
          "Unnamed: 0": 491,
          "date": "2004-07-01",
          "price": 16.17,
          "symbol": "AAPL"
         },
         {
          "Unnamed: 0": 492,
          "date": "2004-08-01",
          "price": 17.25,
          "symbol": "AAPL"
         },
         {
          "Unnamed: 0": 493,
          "date": "2004-09-01",
          "price": 19.38,
          "symbol": "AAPL"
         },
         {
          "Unnamed: 0": 494,
          "date": "2004-10-01",
          "price": 26.2,
          "symbol": "AAPL"
         },
         {
          "Unnamed: 0": 495,
          "date": "2004-11-01",
          "price": 33.53,
          "symbol": "AAPL"
         },
         {
          "Unnamed: 0": 496,
          "date": "2004-12-01",
          "price": 32.2,
          "symbol": "AAPL"
         },
         {
          "Unnamed: 0": 497,
          "date": "2005-01-01",
          "price": 38.45,
          "symbol": "AAPL"
         },
         {
          "Unnamed: 0": 498,
          "date": "2005-02-01",
          "price": 44.86,
          "symbol": "AAPL"
         },
         {
          "Unnamed: 0": 499,
          "date": "2005-03-01",
          "price": 41.67,
          "symbol": "AAPL"
         },
         {
          "Unnamed: 0": 500,
          "date": "2005-04-01",
          "price": 36.06,
          "symbol": "AAPL"
         },
         {
          "Unnamed: 0": 501,
          "date": "2005-05-01",
          "price": 39.76,
          "symbol": "AAPL"
         },
         {
          "Unnamed: 0": 502,
          "date": "2005-06-01",
          "price": 36.81,
          "symbol": "AAPL"
         },
         {
          "Unnamed: 0": 503,
          "date": "2005-07-01",
          "price": 42.65,
          "symbol": "AAPL"
         },
         {
          "Unnamed: 0": 504,
          "date": "2005-08-01",
          "price": 46.89,
          "symbol": "AAPL"
         },
         {
          "Unnamed: 0": 505,
          "date": "2005-09-01",
          "price": 53.61,
          "symbol": "AAPL"
         },
         {
          "Unnamed: 0": 506,
          "date": "2005-10-01",
          "price": 57.59,
          "symbol": "AAPL"
         },
         {
          "Unnamed: 0": 507,
          "date": "2005-11-01",
          "price": 67.82,
          "symbol": "AAPL"
         },
         {
          "Unnamed: 0": 508,
          "date": "2005-12-01",
          "price": 71.89,
          "symbol": "AAPL"
         },
         {
          "Unnamed: 0": 509,
          "date": "2006-01-01",
          "price": 75.51,
          "symbol": "AAPL"
         },
         {
          "Unnamed: 0": 510,
          "date": "2006-02-01",
          "price": 68.49,
          "symbol": "AAPL"
         },
         {
          "Unnamed: 0": 511,
          "date": "2006-03-01",
          "price": 62.72,
          "symbol": "AAPL"
         },
         {
          "Unnamed: 0": 512,
          "date": "2006-04-01",
          "price": 70.39,
          "symbol": "AAPL"
         },
         {
          "Unnamed: 0": 513,
          "date": "2006-05-01",
          "price": 59.77,
          "symbol": "AAPL"
         },
         {
          "Unnamed: 0": 514,
          "date": "2006-06-01",
          "price": 57.27,
          "symbol": "AAPL"
         },
         {
          "Unnamed: 0": 515,
          "date": "2006-07-01",
          "price": 67.96,
          "symbol": "AAPL"
         },
         {
          "Unnamed: 0": 516,
          "date": "2006-08-01",
          "price": 67.85,
          "symbol": "AAPL"
         },
         {
          "Unnamed: 0": 517,
          "date": "2006-09-01",
          "price": 76.98,
          "symbol": "AAPL"
         },
         {
          "Unnamed: 0": 518,
          "date": "2006-10-01",
          "price": 81.08,
          "symbol": "AAPL"
         },
         {
          "Unnamed: 0": 519,
          "date": "2006-11-01",
          "price": 91.66,
          "symbol": "AAPL"
         },
         {
          "Unnamed: 0": 520,
          "date": "2006-12-01",
          "price": 84.84,
          "symbol": "AAPL"
         },
         {
          "Unnamed: 0": 521,
          "date": "2007-01-01",
          "price": 85.73,
          "symbol": "AAPL"
         },
         {
          "Unnamed: 0": 522,
          "date": "2007-02-01",
          "price": 84.61,
          "symbol": "AAPL"
         },
         {
          "Unnamed: 0": 523,
          "date": "2007-03-01",
          "price": 92.91,
          "symbol": "AAPL"
         },
         {
          "Unnamed: 0": 524,
          "date": "2007-04-01",
          "price": 99.8,
          "symbol": "AAPL"
         },
         {
          "Unnamed: 0": 525,
          "date": "2007-05-01",
          "price": 121.19,
          "symbol": "AAPL"
         },
         {
          "Unnamed: 0": 526,
          "date": "2007-06-01",
          "price": 122.04,
          "symbol": "AAPL"
         },
         {
          "Unnamed: 0": 527,
          "date": "2007-07-01",
          "price": 131.76,
          "symbol": "AAPL"
         },
         {
          "Unnamed: 0": 528,
          "date": "2007-08-01",
          "price": 138.48,
          "symbol": "AAPL"
         },
         {
          "Unnamed: 0": 529,
          "date": "2007-09-01",
          "price": 153.47,
          "symbol": "AAPL"
         },
         {
          "Unnamed: 0": 530,
          "date": "2007-10-01",
          "price": 189.95,
          "symbol": "AAPL"
         },
         {
          "Unnamed: 0": 531,
          "date": "2007-11-01",
          "price": 182.22,
          "symbol": "AAPL"
         },
         {
          "Unnamed: 0": 532,
          "date": "2007-12-01",
          "price": 198.08,
          "symbol": "AAPL"
         },
         {
          "Unnamed: 0": 533,
          "date": "2008-01-01",
          "price": 135.36,
          "symbol": "AAPL"
         },
         {
          "Unnamed: 0": 534,
          "date": "2008-02-01",
          "price": 125.02,
          "symbol": "AAPL"
         },
         {
          "Unnamed: 0": 535,
          "date": "2008-03-01",
          "price": 143.5,
          "symbol": "AAPL"
         },
         {
          "Unnamed: 0": 536,
          "date": "2008-04-01",
          "price": 173.95,
          "symbol": "AAPL"
         },
         {
          "Unnamed: 0": 537,
          "date": "2008-05-01",
          "price": 188.75,
          "symbol": "AAPL"
         },
         {
          "Unnamed: 0": 538,
          "date": "2008-06-01",
          "price": 167.44,
          "symbol": "AAPL"
         },
         {
          "Unnamed: 0": 539,
          "date": "2008-07-01",
          "price": 158.95,
          "symbol": "AAPL"
         },
         {
          "Unnamed: 0": 540,
          "date": "2008-08-01",
          "price": 169.53,
          "symbol": "AAPL"
         },
         {
          "Unnamed: 0": 541,
          "date": "2008-09-01",
          "price": 113.66,
          "symbol": "AAPL"
         },
         {
          "Unnamed: 0": 542,
          "date": "2008-10-01",
          "price": 107.59,
          "symbol": "AAPL"
         },
         {
          "Unnamed: 0": 543,
          "date": "2008-11-01",
          "price": 92.67,
          "symbol": "AAPL"
         },
         {
          "Unnamed: 0": 544,
          "date": "2008-12-01",
          "price": 85.35,
          "symbol": "AAPL"
         },
         {
          "Unnamed: 0": 545,
          "date": "2009-01-01",
          "price": 90.13,
          "symbol": "AAPL"
         },
         {
          "Unnamed: 0": 546,
          "date": "2009-02-01",
          "price": 89.31,
          "symbol": "AAPL"
         },
         {
          "Unnamed: 0": 547,
          "date": "2009-03-01",
          "price": 105.12,
          "symbol": "AAPL"
         },
         {
          "Unnamed: 0": 548,
          "date": "2009-04-01",
          "price": 125.83,
          "symbol": "AAPL"
         },
         {
          "Unnamed: 0": 549,
          "date": "2009-05-01",
          "price": 135.81,
          "symbol": "AAPL"
         },
         {
          "Unnamed: 0": 550,
          "date": "2009-06-01",
          "price": 142.43,
          "symbol": "AAPL"
         },
         {
          "Unnamed: 0": 551,
          "date": "2009-07-01",
          "price": 163.39,
          "symbol": "AAPL"
         },
         {
          "Unnamed: 0": 552,
          "date": "2009-08-01",
          "price": 168.21,
          "symbol": "AAPL"
         },
         {
          "Unnamed: 0": 553,
          "date": "2009-09-01",
          "price": 185.35,
          "symbol": "AAPL"
         },
         {
          "Unnamed: 0": 554,
          "date": "2009-10-01",
          "price": 188.5,
          "symbol": "AAPL"
         },
         {
          "Unnamed: 0": 555,
          "date": "2009-11-01",
          "price": 199.91,
          "symbol": "AAPL"
         },
         {
          "Unnamed: 0": 556,
          "date": "2009-12-01",
          "price": 210.73,
          "symbol": "AAPL"
         },
         {
          "Unnamed: 0": 557,
          "date": "2010-01-01",
          "price": 192.06,
          "symbol": "AAPL"
         },
         {
          "Unnamed: 0": 558,
          "date": "2010-02-01",
          "price": 204.62,
          "symbol": "AAPL"
         },
         {
          "Unnamed: 0": 559,
          "date": "2010-03-01",
          "price": 223.02,
          "symbol": "AAPL"
         }
        ]
       },
       "encoding": {
        "color": {
         "field": "symbol",
         "type": "nominal"
        },
        "tooltip": [
         {
          "field": "Unnamed: 0",
          "type": "quantitative"
         },
         {
          "field": "symbol",
          "type": "nominal"
         },
         {
          "field": "date",
          "type": "nominal"
         },
         {
          "field": "price",
          "type": "quantitative"
         }
        ],
        "x": {
         "field": "date",
         "type": "temporal"
        },
        "y": {
         "field": "price",
         "stack": "zero",
         "type": "quantitative"
        }
       },
       "height": 400,
       "mark": {
        "size": 8.130081300813009,
        "type": "bar"
       },
       "selection": {
        "selector052": {
         "bind": "scales",
         "encodings": [
          "x"
         ],
         "mark": {
          "fill": "#333",
          "fillOpacity": 0.125,
          "stroke": "white"
         },
         "on": "[mousedown, window:mouseup] > window:mousemove!",
         "resolve": "global",
         "translate": "[mousedown, window:mouseup] > window:mousemove!",
         "type": "interval",
         "zoom": "wheel!"
        }
       },
       "width": 1000
      },
      "image/png": "[encoded data removed]",
      "text/plain": [
       "<VegaLite 2 object>\n",
       "\n",
       "If you see this message, it means the renderer has not been properly enabled\n",
       "for the frontend that you are using. For more information, see\n",
       "https://altair-viz.github.io/user_guide/troubleshooting.html\n"
      ]
     },
     "execution_count": 83,
     "metadata": {},
     "output_type": "execute_result"
    }
   ],
   "source": [
    "barChart(data, \"date:T\", \"price:Q\", \"symbol\")"
   ]
  },
  {
   "cell_type": "code",
   "execution_count": 84,
   "metadata": {},
   "outputs": [],
   "source": [
    "def lineChart(data, x, y, color, y2 = None, height = 400, width = 1000):\n",
    "    dims = calcSizes(data, x, width)\n",
    "    \n",
    "    chart = alt.Chart(data).mark_line(size = dims[0]).encode(\n",
    "        x = alt.X(x),\n",
    "        y = alt.Y(y),\n",
    "        color = alt.Color(color),\n",
    "        tooltip = data.columns.tolist()\n",
    "    ).properties(\n",
    "        width = width,\n",
    "        height = height\n",
    "    ).interactive(\n",
    "        bind_y = False\n",
    "    )\n",
    "    return chart"
   ]
  },
  {
   "cell_type": "code",
   "execution_count": 85,
   "metadata": {},
   "outputs": [
    {
     "data": {
      "application/vnd.vegalite.v2+json": {
       "$schema": "https://vega.github.io/schema/vega-lite/v2.4.3.json",
       "config": {
        "view": {
         "height": 300,
         "width": 400
        }
       },
       "data": {
        "values": [
         {
          "Unnamed: 0": 0,
          "date": "2000-01-01",
          "price": 39.81,
          "symbol": "MSFT"
         },
         {
          "Unnamed: 0": 1,
          "date": "2000-02-01",
          "price": 36.35,
          "symbol": "MSFT"
         },
         {
          "Unnamed: 0": 2,
          "date": "2000-03-01",
          "price": 43.22,
          "symbol": "MSFT"
         },
         {
          "Unnamed: 0": 3,
          "date": "2000-04-01",
          "price": 28.37,
          "symbol": "MSFT"
         },
         {
          "Unnamed: 0": 4,
          "date": "2000-05-01",
          "price": 25.45,
          "symbol": "MSFT"
         },
         {
          "Unnamed: 0": 5,
          "date": "2000-06-01",
          "price": 32.54,
          "symbol": "MSFT"
         },
         {
          "Unnamed: 0": 6,
          "date": "2000-07-01",
          "price": 28.4,
          "symbol": "MSFT"
         },
         {
          "Unnamed: 0": 7,
          "date": "2000-08-01",
          "price": 28.4,
          "symbol": "MSFT"
         },
         {
          "Unnamed: 0": 8,
          "date": "2000-09-01",
          "price": 24.53,
          "symbol": "MSFT"
         },
         {
          "Unnamed: 0": 9,
          "date": "2000-10-01",
          "price": 28.02,
          "symbol": "MSFT"
         },
         {
          "Unnamed: 0": 10,
          "date": "2000-11-01",
          "price": 23.34,
          "symbol": "MSFT"
         },
         {
          "Unnamed: 0": 11,
          "date": "2000-12-01",
          "price": 17.65,
          "symbol": "MSFT"
         },
         {
          "Unnamed: 0": 12,
          "date": "2001-01-01",
          "price": 24.84,
          "symbol": "MSFT"
         },
         {
          "Unnamed: 0": 13,
          "date": "2001-02-01",
          "price": 24,
          "symbol": "MSFT"
         },
         {
          "Unnamed: 0": 14,
          "date": "2001-03-01",
          "price": 22.25,
          "symbol": "MSFT"
         },
         {
          "Unnamed: 0": 15,
          "date": "2001-04-01",
          "price": 27.56,
          "symbol": "MSFT"
         },
         {
          "Unnamed: 0": 16,
          "date": "2001-05-01",
          "price": 28.14,
          "symbol": "MSFT"
         },
         {
          "Unnamed: 0": 17,
          "date": "2001-06-01",
          "price": 29.7,
          "symbol": "MSFT"
         },
         {
          "Unnamed: 0": 18,
          "date": "2001-07-01",
          "price": 26.93,
          "symbol": "MSFT"
         },
         {
          "Unnamed: 0": 19,
          "date": "2001-08-01",
          "price": 23.21,
          "symbol": "MSFT"
         },
         {
          "Unnamed: 0": 20,
          "date": "2001-09-01",
          "price": 20.82,
          "symbol": "MSFT"
         },
         {
          "Unnamed: 0": 21,
          "date": "2001-10-01",
          "price": 23.65,
          "symbol": "MSFT"
         },
         {
          "Unnamed: 0": 22,
          "date": "2001-11-01",
          "price": 26.12,
          "symbol": "MSFT"
         },
         {
          "Unnamed: 0": 23,
          "date": "2001-12-01",
          "price": 26.95,
          "symbol": "MSFT"
         },
         {
          "Unnamed: 0": 24,
          "date": "2002-01-01",
          "price": 25.92,
          "symbol": "MSFT"
         },
         {
          "Unnamed: 0": 25,
          "date": "2002-02-01",
          "price": 23.73,
          "symbol": "MSFT"
         },
         {
          "Unnamed: 0": 26,
          "date": "2002-03-01",
          "price": 24.53,
          "symbol": "MSFT"
         },
         {
          "Unnamed: 0": 27,
          "date": "2002-04-01",
          "price": 21.26,
          "symbol": "MSFT"
         },
         {
          "Unnamed: 0": 28,
          "date": "2002-05-01",
          "price": 20.71,
          "symbol": "MSFT"
         },
         {
          "Unnamed: 0": 29,
          "date": "2002-06-01",
          "price": 22.25,
          "symbol": "MSFT"
         },
         {
          "Unnamed: 0": 30,
          "date": "2002-07-01",
          "price": 19.52,
          "symbol": "MSFT"
         },
         {
          "Unnamed: 0": 31,
          "date": "2002-08-01",
          "price": 19.97,
          "symbol": "MSFT"
         },
         {
          "Unnamed: 0": 32,
          "date": "2002-09-01",
          "price": 17.79,
          "symbol": "MSFT"
         },
         {
          "Unnamed: 0": 33,
          "date": "2002-10-01",
          "price": 21.75,
          "symbol": "MSFT"
         },
         {
          "Unnamed: 0": 34,
          "date": "2002-11-01",
          "price": 23.46,
          "symbol": "MSFT"
         },
         {
          "Unnamed: 0": 35,
          "date": "2002-12-01",
          "price": 21.03,
          "symbol": "MSFT"
         },
         {
          "Unnamed: 0": 36,
          "date": "2003-01-01",
          "price": 19.31,
          "symbol": "MSFT"
         },
         {
          "Unnamed: 0": 37,
          "date": "2003-02-01",
          "price": 19.34,
          "symbol": "MSFT"
         },
         {
          "Unnamed: 0": 38,
          "date": "2003-03-01",
          "price": 19.76,
          "symbol": "MSFT"
         },
         {
          "Unnamed: 0": 39,
          "date": "2003-04-01",
          "price": 20.87,
          "symbol": "MSFT"
         },
         {
          "Unnamed: 0": 40,
          "date": "2003-05-01",
          "price": 20.09,
          "symbol": "MSFT"
         },
         {
          "Unnamed: 0": 41,
          "date": "2003-06-01",
          "price": 20.93,
          "symbol": "MSFT"
         },
         {
          "Unnamed: 0": 42,
          "date": "2003-07-01",
          "price": 21.56,
          "symbol": "MSFT"
         },
         {
          "Unnamed: 0": 43,
          "date": "2003-08-01",
          "price": 21.65,
          "symbol": "MSFT"
         },
         {
          "Unnamed: 0": 44,
          "date": "2003-09-01",
          "price": 22.69,
          "symbol": "MSFT"
         },
         {
          "Unnamed: 0": 45,
          "date": "2003-10-01",
          "price": 21.45,
          "symbol": "MSFT"
         },
         {
          "Unnamed: 0": 46,
          "date": "2003-11-01",
          "price": 21.1,
          "symbol": "MSFT"
         },
         {
          "Unnamed: 0": 47,
          "date": "2003-12-01",
          "price": 22.46,
          "symbol": "MSFT"
         },
         {
          "Unnamed: 0": 48,
          "date": "2004-01-01",
          "price": 22.69,
          "symbol": "MSFT"
         },
         {
          "Unnamed: 0": 49,
          "date": "2004-02-01",
          "price": 21.77,
          "symbol": "MSFT"
         },
         {
          "Unnamed: 0": 50,
          "date": "2004-03-01",
          "price": 20.46,
          "symbol": "MSFT"
         },
         {
          "Unnamed: 0": 51,
          "date": "2004-04-01",
          "price": 21.45,
          "symbol": "MSFT"
         },
         {
          "Unnamed: 0": 52,
          "date": "2004-05-01",
          "price": 21.53,
          "symbol": "MSFT"
         },
         {
          "Unnamed: 0": 53,
          "date": "2004-06-01",
          "price": 23.44,
          "symbol": "MSFT"
         },
         {
          "Unnamed: 0": 54,
          "date": "2004-07-01",
          "price": 23.38,
          "symbol": "MSFT"
         },
         {
          "Unnamed: 0": 55,
          "date": "2004-08-01",
          "price": 22.47,
          "symbol": "MSFT"
         },
         {
          "Unnamed: 0": 56,
          "date": "2004-09-01",
          "price": 22.76,
          "symbol": "MSFT"
         },
         {
          "Unnamed: 0": 57,
          "date": "2004-10-01",
          "price": 23.02,
          "symbol": "MSFT"
         },
         {
          "Unnamed: 0": 58,
          "date": "2004-11-01",
          "price": 24.6,
          "symbol": "MSFT"
         },
         {
          "Unnamed: 0": 59,
          "date": "2004-12-01",
          "price": 24.52,
          "symbol": "MSFT"
         },
         {
          "Unnamed: 0": 60,
          "date": "2005-01-01",
          "price": 24.11,
          "symbol": "MSFT"
         },
         {
          "Unnamed: 0": 61,
          "date": "2005-02-01",
          "price": 23.15,
          "symbol": "MSFT"
         },
         {
          "Unnamed: 0": 62,
          "date": "2005-03-01",
          "price": 22.24,
          "symbol": "MSFT"
         },
         {
          "Unnamed: 0": 63,
          "date": "2005-04-01",
          "price": 23.28,
          "symbol": "MSFT"
         },
         {
          "Unnamed: 0": 64,
          "date": "2005-05-01",
          "price": 23.82,
          "symbol": "MSFT"
         },
         {
          "Unnamed: 0": 65,
          "date": "2005-06-01",
          "price": 22.93,
          "symbol": "MSFT"
         },
         {
          "Unnamed: 0": 66,
          "date": "2005-07-01",
          "price": 23.64,
          "symbol": "MSFT"
         },
         {
          "Unnamed: 0": 67,
          "date": "2005-08-01",
          "price": 25.35,
          "symbol": "MSFT"
         },
         {
          "Unnamed: 0": 68,
          "date": "2005-09-01",
          "price": 23.83,
          "symbol": "MSFT"
         },
         {
          "Unnamed: 0": 69,
          "date": "2005-10-01",
          "price": 23.8,
          "symbol": "MSFT"
         },
         {
          "Unnamed: 0": 70,
          "date": "2005-11-01",
          "price": 25.71,
          "symbol": "MSFT"
         },
         {
          "Unnamed: 0": 71,
          "date": "2005-12-01",
          "price": 24.29,
          "symbol": "MSFT"
         },
         {
          "Unnamed: 0": 72,
          "date": "2006-01-01",
          "price": 26.14,
          "symbol": "MSFT"
         },
         {
          "Unnamed: 0": 73,
          "date": "2006-02-01",
          "price": 25.04,
          "symbol": "MSFT"
         },
         {
          "Unnamed: 0": 74,
          "date": "2006-03-01",
          "price": 25.36,
          "symbol": "MSFT"
         },
         {
          "Unnamed: 0": 75,
          "date": "2006-04-01",
          "price": 22.5,
          "symbol": "MSFT"
         },
         {
          "Unnamed: 0": 76,
          "date": "2006-05-01",
          "price": 21.19,
          "symbol": "MSFT"
         },
         {
          "Unnamed: 0": 77,
          "date": "2006-06-01",
          "price": 21.8,
          "symbol": "MSFT"
         },
         {
          "Unnamed: 0": 78,
          "date": "2006-07-01",
          "price": 22.51,
          "symbol": "MSFT"
         },
         {
          "Unnamed: 0": 79,
          "date": "2006-08-01",
          "price": 24.13,
          "symbol": "MSFT"
         },
         {
          "Unnamed: 0": 80,
          "date": "2006-09-01",
          "price": 25.68,
          "symbol": "MSFT"
         },
         {
          "Unnamed: 0": 81,
          "date": "2006-10-01",
          "price": 26.96,
          "symbol": "MSFT"
         },
         {
          "Unnamed: 0": 82,
          "date": "2006-11-01",
          "price": 27.66,
          "symbol": "MSFT"
         },
         {
          "Unnamed: 0": 83,
          "date": "2006-12-01",
          "price": 28.13,
          "symbol": "MSFT"
         },
         {
          "Unnamed: 0": 84,
          "date": "2007-01-01",
          "price": 29.07,
          "symbol": "MSFT"
         },
         {
          "Unnamed: 0": 85,
          "date": "2007-02-01",
          "price": 26.63,
          "symbol": "MSFT"
         },
         {
          "Unnamed: 0": 86,
          "date": "2007-03-01",
          "price": 26.35,
          "symbol": "MSFT"
         },
         {
          "Unnamed: 0": 87,
          "date": "2007-04-01",
          "price": 28.3,
          "symbol": "MSFT"
         },
         {
          "Unnamed: 0": 88,
          "date": "2007-05-01",
          "price": 29.11,
          "symbol": "MSFT"
         },
         {
          "Unnamed: 0": 89,
          "date": "2007-06-01",
          "price": 27.95,
          "symbol": "MSFT"
         },
         {
          "Unnamed: 0": 90,
          "date": "2007-07-01",
          "price": 27.5,
          "symbol": "MSFT"
         },
         {
          "Unnamed: 0": 91,
          "date": "2007-08-01",
          "price": 27.34,
          "symbol": "MSFT"
         },
         {
          "Unnamed: 0": 92,
          "date": "2007-09-01",
          "price": 28.04,
          "symbol": "MSFT"
         },
         {
          "Unnamed: 0": 93,
          "date": "2007-10-01",
          "price": 35.03,
          "symbol": "MSFT"
         },
         {
          "Unnamed: 0": 94,
          "date": "2007-11-01",
          "price": 32.09,
          "symbol": "MSFT"
         },
         {
          "Unnamed: 0": 95,
          "date": "2007-12-01",
          "price": 34,
          "symbol": "MSFT"
         },
         {
          "Unnamed: 0": 96,
          "date": "2008-01-01",
          "price": 31.13,
          "symbol": "MSFT"
         },
         {
          "Unnamed: 0": 97,
          "date": "2008-02-01",
          "price": 26.07,
          "symbol": "MSFT"
         },
         {
          "Unnamed: 0": 98,
          "date": "2008-03-01",
          "price": 27.21,
          "symbol": "MSFT"
         },
         {
          "Unnamed: 0": 99,
          "date": "2008-04-01",
          "price": 27.34,
          "symbol": "MSFT"
         },
         {
          "Unnamed: 0": 100,
          "date": "2008-05-01",
          "price": 27.25,
          "symbol": "MSFT"
         },
         {
          "Unnamed: 0": 101,
          "date": "2008-06-01",
          "price": 26.47,
          "symbol": "MSFT"
         },
         {
          "Unnamed: 0": 102,
          "date": "2008-07-01",
          "price": 24.75,
          "symbol": "MSFT"
         },
         {
          "Unnamed: 0": 103,
          "date": "2008-08-01",
          "price": 26.36,
          "symbol": "MSFT"
         },
         {
          "Unnamed: 0": 104,
          "date": "2008-09-01",
          "price": 25.78,
          "symbol": "MSFT"
         },
         {
          "Unnamed: 0": 105,
          "date": "2008-10-01",
          "price": 21.57,
          "symbol": "MSFT"
         },
         {
          "Unnamed: 0": 106,
          "date": "2008-11-01",
          "price": 19.66,
          "symbol": "MSFT"
         },
         {
          "Unnamed: 0": 107,
          "date": "2008-12-01",
          "price": 18.91,
          "symbol": "MSFT"
         },
         {
          "Unnamed: 0": 108,
          "date": "2009-01-01",
          "price": 16.63,
          "symbol": "MSFT"
         },
         {
          "Unnamed: 0": 109,
          "date": "2009-02-01",
          "price": 15.81,
          "symbol": "MSFT"
         },
         {
          "Unnamed: 0": 110,
          "date": "2009-03-01",
          "price": 17.99,
          "symbol": "MSFT"
         },
         {
          "Unnamed: 0": 111,
          "date": "2009-04-01",
          "price": 19.84,
          "symbol": "MSFT"
         },
         {
          "Unnamed: 0": 112,
          "date": "2009-05-01",
          "price": 20.59,
          "symbol": "MSFT"
         },
         {
          "Unnamed: 0": 113,
          "date": "2009-06-01",
          "price": 23.42,
          "symbol": "MSFT"
         },
         {
          "Unnamed: 0": 114,
          "date": "2009-07-01",
          "price": 23.18,
          "symbol": "MSFT"
         },
         {
          "Unnamed: 0": 115,
          "date": "2009-08-01",
          "price": 24.43,
          "symbol": "MSFT"
         },
         {
          "Unnamed: 0": 116,
          "date": "2009-09-01",
          "price": 25.49,
          "symbol": "MSFT"
         },
         {
          "Unnamed: 0": 117,
          "date": "2009-10-01",
          "price": 27.48,
          "symbol": "MSFT"
         },
         {
          "Unnamed: 0": 118,
          "date": "2009-11-01",
          "price": 29.27,
          "symbol": "MSFT"
         },
         {
          "Unnamed: 0": 119,
          "date": "2009-12-01",
          "price": 30.34,
          "symbol": "MSFT"
         },
         {
          "Unnamed: 0": 120,
          "date": "2010-01-01",
          "price": 28.05,
          "symbol": "MSFT"
         },
         {
          "Unnamed: 0": 121,
          "date": "2010-02-01",
          "price": 28.67,
          "symbol": "MSFT"
         },
         {
          "Unnamed: 0": 122,
          "date": "2010-03-01",
          "price": 28.8,
          "symbol": "MSFT"
         },
         {
          "Unnamed: 0": 123,
          "date": "2000-01-01",
          "price": 64.56,
          "symbol": "AMZN"
         },
         {
          "Unnamed: 0": 124,
          "date": "2000-02-01",
          "price": 68.87,
          "symbol": "AMZN"
         },
         {
          "Unnamed: 0": 125,
          "date": "2000-03-01",
          "price": 67,
          "symbol": "AMZN"
         },
         {
          "Unnamed: 0": 126,
          "date": "2000-04-01",
          "price": 55.19,
          "symbol": "AMZN"
         },
         {
          "Unnamed: 0": 127,
          "date": "2000-05-01",
          "price": 48.31,
          "symbol": "AMZN"
         },
         {
          "Unnamed: 0": 128,
          "date": "2000-06-01",
          "price": 36.31,
          "symbol": "AMZN"
         },
         {
          "Unnamed: 0": 129,
          "date": "2000-07-01",
          "price": 30.12,
          "symbol": "AMZN"
         },
         {
          "Unnamed: 0": 130,
          "date": "2000-08-01",
          "price": 41.5,
          "symbol": "AMZN"
         },
         {
          "Unnamed: 0": 131,
          "date": "2000-09-01",
          "price": 38.44,
          "symbol": "AMZN"
         },
         {
          "Unnamed: 0": 132,
          "date": "2000-10-01",
          "price": 36.62,
          "symbol": "AMZN"
         },
         {
          "Unnamed: 0": 133,
          "date": "2000-11-01",
          "price": 24.69,
          "symbol": "AMZN"
         },
         {
          "Unnamed: 0": 134,
          "date": "2000-12-01",
          "price": 15.56,
          "symbol": "AMZN"
         },
         {
          "Unnamed: 0": 135,
          "date": "2001-01-01",
          "price": 17.31,
          "symbol": "AMZN"
         },
         {
          "Unnamed: 0": 136,
          "date": "2001-02-01",
          "price": 10.19,
          "symbol": "AMZN"
         },
         {
          "Unnamed: 0": 137,
          "date": "2001-03-01",
          "price": 10.23,
          "symbol": "AMZN"
         },
         {
          "Unnamed: 0": 138,
          "date": "2001-04-01",
          "price": 15.78,
          "symbol": "AMZN"
         },
         {
          "Unnamed: 0": 139,
          "date": "2001-05-01",
          "price": 16.69,
          "symbol": "AMZN"
         },
         {
          "Unnamed: 0": 140,
          "date": "2001-06-01",
          "price": 14.15,
          "symbol": "AMZN"
         },
         {
          "Unnamed: 0": 141,
          "date": "2001-07-01",
          "price": 12.49,
          "symbol": "AMZN"
         },
         {
          "Unnamed: 0": 142,
          "date": "2001-08-01",
          "price": 8.94,
          "symbol": "AMZN"
         },
         {
          "Unnamed: 0": 143,
          "date": "2001-09-01",
          "price": 5.97,
          "symbol": "AMZN"
         },
         {
          "Unnamed: 0": 144,
          "date": "2001-10-01",
          "price": 6.98,
          "symbol": "AMZN"
         },
         {
          "Unnamed: 0": 145,
          "date": "2001-11-01",
          "price": 11.32,
          "symbol": "AMZN"
         },
         {
          "Unnamed: 0": 146,
          "date": "2001-12-01",
          "price": 10.82,
          "symbol": "AMZN"
         },
         {
          "Unnamed: 0": 147,
          "date": "2002-01-01",
          "price": 14.19,
          "symbol": "AMZN"
         },
         {
          "Unnamed: 0": 148,
          "date": "2002-02-01",
          "price": 14.1,
          "symbol": "AMZN"
         },
         {
          "Unnamed: 0": 149,
          "date": "2002-03-01",
          "price": 14.3,
          "symbol": "AMZN"
         },
         {
          "Unnamed: 0": 150,
          "date": "2002-04-01",
          "price": 16.69,
          "symbol": "AMZN"
         },
         {
          "Unnamed: 0": 151,
          "date": "2002-05-01",
          "price": 18.23,
          "symbol": "AMZN"
         },
         {
          "Unnamed: 0": 152,
          "date": "2002-06-01",
          "price": 16.25,
          "symbol": "AMZN"
         },
         {
          "Unnamed: 0": 153,
          "date": "2002-07-01",
          "price": 14.45,
          "symbol": "AMZN"
         },
         {
          "Unnamed: 0": 154,
          "date": "2002-08-01",
          "price": 14.94,
          "symbol": "AMZN"
         },
         {
          "Unnamed: 0": 155,
          "date": "2002-09-01",
          "price": 15.93,
          "symbol": "AMZN"
         },
         {
          "Unnamed: 0": 156,
          "date": "2002-10-01",
          "price": 19.36,
          "symbol": "AMZN"
         },
         {
          "Unnamed: 0": 157,
          "date": "2002-11-01",
          "price": 23.35,
          "symbol": "AMZN"
         },
         {
          "Unnamed: 0": 158,
          "date": "2002-12-01",
          "price": 18.89,
          "symbol": "AMZN"
         },
         {
          "Unnamed: 0": 159,
          "date": "2003-01-01",
          "price": 21.85,
          "symbol": "AMZN"
         },
         {
          "Unnamed: 0": 160,
          "date": "2003-02-01",
          "price": 22.01,
          "symbol": "AMZN"
         },
         {
          "Unnamed: 0": 161,
          "date": "2003-03-01",
          "price": 26.03,
          "symbol": "AMZN"
         },
         {
          "Unnamed: 0": 162,
          "date": "2003-04-01",
          "price": 28.69,
          "symbol": "AMZN"
         },
         {
          "Unnamed: 0": 163,
          "date": "2003-05-01",
          "price": 35.89,
          "symbol": "AMZN"
         },
         {
          "Unnamed: 0": 164,
          "date": "2003-06-01",
          "price": 36.32,
          "symbol": "AMZN"
         },
         {
          "Unnamed: 0": 165,
          "date": "2003-07-01",
          "price": 41.64,
          "symbol": "AMZN"
         },
         {
          "Unnamed: 0": 166,
          "date": "2003-08-01",
          "price": 46.32,
          "symbol": "AMZN"
         },
         {
          "Unnamed: 0": 167,
          "date": "2003-09-01",
          "price": 48.43,
          "symbol": "AMZN"
         },
         {
          "Unnamed: 0": 168,
          "date": "2003-10-01",
          "price": 54.43,
          "symbol": "AMZN"
         },
         {
          "Unnamed: 0": 169,
          "date": "2003-11-01",
          "price": 53.97,
          "symbol": "AMZN"
         },
         {
          "Unnamed: 0": 170,
          "date": "2003-12-01",
          "price": 52.62,
          "symbol": "AMZN"
         },
         {
          "Unnamed: 0": 171,
          "date": "2004-01-01",
          "price": 50.4,
          "symbol": "AMZN"
         },
         {
          "Unnamed: 0": 172,
          "date": "2004-02-01",
          "price": 43.01,
          "symbol": "AMZN"
         },
         {
          "Unnamed: 0": 173,
          "date": "2004-03-01",
          "price": 43.28,
          "symbol": "AMZN"
         },
         {
          "Unnamed: 0": 174,
          "date": "2004-04-01",
          "price": 43.6,
          "symbol": "AMZN"
         },
         {
          "Unnamed: 0": 175,
          "date": "2004-05-01",
          "price": 48.5,
          "symbol": "AMZN"
         },
         {
          "Unnamed: 0": 176,
          "date": "2004-06-01",
          "price": 54.4,
          "symbol": "AMZN"
         },
         {
          "Unnamed: 0": 177,
          "date": "2004-07-01",
          "price": 38.92,
          "symbol": "AMZN"
         },
         {
          "Unnamed: 0": 178,
          "date": "2004-08-01",
          "price": 38.14,
          "symbol": "AMZN"
         },
         {
          "Unnamed: 0": 179,
          "date": "2004-09-01",
          "price": 40.86,
          "symbol": "AMZN"
         },
         {
          "Unnamed: 0": 180,
          "date": "2004-10-01",
          "price": 34.13,
          "symbol": "AMZN"
         },
         {
          "Unnamed: 0": 181,
          "date": "2004-11-01",
          "price": 39.68,
          "symbol": "AMZN"
         },
         {
          "Unnamed: 0": 182,
          "date": "2004-12-01",
          "price": 44.29,
          "symbol": "AMZN"
         },
         {
          "Unnamed: 0": 183,
          "date": "2005-01-01",
          "price": 43.22,
          "symbol": "AMZN"
         },
         {
          "Unnamed: 0": 184,
          "date": "2005-02-01",
          "price": 35.18,
          "symbol": "AMZN"
         },
         {
          "Unnamed: 0": 185,
          "date": "2005-03-01",
          "price": 34.27,
          "symbol": "AMZN"
         },
         {
          "Unnamed: 0": 186,
          "date": "2005-04-01",
          "price": 32.36,
          "symbol": "AMZN"
         },
         {
          "Unnamed: 0": 187,
          "date": "2005-05-01",
          "price": 35.51,
          "symbol": "AMZN"
         },
         {
          "Unnamed: 0": 188,
          "date": "2005-06-01",
          "price": 33.09,
          "symbol": "AMZN"
         },
         {
          "Unnamed: 0": 189,
          "date": "2005-07-01",
          "price": 45.15,
          "symbol": "AMZN"
         },
         {
          "Unnamed: 0": 190,
          "date": "2005-08-01",
          "price": 42.7,
          "symbol": "AMZN"
         },
         {
          "Unnamed: 0": 191,
          "date": "2005-09-01",
          "price": 45.3,
          "symbol": "AMZN"
         },
         {
          "Unnamed: 0": 192,
          "date": "2005-10-01",
          "price": 39.86,
          "symbol": "AMZN"
         },
         {
          "Unnamed: 0": 193,
          "date": "2005-11-01",
          "price": 48.46,
          "symbol": "AMZN"
         },
         {
          "Unnamed: 0": 194,
          "date": "2005-12-01",
          "price": 47.15,
          "symbol": "AMZN"
         },
         {
          "Unnamed: 0": 195,
          "date": "2006-01-01",
          "price": 44.82,
          "symbol": "AMZN"
         },
         {
          "Unnamed: 0": 196,
          "date": "2006-02-01",
          "price": 37.44,
          "symbol": "AMZN"
         },
         {
          "Unnamed: 0": 197,
          "date": "2006-03-01",
          "price": 36.53,
          "symbol": "AMZN"
         },
         {
          "Unnamed: 0": 198,
          "date": "2006-04-01",
          "price": 35.21,
          "symbol": "AMZN"
         },
         {
          "Unnamed: 0": 199,
          "date": "2006-05-01",
          "price": 34.61,
          "symbol": "AMZN"
         },
         {
          "Unnamed: 0": 200,
          "date": "2006-06-01",
          "price": 38.68,
          "symbol": "AMZN"
         },
         {
          "Unnamed: 0": 201,
          "date": "2006-07-01",
          "price": 26.89,
          "symbol": "AMZN"
         },
         {
          "Unnamed: 0": 202,
          "date": "2006-08-01",
          "price": 30.83,
          "symbol": "AMZN"
         },
         {
          "Unnamed: 0": 203,
          "date": "2006-09-01",
          "price": 32.12,
          "symbol": "AMZN"
         },
         {
          "Unnamed: 0": 204,
          "date": "2006-10-01",
          "price": 38.09,
          "symbol": "AMZN"
         },
         {
          "Unnamed: 0": 205,
          "date": "2006-11-01",
          "price": 40.34,
          "symbol": "AMZN"
         },
         {
          "Unnamed: 0": 206,
          "date": "2006-12-01",
          "price": 39.46,
          "symbol": "AMZN"
         },
         {
          "Unnamed: 0": 207,
          "date": "2007-01-01",
          "price": 37.67,
          "symbol": "AMZN"
         },
         {
          "Unnamed: 0": 208,
          "date": "2007-02-01",
          "price": 39.14,
          "symbol": "AMZN"
         },
         {
          "Unnamed: 0": 209,
          "date": "2007-03-01",
          "price": 39.79,
          "symbol": "AMZN"
         },
         {
          "Unnamed: 0": 210,
          "date": "2007-04-01",
          "price": 61.33,
          "symbol": "AMZN"
         },
         {
          "Unnamed: 0": 211,
          "date": "2007-05-01",
          "price": 69.14,
          "symbol": "AMZN"
         },
         {
          "Unnamed: 0": 212,
          "date": "2007-06-01",
          "price": 68.41,
          "symbol": "AMZN"
         },
         {
          "Unnamed: 0": 213,
          "date": "2007-07-01",
          "price": 78.54,
          "symbol": "AMZN"
         },
         {
          "Unnamed: 0": 214,
          "date": "2007-08-01",
          "price": 79.91,
          "symbol": "AMZN"
         },
         {
          "Unnamed: 0": 215,
          "date": "2007-09-01",
          "price": 93.15,
          "symbol": "AMZN"
         },
         {
          "Unnamed: 0": 216,
          "date": "2007-10-01",
          "price": 89.15,
          "symbol": "AMZN"
         },
         {
          "Unnamed: 0": 217,
          "date": "2007-11-01",
          "price": 90.56,
          "symbol": "AMZN"
         },
         {
          "Unnamed: 0": 218,
          "date": "2007-12-01",
          "price": 92.64,
          "symbol": "AMZN"
         },
         {
          "Unnamed: 0": 219,
          "date": "2008-01-01",
          "price": 77.7,
          "symbol": "AMZN"
         },
         {
          "Unnamed: 0": 220,
          "date": "2008-02-01",
          "price": 64.47,
          "symbol": "AMZN"
         },
         {
          "Unnamed: 0": 221,
          "date": "2008-03-01",
          "price": 71.3,
          "symbol": "AMZN"
         },
         {
          "Unnamed: 0": 222,
          "date": "2008-04-01",
          "price": 78.63,
          "symbol": "AMZN"
         },
         {
          "Unnamed: 0": 223,
          "date": "2008-05-01",
          "price": 81.62,
          "symbol": "AMZN"
         },
         {
          "Unnamed: 0": 224,
          "date": "2008-06-01",
          "price": 73.33,
          "symbol": "AMZN"
         },
         {
          "Unnamed: 0": 225,
          "date": "2008-07-01",
          "price": 76.34,
          "symbol": "AMZN"
         },
         {
          "Unnamed: 0": 226,
          "date": "2008-08-01",
          "price": 80.81,
          "symbol": "AMZN"
         },
         {
          "Unnamed: 0": 227,
          "date": "2008-09-01",
          "price": 72.76,
          "symbol": "AMZN"
         },
         {
          "Unnamed: 0": 228,
          "date": "2008-10-01",
          "price": 57.24,
          "symbol": "AMZN"
         },
         {
          "Unnamed: 0": 229,
          "date": "2008-11-01",
          "price": 42.7,
          "symbol": "AMZN"
         },
         {
          "Unnamed: 0": 230,
          "date": "2008-12-01",
          "price": 51.28,
          "symbol": "AMZN"
         },
         {
          "Unnamed: 0": 231,
          "date": "2009-01-01",
          "price": 58.82,
          "symbol": "AMZN"
         },
         {
          "Unnamed: 0": 232,
          "date": "2009-02-01",
          "price": 64.79,
          "symbol": "AMZN"
         },
         {
          "Unnamed: 0": 233,
          "date": "2009-03-01",
          "price": 73.44,
          "symbol": "AMZN"
         },
         {
          "Unnamed: 0": 234,
          "date": "2009-04-01",
          "price": 80.52,
          "symbol": "AMZN"
         },
         {
          "Unnamed: 0": 235,
          "date": "2009-05-01",
          "price": 77.99,
          "symbol": "AMZN"
         },
         {
          "Unnamed: 0": 236,
          "date": "2009-06-01",
          "price": 83.66,
          "symbol": "AMZN"
         },
         {
          "Unnamed: 0": 237,
          "date": "2009-07-01",
          "price": 85.76,
          "symbol": "AMZN"
         },
         {
          "Unnamed: 0": 238,
          "date": "2009-08-01",
          "price": 81.19,
          "symbol": "AMZN"
         },
         {
          "Unnamed: 0": 239,
          "date": "2009-09-01",
          "price": 93.36,
          "symbol": "AMZN"
         },
         {
          "Unnamed: 0": 240,
          "date": "2009-10-01",
          "price": 118.81,
          "symbol": "AMZN"
         },
         {
          "Unnamed: 0": 241,
          "date": "2009-11-01",
          "price": 135.91,
          "symbol": "AMZN"
         },
         {
          "Unnamed: 0": 242,
          "date": "2009-12-01",
          "price": 134.52,
          "symbol": "AMZN"
         },
         {
          "Unnamed: 0": 243,
          "date": "2010-01-01",
          "price": 125.41,
          "symbol": "AMZN"
         },
         {
          "Unnamed: 0": 244,
          "date": "2010-02-01",
          "price": 118.4,
          "symbol": "AMZN"
         },
         {
          "Unnamed: 0": 245,
          "date": "2010-03-01",
          "price": 128.82,
          "symbol": "AMZN"
         },
         {
          "Unnamed: 0": 246,
          "date": "2000-01-01",
          "price": 100.52,
          "symbol": "IBM"
         },
         {
          "Unnamed: 0": 247,
          "date": "2000-02-01",
          "price": 92.11,
          "symbol": "IBM"
         },
         {
          "Unnamed: 0": 248,
          "date": "2000-03-01",
          "price": 106.11,
          "symbol": "IBM"
         },
         {
          "Unnamed: 0": 249,
          "date": "2000-04-01",
          "price": 99.95,
          "symbol": "IBM"
         },
         {
          "Unnamed: 0": 250,
          "date": "2000-05-01",
          "price": 96.31,
          "symbol": "IBM"
         },
         {
          "Unnamed: 0": 251,
          "date": "2000-06-01",
          "price": 98.33,
          "symbol": "IBM"
         },
         {
          "Unnamed: 0": 252,
          "date": "2000-07-01",
          "price": 100.74,
          "symbol": "IBM"
         },
         {
          "Unnamed: 0": 253,
          "date": "2000-08-01",
          "price": 118.62,
          "symbol": "IBM"
         },
         {
          "Unnamed: 0": 254,
          "date": "2000-09-01",
          "price": 101.19,
          "symbol": "IBM"
         },
         {
          "Unnamed: 0": 255,
          "date": "2000-10-01",
          "price": 88.5,
          "symbol": "IBM"
         },
         {
          "Unnamed: 0": 256,
          "date": "2000-11-01",
          "price": 84.12,
          "symbol": "IBM"
         },
         {
          "Unnamed: 0": 257,
          "date": "2000-12-01",
          "price": 76.47,
          "symbol": "IBM"
         },
         {
          "Unnamed: 0": 258,
          "date": "2001-01-01",
          "price": 100.76,
          "symbol": "IBM"
         },
         {
          "Unnamed: 0": 259,
          "date": "2001-02-01",
          "price": 89.98,
          "symbol": "IBM"
         },
         {
          "Unnamed: 0": 260,
          "date": "2001-03-01",
          "price": 86.63,
          "symbol": "IBM"
         },
         {
          "Unnamed: 0": 261,
          "date": "2001-04-01",
          "price": 103.7,
          "symbol": "IBM"
         },
         {
          "Unnamed: 0": 262,
          "date": "2001-05-01",
          "price": 100.82,
          "symbol": "IBM"
         },
         {
          "Unnamed: 0": 263,
          "date": "2001-06-01",
          "price": 102.35,
          "symbol": "IBM"
         },
         {
          "Unnamed: 0": 264,
          "date": "2001-07-01",
          "price": 94.87,
          "symbol": "IBM"
         },
         {
          "Unnamed: 0": 265,
          "date": "2001-08-01",
          "price": 90.25,
          "symbol": "IBM"
         },
         {
          "Unnamed: 0": 266,
          "date": "2001-09-01",
          "price": 82.82,
          "symbol": "IBM"
         },
         {
          "Unnamed: 0": 267,
          "date": "2001-10-01",
          "price": 97.58,
          "symbol": "IBM"
         },
         {
          "Unnamed: 0": 268,
          "date": "2001-11-01",
          "price": 104.5,
          "symbol": "IBM"
         },
         {
          "Unnamed: 0": 269,
          "date": "2001-12-01",
          "price": 109.36,
          "symbol": "IBM"
         },
         {
          "Unnamed: 0": 270,
          "date": "2002-01-01",
          "price": 97.54,
          "symbol": "IBM"
         },
         {
          "Unnamed: 0": 271,
          "date": "2002-02-01",
          "price": 88.82,
          "symbol": "IBM"
         },
         {
          "Unnamed: 0": 272,
          "date": "2002-03-01",
          "price": 94.15,
          "symbol": "IBM"
         },
         {
          "Unnamed: 0": 273,
          "date": "2002-04-01",
          "price": 75.82,
          "symbol": "IBM"
         },
         {
          "Unnamed: 0": 274,
          "date": "2002-05-01",
          "price": 72.97,
          "symbol": "IBM"
         },
         {
          "Unnamed: 0": 275,
          "date": "2002-06-01",
          "price": 65.31,
          "symbol": "IBM"
         },
         {
          "Unnamed: 0": 276,
          "date": "2002-07-01",
          "price": 63.86,
          "symbol": "IBM"
         },
         {
          "Unnamed: 0": 277,
          "date": "2002-08-01",
          "price": 68.52,
          "symbol": "IBM"
         },
         {
          "Unnamed: 0": 278,
          "date": "2002-09-01",
          "price": 53.01,
          "symbol": "IBM"
         },
         {
          "Unnamed: 0": 279,
          "date": "2002-10-01",
          "price": 71.76,
          "symbol": "IBM"
         },
         {
          "Unnamed: 0": 280,
          "date": "2002-11-01",
          "price": 79.16,
          "symbol": "IBM"
         },
         {
          "Unnamed: 0": 281,
          "date": "2002-12-01",
          "price": 70.58,
          "symbol": "IBM"
         },
         {
          "Unnamed: 0": 282,
          "date": "2003-01-01",
          "price": 71.22,
          "symbol": "IBM"
         },
         {
          "Unnamed: 0": 283,
          "date": "2003-02-01",
          "price": 71.13,
          "symbol": "IBM"
         },
         {
          "Unnamed: 0": 284,
          "date": "2003-03-01",
          "price": 71.57,
          "symbol": "IBM"
         },
         {
          "Unnamed: 0": 285,
          "date": "2003-04-01",
          "price": 77.47,
          "symbol": "IBM"
         },
         {
          "Unnamed: 0": 286,
          "date": "2003-05-01",
          "price": 80.48,
          "symbol": "IBM"
         },
         {
          "Unnamed: 0": 287,
          "date": "2003-06-01",
          "price": 75.42,
          "symbol": "IBM"
         },
         {
          "Unnamed: 0": 288,
          "date": "2003-07-01",
          "price": 74.28,
          "symbol": "IBM"
         },
         {
          "Unnamed: 0": 289,
          "date": "2003-08-01",
          "price": 75.12,
          "symbol": "IBM"
         },
         {
          "Unnamed: 0": 290,
          "date": "2003-09-01",
          "price": 80.91,
          "symbol": "IBM"
         },
         {
          "Unnamed: 0": 291,
          "date": "2003-10-01",
          "price": 81.96,
          "symbol": "IBM"
         },
         {
          "Unnamed: 0": 292,
          "date": "2003-11-01",
          "price": 83.08,
          "symbol": "IBM"
         },
         {
          "Unnamed: 0": 293,
          "date": "2003-12-01",
          "price": 85.05,
          "symbol": "IBM"
         },
         {
          "Unnamed: 0": 294,
          "date": "2004-01-01",
          "price": 91.06,
          "symbol": "IBM"
         },
         {
          "Unnamed: 0": 295,
          "date": "2004-02-01",
          "price": 88.7,
          "symbol": "IBM"
         },
         {
          "Unnamed: 0": 296,
          "date": "2004-03-01",
          "price": 84.41,
          "symbol": "IBM"
         },
         {
          "Unnamed: 0": 297,
          "date": "2004-04-01",
          "price": 81.04,
          "symbol": "IBM"
         },
         {
          "Unnamed: 0": 298,
          "date": "2004-05-01",
          "price": 81.59,
          "symbol": "IBM"
         },
         {
          "Unnamed: 0": 299,
          "date": "2004-06-01",
          "price": 81.19,
          "symbol": "IBM"
         },
         {
          "Unnamed: 0": 300,
          "date": "2004-07-01",
          "price": 80.19,
          "symbol": "IBM"
         },
         {
          "Unnamed: 0": 301,
          "date": "2004-08-01",
          "price": 78.17,
          "symbol": "IBM"
         },
         {
          "Unnamed: 0": 302,
          "date": "2004-09-01",
          "price": 79.13,
          "symbol": "IBM"
         },
         {
          "Unnamed: 0": 303,
          "date": "2004-10-01",
          "price": 82.84,
          "symbol": "IBM"
         },
         {
          "Unnamed: 0": 304,
          "date": "2004-11-01",
          "price": 87.15,
          "symbol": "IBM"
         },
         {
          "Unnamed: 0": 305,
          "date": "2004-12-01",
          "price": 91.16,
          "symbol": "IBM"
         },
         {
          "Unnamed: 0": 306,
          "date": "2005-01-01",
          "price": 86.39,
          "symbol": "IBM"
         },
         {
          "Unnamed: 0": 307,
          "date": "2005-02-01",
          "price": 85.78,
          "symbol": "IBM"
         },
         {
          "Unnamed: 0": 308,
          "date": "2005-03-01",
          "price": 84.66,
          "symbol": "IBM"
         },
         {
          "Unnamed: 0": 309,
          "date": "2005-04-01",
          "price": 70.77,
          "symbol": "IBM"
         },
         {
          "Unnamed: 0": 310,
          "date": "2005-05-01",
          "price": 70.18,
          "symbol": "IBM"
         },
         {
          "Unnamed: 0": 311,
          "date": "2005-06-01",
          "price": 68.93,
          "symbol": "IBM"
         },
         {
          "Unnamed: 0": 312,
          "date": "2005-07-01",
          "price": 77.53,
          "symbol": "IBM"
         },
         {
          "Unnamed: 0": 313,
          "date": "2005-08-01",
          "price": 75.07,
          "symbol": "IBM"
         },
         {
          "Unnamed: 0": 314,
          "date": "2005-09-01",
          "price": 74.7,
          "symbol": "IBM"
         },
         {
          "Unnamed: 0": 315,
          "date": "2005-10-01",
          "price": 76.25,
          "symbol": "IBM"
         },
         {
          "Unnamed: 0": 316,
          "date": "2005-11-01",
          "price": 82.98,
          "symbol": "IBM"
         },
         {
          "Unnamed: 0": 317,
          "date": "2005-12-01",
          "price": 76.73,
          "symbol": "IBM"
         },
         {
          "Unnamed: 0": 318,
          "date": "2006-01-01",
          "price": 75.89,
          "symbol": "IBM"
         },
         {
          "Unnamed: 0": 319,
          "date": "2006-02-01",
          "price": 75.09,
          "symbol": "IBM"
         },
         {
          "Unnamed: 0": 320,
          "date": "2006-03-01",
          "price": 77.17,
          "symbol": "IBM"
         },
         {
          "Unnamed: 0": 321,
          "date": "2006-04-01",
          "price": 77.05,
          "symbol": "IBM"
         },
         {
          "Unnamed: 0": 322,
          "date": "2006-05-01",
          "price": 75.04,
          "symbol": "IBM"
         },
         {
          "Unnamed: 0": 323,
          "date": "2006-06-01",
          "price": 72.15,
          "symbol": "IBM"
         },
         {
          "Unnamed: 0": 324,
          "date": "2006-07-01",
          "price": 72.7,
          "symbol": "IBM"
         },
         {
          "Unnamed: 0": 325,
          "date": "2006-08-01",
          "price": 76.35,
          "symbol": "IBM"
         },
         {
          "Unnamed: 0": 326,
          "date": "2006-09-01",
          "price": 77.26,
          "symbol": "IBM"
         },
         {
          "Unnamed: 0": 327,
          "date": "2006-10-01",
          "price": 87.06,
          "symbol": "IBM"
         },
         {
          "Unnamed: 0": 328,
          "date": "2006-11-01",
          "price": 86.95,
          "symbol": "IBM"
         },
         {
          "Unnamed: 0": 329,
          "date": "2006-12-01",
          "price": 91.9,
          "symbol": "IBM"
         },
         {
          "Unnamed: 0": 330,
          "date": "2007-01-01",
          "price": 93.79,
          "symbol": "IBM"
         },
         {
          "Unnamed: 0": 331,
          "date": "2007-02-01",
          "price": 88.18,
          "symbol": "IBM"
         },
         {
          "Unnamed: 0": 332,
          "date": "2007-03-01",
          "price": 89.44,
          "symbol": "IBM"
         },
         {
          "Unnamed: 0": 333,
          "date": "2007-04-01",
          "price": 96.98,
          "symbol": "IBM"
         },
         {
          "Unnamed: 0": 334,
          "date": "2007-05-01",
          "price": 101.54,
          "symbol": "IBM"
         },
         {
          "Unnamed: 0": 335,
          "date": "2007-06-01",
          "price": 100.25,
          "symbol": "IBM"
         },
         {
          "Unnamed: 0": 336,
          "date": "2007-07-01",
          "price": 105.4,
          "symbol": "IBM"
         },
         {
          "Unnamed: 0": 337,
          "date": "2007-08-01",
          "price": 111.54,
          "symbol": "IBM"
         },
         {
          "Unnamed: 0": 338,
          "date": "2007-09-01",
          "price": 112.6,
          "symbol": "IBM"
         },
         {
          "Unnamed: 0": 339,
          "date": "2007-10-01",
          "price": 111,
          "symbol": "IBM"
         },
         {
          "Unnamed: 0": 340,
          "date": "2007-11-01",
          "price": 100.9,
          "symbol": "IBM"
         },
         {
          "Unnamed: 0": 341,
          "date": "2007-12-01",
          "price": 103.7,
          "symbol": "IBM"
         },
         {
          "Unnamed: 0": 342,
          "date": "2008-01-01",
          "price": 102.75,
          "symbol": "IBM"
         },
         {
          "Unnamed: 0": 343,
          "date": "2008-02-01",
          "price": 109.64,
          "symbol": "IBM"
         },
         {
          "Unnamed: 0": 344,
          "date": "2008-03-01",
          "price": 110.87,
          "symbol": "IBM"
         },
         {
          "Unnamed: 0": 345,
          "date": "2008-04-01",
          "price": 116.23,
          "symbol": "IBM"
         },
         {
          "Unnamed: 0": 346,
          "date": "2008-05-01",
          "price": 125.14,
          "symbol": "IBM"
         },
         {
          "Unnamed: 0": 347,
          "date": "2008-06-01",
          "price": 114.6,
          "symbol": "IBM"
         },
         {
          "Unnamed: 0": 348,
          "date": "2008-07-01",
          "price": 123.74,
          "symbol": "IBM"
         },
         {
          "Unnamed: 0": 349,
          "date": "2008-08-01",
          "price": 118.16,
          "symbol": "IBM"
         },
         {
          "Unnamed: 0": 350,
          "date": "2008-09-01",
          "price": 113.53,
          "symbol": "IBM"
         },
         {
          "Unnamed: 0": 351,
          "date": "2008-10-01",
          "price": 90.24,
          "symbol": "IBM"
         },
         {
          "Unnamed: 0": 352,
          "date": "2008-11-01",
          "price": 79.65,
          "symbol": "IBM"
         },
         {
          "Unnamed: 0": 353,
          "date": "2008-12-01",
          "price": 82.15,
          "symbol": "IBM"
         },
         {
          "Unnamed: 0": 354,
          "date": "2009-01-01",
          "price": 89.46,
          "symbol": "IBM"
         },
         {
          "Unnamed: 0": 355,
          "date": "2009-02-01",
          "price": 90.32,
          "symbol": "IBM"
         },
         {
          "Unnamed: 0": 356,
          "date": "2009-03-01",
          "price": 95.09,
          "symbol": "IBM"
         },
         {
          "Unnamed: 0": 357,
          "date": "2009-04-01",
          "price": 101.29,
          "symbol": "IBM"
         },
         {
          "Unnamed: 0": 358,
          "date": "2009-05-01",
          "price": 104.85,
          "symbol": "IBM"
         },
         {
          "Unnamed: 0": 359,
          "date": "2009-06-01",
          "price": 103.01,
          "symbol": "IBM"
         },
         {
          "Unnamed: 0": 360,
          "date": "2009-07-01",
          "price": 116.34,
          "symbol": "IBM"
         },
         {
          "Unnamed: 0": 361,
          "date": "2009-08-01",
          "price": 117,
          "symbol": "IBM"
         },
         {
          "Unnamed: 0": 362,
          "date": "2009-09-01",
          "price": 118.55,
          "symbol": "IBM"
         },
         {
          "Unnamed: 0": 363,
          "date": "2009-10-01",
          "price": 119.54,
          "symbol": "IBM"
         },
         {
          "Unnamed: 0": 364,
          "date": "2009-11-01",
          "price": 125.79,
          "symbol": "IBM"
         },
         {
          "Unnamed: 0": 365,
          "date": "2009-12-01",
          "price": 130.32,
          "symbol": "IBM"
         },
         {
          "Unnamed: 0": 366,
          "date": "2010-01-01",
          "price": 121.85,
          "symbol": "IBM"
         },
         {
          "Unnamed: 0": 367,
          "date": "2010-02-01",
          "price": 127.16,
          "symbol": "IBM"
         },
         {
          "Unnamed: 0": 368,
          "date": "2010-03-01",
          "price": 125.55,
          "symbol": "IBM"
         },
         {
          "Unnamed: 0": 369,
          "date": "2004-08-01",
          "price": 102.37,
          "symbol": "GOOG"
         },
         {
          "Unnamed: 0": 370,
          "date": "2004-09-01",
          "price": 129.6,
          "symbol": "GOOG"
         },
         {
          "Unnamed: 0": 371,
          "date": "2004-10-01",
          "price": 190.64,
          "symbol": "GOOG"
         },
         {
          "Unnamed: 0": 372,
          "date": "2004-11-01",
          "price": 181.98,
          "symbol": "GOOG"
         },
         {
          "Unnamed: 0": 373,
          "date": "2004-12-01",
          "price": 192.79,
          "symbol": "GOOG"
         },
         {
          "Unnamed: 0": 374,
          "date": "2005-01-01",
          "price": 195.62,
          "symbol": "GOOG"
         },
         {
          "Unnamed: 0": 375,
          "date": "2005-02-01",
          "price": 187.99,
          "symbol": "GOOG"
         },
         {
          "Unnamed: 0": 376,
          "date": "2005-03-01",
          "price": 180.51,
          "symbol": "GOOG"
         },
         {
          "Unnamed: 0": 377,
          "date": "2005-04-01",
          "price": 220,
          "symbol": "GOOG"
         },
         {
          "Unnamed: 0": 378,
          "date": "2005-05-01",
          "price": 277.27,
          "symbol": "GOOG"
         },
         {
          "Unnamed: 0": 379,
          "date": "2005-06-01",
          "price": 294.15,
          "symbol": "GOOG"
         },
         {
          "Unnamed: 0": 380,
          "date": "2005-07-01",
          "price": 287.76,
          "symbol": "GOOG"
         },
         {
          "Unnamed: 0": 381,
          "date": "2005-08-01",
          "price": 286,
          "symbol": "GOOG"
         },
         {
          "Unnamed: 0": 382,
          "date": "2005-09-01",
          "price": 316.46,
          "symbol": "GOOG"
         },
         {
          "Unnamed: 0": 383,
          "date": "2005-10-01",
          "price": 372.14,
          "symbol": "GOOG"
         },
         {
          "Unnamed: 0": 384,
          "date": "2005-11-01",
          "price": 404.91,
          "symbol": "GOOG"
         },
         {
          "Unnamed: 0": 385,
          "date": "2005-12-01",
          "price": 414.86,
          "symbol": "GOOG"
         },
         {
          "Unnamed: 0": 386,
          "date": "2006-01-01",
          "price": 432.66,
          "symbol": "GOOG"
         },
         {
          "Unnamed: 0": 387,
          "date": "2006-02-01",
          "price": 362.62,
          "symbol": "GOOG"
         },
         {
          "Unnamed: 0": 388,
          "date": "2006-03-01",
          "price": 390,
          "symbol": "GOOG"
         },
         {
          "Unnamed: 0": 389,
          "date": "2006-04-01",
          "price": 417.94,
          "symbol": "GOOG"
         },
         {
          "Unnamed: 0": 390,
          "date": "2006-05-01",
          "price": 371.82,
          "symbol": "GOOG"
         },
         {
          "Unnamed: 0": 391,
          "date": "2006-06-01",
          "price": 419.33,
          "symbol": "GOOG"
         },
         {
          "Unnamed: 0": 392,
          "date": "2006-07-01",
          "price": 386.6,
          "symbol": "GOOG"
         },
         {
          "Unnamed: 0": 393,
          "date": "2006-08-01",
          "price": 378.53,
          "symbol": "GOOG"
         },
         {
          "Unnamed: 0": 394,
          "date": "2006-09-01",
          "price": 401.9,
          "symbol": "GOOG"
         },
         {
          "Unnamed: 0": 395,
          "date": "2006-10-01",
          "price": 476.39,
          "symbol": "GOOG"
         },
         {
          "Unnamed: 0": 396,
          "date": "2006-11-01",
          "price": 484.81,
          "symbol": "GOOG"
         },
         {
          "Unnamed: 0": 397,
          "date": "2006-12-01",
          "price": 460.48,
          "symbol": "GOOG"
         },
         {
          "Unnamed: 0": 398,
          "date": "2007-01-01",
          "price": 501.5,
          "symbol": "GOOG"
         },
         {
          "Unnamed: 0": 399,
          "date": "2007-02-01",
          "price": 449.45,
          "symbol": "GOOG"
         },
         {
          "Unnamed: 0": 400,
          "date": "2007-03-01",
          "price": 458.16,
          "symbol": "GOOG"
         },
         {
          "Unnamed: 0": 401,
          "date": "2007-04-01",
          "price": 471.38,
          "symbol": "GOOG"
         },
         {
          "Unnamed: 0": 402,
          "date": "2007-05-01",
          "price": 497.91,
          "symbol": "GOOG"
         },
         {
          "Unnamed: 0": 403,
          "date": "2007-06-01",
          "price": 522.7,
          "symbol": "GOOG"
         },
         {
          "Unnamed: 0": 404,
          "date": "2007-07-01",
          "price": 510,
          "symbol": "GOOG"
         },
         {
          "Unnamed: 0": 405,
          "date": "2007-08-01",
          "price": 515.25,
          "symbol": "GOOG"
         },
         {
          "Unnamed: 0": 406,
          "date": "2007-09-01",
          "price": 567.27,
          "symbol": "GOOG"
         },
         {
          "Unnamed: 0": 407,
          "date": "2007-10-01",
          "price": 707,
          "symbol": "GOOG"
         },
         {
          "Unnamed: 0": 408,
          "date": "2007-11-01",
          "price": 693,
          "symbol": "GOOG"
         },
         {
          "Unnamed: 0": 409,
          "date": "2007-12-01",
          "price": 691.48,
          "symbol": "GOOG"
         },
         {
          "Unnamed: 0": 410,
          "date": "2008-01-01",
          "price": 564.3,
          "symbol": "GOOG"
         },
         {
          "Unnamed: 0": 411,
          "date": "2008-02-01",
          "price": 471.18,
          "symbol": "GOOG"
         },
         {
          "Unnamed: 0": 412,
          "date": "2008-03-01",
          "price": 440.47,
          "symbol": "GOOG"
         },
         {
          "Unnamed: 0": 413,
          "date": "2008-04-01",
          "price": 574.29,
          "symbol": "GOOG"
         },
         {
          "Unnamed: 0": 414,
          "date": "2008-05-01",
          "price": 585.8,
          "symbol": "GOOG"
         },
         {
          "Unnamed: 0": 415,
          "date": "2008-06-01",
          "price": 526.42,
          "symbol": "GOOG"
         },
         {
          "Unnamed: 0": 416,
          "date": "2008-07-01",
          "price": 473.75,
          "symbol": "GOOG"
         },
         {
          "Unnamed: 0": 417,
          "date": "2008-08-01",
          "price": 463.29,
          "symbol": "GOOG"
         },
         {
          "Unnamed: 0": 418,
          "date": "2008-09-01",
          "price": 400.52,
          "symbol": "GOOG"
         },
         {
          "Unnamed: 0": 419,
          "date": "2008-10-01",
          "price": 359.36,
          "symbol": "GOOG"
         },
         {
          "Unnamed: 0": 420,
          "date": "2008-11-01",
          "price": 292.96,
          "symbol": "GOOG"
         },
         {
          "Unnamed: 0": 421,
          "date": "2008-12-01",
          "price": 307.65,
          "symbol": "GOOG"
         },
         {
          "Unnamed: 0": 422,
          "date": "2009-01-01",
          "price": 338.53,
          "symbol": "GOOG"
         },
         {
          "Unnamed: 0": 423,
          "date": "2009-02-01",
          "price": 337.99,
          "symbol": "GOOG"
         },
         {
          "Unnamed: 0": 424,
          "date": "2009-03-01",
          "price": 348.06,
          "symbol": "GOOG"
         },
         {
          "Unnamed: 0": 425,
          "date": "2009-04-01",
          "price": 395.97,
          "symbol": "GOOG"
         },
         {
          "Unnamed: 0": 426,
          "date": "2009-05-01",
          "price": 417.23,
          "symbol": "GOOG"
         },
         {
          "Unnamed: 0": 427,
          "date": "2009-06-01",
          "price": 421.59,
          "symbol": "GOOG"
         },
         {
          "Unnamed: 0": 428,
          "date": "2009-07-01",
          "price": 443.05,
          "symbol": "GOOG"
         },
         {
          "Unnamed: 0": 429,
          "date": "2009-08-01",
          "price": 461.67,
          "symbol": "GOOG"
         },
         {
          "Unnamed: 0": 430,
          "date": "2009-09-01",
          "price": 495.85,
          "symbol": "GOOG"
         },
         {
          "Unnamed: 0": 431,
          "date": "2009-10-01",
          "price": 536.12,
          "symbol": "GOOG"
         },
         {
          "Unnamed: 0": 432,
          "date": "2009-11-01",
          "price": 583,
          "symbol": "GOOG"
         },
         {
          "Unnamed: 0": 433,
          "date": "2009-12-01",
          "price": 619.98,
          "symbol": "GOOG"
         },
         {
          "Unnamed: 0": 434,
          "date": "2010-01-01",
          "price": 529.94,
          "symbol": "GOOG"
         },
         {
          "Unnamed: 0": 435,
          "date": "2010-02-01",
          "price": 526.8,
          "symbol": "GOOG"
         },
         {
          "Unnamed: 0": 436,
          "date": "2010-03-01",
          "price": 560.19,
          "symbol": "GOOG"
         },
         {
          "Unnamed: 0": 437,
          "date": "2000-01-01",
          "price": 25.94,
          "symbol": "AAPL"
         },
         {
          "Unnamed: 0": 438,
          "date": "2000-02-01",
          "price": 28.66,
          "symbol": "AAPL"
         },
         {
          "Unnamed: 0": 439,
          "date": "2000-03-01",
          "price": 33.95,
          "symbol": "AAPL"
         },
         {
          "Unnamed: 0": 440,
          "date": "2000-04-01",
          "price": 31.01,
          "symbol": "AAPL"
         },
         {
          "Unnamed: 0": 441,
          "date": "2000-05-01",
          "price": 21,
          "symbol": "AAPL"
         },
         {
          "Unnamed: 0": 442,
          "date": "2000-06-01",
          "price": 26.19,
          "symbol": "AAPL"
         },
         {
          "Unnamed: 0": 443,
          "date": "2000-07-01",
          "price": 25.41,
          "symbol": "AAPL"
         },
         {
          "Unnamed: 0": 444,
          "date": "2000-08-01",
          "price": 30.47,
          "symbol": "AAPL"
         },
         {
          "Unnamed: 0": 445,
          "date": "2000-09-01",
          "price": 12.88,
          "symbol": "AAPL"
         },
         {
          "Unnamed: 0": 446,
          "date": "2000-10-01",
          "price": 9.78,
          "symbol": "AAPL"
         },
         {
          "Unnamed: 0": 447,
          "date": "2000-11-01",
          "price": 8.25,
          "symbol": "AAPL"
         },
         {
          "Unnamed: 0": 448,
          "date": "2000-12-01",
          "price": 7.44,
          "symbol": "AAPL"
         },
         {
          "Unnamed: 0": 449,
          "date": "2001-01-01",
          "price": 10.81,
          "symbol": "AAPL"
         },
         {
          "Unnamed: 0": 450,
          "date": "2001-02-01",
          "price": 9.12,
          "symbol": "AAPL"
         },
         {
          "Unnamed: 0": 451,
          "date": "2001-03-01",
          "price": 11.03,
          "symbol": "AAPL"
         },
         {
          "Unnamed: 0": 452,
          "date": "2001-04-01",
          "price": 12.74,
          "symbol": "AAPL"
         },
         {
          "Unnamed: 0": 453,
          "date": "2001-05-01",
          "price": 9.98,
          "symbol": "AAPL"
         },
         {
          "Unnamed: 0": 454,
          "date": "2001-06-01",
          "price": 11.62,
          "symbol": "AAPL"
         },
         {
          "Unnamed: 0": 455,
          "date": "2001-07-01",
          "price": 9.4,
          "symbol": "AAPL"
         },
         {
          "Unnamed: 0": 456,
          "date": "2001-08-01",
          "price": 9.27,
          "symbol": "AAPL"
         },
         {
          "Unnamed: 0": 457,
          "date": "2001-09-01",
          "price": 7.76,
          "symbol": "AAPL"
         },
         {
          "Unnamed: 0": 458,
          "date": "2001-10-01",
          "price": 8.78,
          "symbol": "AAPL"
         },
         {
          "Unnamed: 0": 459,
          "date": "2001-11-01",
          "price": 10.65,
          "symbol": "AAPL"
         },
         {
          "Unnamed: 0": 460,
          "date": "2001-12-01",
          "price": 10.95,
          "symbol": "AAPL"
         },
         {
          "Unnamed: 0": 461,
          "date": "2002-01-01",
          "price": 12.36,
          "symbol": "AAPL"
         },
         {
          "Unnamed: 0": 462,
          "date": "2002-02-01",
          "price": 10.85,
          "symbol": "AAPL"
         },
         {
          "Unnamed: 0": 463,
          "date": "2002-03-01",
          "price": 11.84,
          "symbol": "AAPL"
         },
         {
          "Unnamed: 0": 464,
          "date": "2002-04-01",
          "price": 12.14,
          "symbol": "AAPL"
         },
         {
          "Unnamed: 0": 465,
          "date": "2002-05-01",
          "price": 11.65,
          "symbol": "AAPL"
         },
         {
          "Unnamed: 0": 466,
          "date": "2002-06-01",
          "price": 8.86,
          "symbol": "AAPL"
         },
         {
          "Unnamed: 0": 467,
          "date": "2002-07-01",
          "price": 7.63,
          "symbol": "AAPL"
         },
         {
          "Unnamed: 0": 468,
          "date": "2002-08-01",
          "price": 7.38,
          "symbol": "AAPL"
         },
         {
          "Unnamed: 0": 469,
          "date": "2002-09-01",
          "price": 7.25,
          "symbol": "AAPL"
         },
         {
          "Unnamed: 0": 470,
          "date": "2002-10-01",
          "price": 8.03,
          "symbol": "AAPL"
         },
         {
          "Unnamed: 0": 471,
          "date": "2002-11-01",
          "price": 7.75,
          "symbol": "AAPL"
         },
         {
          "Unnamed: 0": 472,
          "date": "2002-12-01",
          "price": 7.16,
          "symbol": "AAPL"
         },
         {
          "Unnamed: 0": 473,
          "date": "2003-01-01",
          "price": 7.18,
          "symbol": "AAPL"
         },
         {
          "Unnamed: 0": 474,
          "date": "2003-02-01",
          "price": 7.51,
          "symbol": "AAPL"
         },
         {
          "Unnamed: 0": 475,
          "date": "2003-03-01",
          "price": 7.07,
          "symbol": "AAPL"
         },
         {
          "Unnamed: 0": 476,
          "date": "2003-04-01",
          "price": 7.11,
          "symbol": "AAPL"
         },
         {
          "Unnamed: 0": 477,
          "date": "2003-05-01",
          "price": 8.98,
          "symbol": "AAPL"
         },
         {
          "Unnamed: 0": 478,
          "date": "2003-06-01",
          "price": 9.53,
          "symbol": "AAPL"
         },
         {
          "Unnamed: 0": 479,
          "date": "2003-07-01",
          "price": 10.54,
          "symbol": "AAPL"
         },
         {
          "Unnamed: 0": 480,
          "date": "2003-08-01",
          "price": 11.31,
          "symbol": "AAPL"
         },
         {
          "Unnamed: 0": 481,
          "date": "2003-09-01",
          "price": 10.36,
          "symbol": "AAPL"
         },
         {
          "Unnamed: 0": 482,
          "date": "2003-10-01",
          "price": 11.44,
          "symbol": "AAPL"
         },
         {
          "Unnamed: 0": 483,
          "date": "2003-11-01",
          "price": 10.45,
          "symbol": "AAPL"
         },
         {
          "Unnamed: 0": 484,
          "date": "2003-12-01",
          "price": 10.69,
          "symbol": "AAPL"
         },
         {
          "Unnamed: 0": 485,
          "date": "2004-01-01",
          "price": 11.28,
          "symbol": "AAPL"
         },
         {
          "Unnamed: 0": 486,
          "date": "2004-02-01",
          "price": 11.96,
          "symbol": "AAPL"
         },
         {
          "Unnamed: 0": 487,
          "date": "2004-03-01",
          "price": 13.52,
          "symbol": "AAPL"
         },
         {
          "Unnamed: 0": 488,
          "date": "2004-04-01",
          "price": 12.89,
          "symbol": "AAPL"
         },
         {
          "Unnamed: 0": 489,
          "date": "2004-05-01",
          "price": 14.03,
          "symbol": "AAPL"
         },
         {
          "Unnamed: 0": 490,
          "date": "2004-06-01",
          "price": 16.27,
          "symbol": "AAPL"
         },
         {
          "Unnamed: 0": 491,
          "date": "2004-07-01",
          "price": 16.17,
          "symbol": "AAPL"
         },
         {
          "Unnamed: 0": 492,
          "date": "2004-08-01",
          "price": 17.25,
          "symbol": "AAPL"
         },
         {
          "Unnamed: 0": 493,
          "date": "2004-09-01",
          "price": 19.38,
          "symbol": "AAPL"
         },
         {
          "Unnamed: 0": 494,
          "date": "2004-10-01",
          "price": 26.2,
          "symbol": "AAPL"
         },
         {
          "Unnamed: 0": 495,
          "date": "2004-11-01",
          "price": 33.53,
          "symbol": "AAPL"
         },
         {
          "Unnamed: 0": 496,
          "date": "2004-12-01",
          "price": 32.2,
          "symbol": "AAPL"
         },
         {
          "Unnamed: 0": 497,
          "date": "2005-01-01",
          "price": 38.45,
          "symbol": "AAPL"
         },
         {
          "Unnamed: 0": 498,
          "date": "2005-02-01",
          "price": 44.86,
          "symbol": "AAPL"
         },
         {
          "Unnamed: 0": 499,
          "date": "2005-03-01",
          "price": 41.67,
          "symbol": "AAPL"
         },
         {
          "Unnamed: 0": 500,
          "date": "2005-04-01",
          "price": 36.06,
          "symbol": "AAPL"
         },
         {
          "Unnamed: 0": 501,
          "date": "2005-05-01",
          "price": 39.76,
          "symbol": "AAPL"
         },
         {
          "Unnamed: 0": 502,
          "date": "2005-06-01",
          "price": 36.81,
          "symbol": "AAPL"
         },
         {
          "Unnamed: 0": 503,
          "date": "2005-07-01",
          "price": 42.65,
          "symbol": "AAPL"
         },
         {
          "Unnamed: 0": 504,
          "date": "2005-08-01",
          "price": 46.89,
          "symbol": "AAPL"
         },
         {
          "Unnamed: 0": 505,
          "date": "2005-09-01",
          "price": 53.61,
          "symbol": "AAPL"
         },
         {
          "Unnamed: 0": 506,
          "date": "2005-10-01",
          "price": 57.59,
          "symbol": "AAPL"
         },
         {
          "Unnamed: 0": 507,
          "date": "2005-11-01",
          "price": 67.82,
          "symbol": "AAPL"
         },
         {
          "Unnamed: 0": 508,
          "date": "2005-12-01",
          "price": 71.89,
          "symbol": "AAPL"
         },
         {
          "Unnamed: 0": 509,
          "date": "2006-01-01",
          "price": 75.51,
          "symbol": "AAPL"
         },
         {
          "Unnamed: 0": 510,
          "date": "2006-02-01",
          "price": 68.49,
          "symbol": "AAPL"
         },
         {
          "Unnamed: 0": 511,
          "date": "2006-03-01",
          "price": 62.72,
          "symbol": "AAPL"
         },
         {
          "Unnamed: 0": 512,
          "date": "2006-04-01",
          "price": 70.39,
          "symbol": "AAPL"
         },
         {
          "Unnamed: 0": 513,
          "date": "2006-05-01",
          "price": 59.77,
          "symbol": "AAPL"
         },
         {
          "Unnamed: 0": 514,
          "date": "2006-06-01",
          "price": 57.27,
          "symbol": "AAPL"
         },
         {
          "Unnamed: 0": 515,
          "date": "2006-07-01",
          "price": 67.96,
          "symbol": "AAPL"
         },
         {
          "Unnamed: 0": 516,
          "date": "2006-08-01",
          "price": 67.85,
          "symbol": "AAPL"
         },
         {
          "Unnamed: 0": 517,
          "date": "2006-09-01",
          "price": 76.98,
          "symbol": "AAPL"
         },
         {
          "Unnamed: 0": 518,
          "date": "2006-10-01",
          "price": 81.08,
          "symbol": "AAPL"
         },
         {
          "Unnamed: 0": 519,
          "date": "2006-11-01",
          "price": 91.66,
          "symbol": "AAPL"
         },
         {
          "Unnamed: 0": 520,
          "date": "2006-12-01",
          "price": 84.84,
          "symbol": "AAPL"
         },
         {
          "Unnamed: 0": 521,
          "date": "2007-01-01",
          "price": 85.73,
          "symbol": "AAPL"
         },
         {
          "Unnamed: 0": 522,
          "date": "2007-02-01",
          "price": 84.61,
          "symbol": "AAPL"
         },
         {
          "Unnamed: 0": 523,
          "date": "2007-03-01",
          "price": 92.91,
          "symbol": "AAPL"
         },
         {
          "Unnamed: 0": 524,
          "date": "2007-04-01",
          "price": 99.8,
          "symbol": "AAPL"
         },
         {
          "Unnamed: 0": 525,
          "date": "2007-05-01",
          "price": 121.19,
          "symbol": "AAPL"
         },
         {
          "Unnamed: 0": 526,
          "date": "2007-06-01",
          "price": 122.04,
          "symbol": "AAPL"
         },
         {
          "Unnamed: 0": 527,
          "date": "2007-07-01",
          "price": 131.76,
          "symbol": "AAPL"
         },
         {
          "Unnamed: 0": 528,
          "date": "2007-08-01",
          "price": 138.48,
          "symbol": "AAPL"
         },
         {
          "Unnamed: 0": 529,
          "date": "2007-09-01",
          "price": 153.47,
          "symbol": "AAPL"
         },
         {
          "Unnamed: 0": 530,
          "date": "2007-10-01",
          "price": 189.95,
          "symbol": "AAPL"
         },
         {
          "Unnamed: 0": 531,
          "date": "2007-11-01",
          "price": 182.22,
          "symbol": "AAPL"
         },
         {
          "Unnamed: 0": 532,
          "date": "2007-12-01",
          "price": 198.08,
          "symbol": "AAPL"
         },
         {
          "Unnamed: 0": 533,
          "date": "2008-01-01",
          "price": 135.36,
          "symbol": "AAPL"
         },
         {
          "Unnamed: 0": 534,
          "date": "2008-02-01",
          "price": 125.02,
          "symbol": "AAPL"
         },
         {
          "Unnamed: 0": 535,
          "date": "2008-03-01",
          "price": 143.5,
          "symbol": "AAPL"
         },
         {
          "Unnamed: 0": 536,
          "date": "2008-04-01",
          "price": 173.95,
          "symbol": "AAPL"
         },
         {
          "Unnamed: 0": 537,
          "date": "2008-05-01",
          "price": 188.75,
          "symbol": "AAPL"
         },
         {
          "Unnamed: 0": 538,
          "date": "2008-06-01",
          "price": 167.44,
          "symbol": "AAPL"
         },
         {
          "Unnamed: 0": 539,
          "date": "2008-07-01",
          "price": 158.95,
          "symbol": "AAPL"
         },
         {
          "Unnamed: 0": 540,
          "date": "2008-08-01",
          "price": 169.53,
          "symbol": "AAPL"
         },
         {
          "Unnamed: 0": 541,
          "date": "2008-09-01",
          "price": 113.66,
          "symbol": "AAPL"
         },
         {
          "Unnamed: 0": 542,
          "date": "2008-10-01",
          "price": 107.59,
          "symbol": "AAPL"
         },
         {
          "Unnamed: 0": 543,
          "date": "2008-11-01",
          "price": 92.67,
          "symbol": "AAPL"
         },
         {
          "Unnamed: 0": 544,
          "date": "2008-12-01",
          "price": 85.35,
          "symbol": "AAPL"
         },
         {
          "Unnamed: 0": 545,
          "date": "2009-01-01",
          "price": 90.13,
          "symbol": "AAPL"
         },
         {
          "Unnamed: 0": 546,
          "date": "2009-02-01",
          "price": 89.31,
          "symbol": "AAPL"
         },
         {
          "Unnamed: 0": 547,
          "date": "2009-03-01",
          "price": 105.12,
          "symbol": "AAPL"
         },
         {
          "Unnamed: 0": 548,
          "date": "2009-04-01",
          "price": 125.83,
          "symbol": "AAPL"
         },
         {
          "Unnamed: 0": 549,
          "date": "2009-05-01",
          "price": 135.81,
          "symbol": "AAPL"
         },
         {
          "Unnamed: 0": 550,
          "date": "2009-06-01",
          "price": 142.43,
          "symbol": "AAPL"
         },
         {
          "Unnamed: 0": 551,
          "date": "2009-07-01",
          "price": 163.39,
          "symbol": "AAPL"
         },
         {
          "Unnamed: 0": 552,
          "date": "2009-08-01",
          "price": 168.21,
          "symbol": "AAPL"
         },
         {
          "Unnamed: 0": 553,
          "date": "2009-09-01",
          "price": 185.35,
          "symbol": "AAPL"
         },
         {
          "Unnamed: 0": 554,
          "date": "2009-10-01",
          "price": 188.5,
          "symbol": "AAPL"
         },
         {
          "Unnamed: 0": 555,
          "date": "2009-11-01",
          "price": 199.91,
          "symbol": "AAPL"
         },
         {
          "Unnamed: 0": 556,
          "date": "2009-12-01",
          "price": 210.73,
          "symbol": "AAPL"
         },
         {
          "Unnamed: 0": 557,
          "date": "2010-01-01",
          "price": 192.06,
          "symbol": "AAPL"
         },
         {
          "Unnamed: 0": 558,
          "date": "2010-02-01",
          "price": 204.62,
          "symbol": "AAPL"
         },
         {
          "Unnamed: 0": 559,
          "date": "2010-03-01",
          "price": 223.02,
          "symbol": "AAPL"
         }
        ]
       },
       "encoding": {
        "color": {
         "field": "symbol",
         "type": "nominal"
        },
        "tooltip": [
         {
          "field": "Unnamed: 0",
          "type": "quantitative"
         },
         {
          "field": "symbol",
          "type": "nominal"
         },
         {
          "field": "date",
          "type": "nominal"
         },
         {
          "field": "price",
          "type": "quantitative"
         }
        ],
        "x": {
         "field": "date",
         "type": "temporal"
        },
        "y": {
         "field": "price",
         "type": "quantitative"
        }
       },
       "height": 400,
       "mark": {
        "size": 8.130081300813009,
        "type": "line"
       },
       "selection": {
        "selector053": {
         "bind": "scales",
         "encodings": [
          "x"
         ],
         "mark": {
          "fill": "#333",
          "fillOpacity": 0.125,
          "stroke": "white"
         },
         "on": "[mousedown, window:mouseup] > window:mousemove!",
         "resolve": "global",
         "translate": "[mousedown, window:mouseup] > window:mousemove!",
         "type": "interval",
         "zoom": "wheel!"
        }
       },
       "width": 1000
      },
      "image/png": "[encoded data removed]",
      "text/plain": [
       "<VegaLite 2 object>\n",
       "\n",
       "If you see this message, it means the renderer has not been properly enabled\n",
       "for the frontend that you are using. For more information, see\n",
       "https://altair-viz.github.io/user_guide/troubleshooting.html\n"
      ]
     },
     "execution_count": 85,
     "metadata": {},
     "output_type": "execute_result"
    }
   ],
   "source": [
    "lineChart(data, \"date:T\", \"price:Q\", \"symbol\")"
   ]
  },
  {
   "cell_type": "code",
   "execution_count": 86,
   "metadata": {},
   "outputs": [],
   "source": [
    "def areaChart(data, x, y, color, stack = None, y2 = None, height = 400, width = 1000):\n",
    "    dims = calcSizes(data, x, width)\n",
    "    \n",
    "    line = lineChart(data, x, y, color, y2, height, width)\n",
    "    \n",
    "    chart = alt.Chart(data).mark_area(opacity = 0.5).encode(\n",
    "        x = alt.X(x),\n",
    "        y = alt.Y(y, stack = stack),\n",
    "        color = alt.Color(color),\n",
    "        tooltip = data.columns.tolist()\n",
    "    ).properties(\n",
    "        width = width,\n",
    "        height = height\n",
    "    ).interactive(\n",
    "        bind_y = False\n",
    "    )\n",
    "    return chart + line"
   ]
  },
  {
   "cell_type": "code",
   "execution_count": 87,
   "metadata": {},
   "outputs": [
    {
     "data": {
      "application/vnd.vegalite.v2+json": {
       "$schema": "https://vega.github.io/schema/vega-lite/v2.4.3.json",
       "config": {
        "view": {
         "height": 300,
         "width": 400
        }
       },
       "layer": [
        {
         "data": {
          "values": [
           {
            "Unnamed: 0": 0,
            "date": "2000-01-01",
            "price": 39.81,
            "symbol": "MSFT"
           },
           {
            "Unnamed: 0": 1,
            "date": "2000-02-01",
            "price": 36.35,
            "symbol": "MSFT"
           },
           {
            "Unnamed: 0": 2,
            "date": "2000-03-01",
            "price": 43.22,
            "symbol": "MSFT"
           },
           {
            "Unnamed: 0": 3,
            "date": "2000-04-01",
            "price": 28.37,
            "symbol": "MSFT"
           },
           {
            "Unnamed: 0": 4,
            "date": "2000-05-01",
            "price": 25.45,
            "symbol": "MSFT"
           },
           {
            "Unnamed: 0": 5,
            "date": "2000-06-01",
            "price": 32.54,
            "symbol": "MSFT"
           },
           {
            "Unnamed: 0": 6,
            "date": "2000-07-01",
            "price": 28.4,
            "symbol": "MSFT"
           },
           {
            "Unnamed: 0": 7,
            "date": "2000-08-01",
            "price": 28.4,
            "symbol": "MSFT"
           },
           {
            "Unnamed: 0": 8,
            "date": "2000-09-01",
            "price": 24.53,
            "symbol": "MSFT"
           },
           {
            "Unnamed: 0": 9,
            "date": "2000-10-01",
            "price": 28.02,
            "symbol": "MSFT"
           },
           {
            "Unnamed: 0": 10,
            "date": "2000-11-01",
            "price": 23.34,
            "symbol": "MSFT"
           },
           {
            "Unnamed: 0": 11,
            "date": "2000-12-01",
            "price": 17.65,
            "symbol": "MSFT"
           },
           {
            "Unnamed: 0": 12,
            "date": "2001-01-01",
            "price": 24.84,
            "symbol": "MSFT"
           },
           {
            "Unnamed: 0": 13,
            "date": "2001-02-01",
            "price": 24,
            "symbol": "MSFT"
           },
           {
            "Unnamed: 0": 14,
            "date": "2001-03-01",
            "price": 22.25,
            "symbol": "MSFT"
           },
           {
            "Unnamed: 0": 15,
            "date": "2001-04-01",
            "price": 27.56,
            "symbol": "MSFT"
           },
           {
            "Unnamed: 0": 16,
            "date": "2001-05-01",
            "price": 28.14,
            "symbol": "MSFT"
           },
           {
            "Unnamed: 0": 17,
            "date": "2001-06-01",
            "price": 29.7,
            "symbol": "MSFT"
           },
           {
            "Unnamed: 0": 18,
            "date": "2001-07-01",
            "price": 26.93,
            "symbol": "MSFT"
           },
           {
            "Unnamed: 0": 19,
            "date": "2001-08-01",
            "price": 23.21,
            "symbol": "MSFT"
           },
           {
            "Unnamed: 0": 20,
            "date": "2001-09-01",
            "price": 20.82,
            "symbol": "MSFT"
           },
           {
            "Unnamed: 0": 21,
            "date": "2001-10-01",
            "price": 23.65,
            "symbol": "MSFT"
           },
           {
            "Unnamed: 0": 22,
            "date": "2001-11-01",
            "price": 26.12,
            "symbol": "MSFT"
           },
           {
            "Unnamed: 0": 23,
            "date": "2001-12-01",
            "price": 26.95,
            "symbol": "MSFT"
           },
           {
            "Unnamed: 0": 24,
            "date": "2002-01-01",
            "price": 25.92,
            "symbol": "MSFT"
           },
           {
            "Unnamed: 0": 25,
            "date": "2002-02-01",
            "price": 23.73,
            "symbol": "MSFT"
           },
           {
            "Unnamed: 0": 26,
            "date": "2002-03-01",
            "price": 24.53,
            "symbol": "MSFT"
           },
           {
            "Unnamed: 0": 27,
            "date": "2002-04-01",
            "price": 21.26,
            "symbol": "MSFT"
           },
           {
            "Unnamed: 0": 28,
            "date": "2002-05-01",
            "price": 20.71,
            "symbol": "MSFT"
           },
           {
            "Unnamed: 0": 29,
            "date": "2002-06-01",
            "price": 22.25,
            "symbol": "MSFT"
           },
           {
            "Unnamed: 0": 30,
            "date": "2002-07-01",
            "price": 19.52,
            "symbol": "MSFT"
           },
           {
            "Unnamed: 0": 31,
            "date": "2002-08-01",
            "price": 19.97,
            "symbol": "MSFT"
           },
           {
            "Unnamed: 0": 32,
            "date": "2002-09-01",
            "price": 17.79,
            "symbol": "MSFT"
           },
           {
            "Unnamed: 0": 33,
            "date": "2002-10-01",
            "price": 21.75,
            "symbol": "MSFT"
           },
           {
            "Unnamed: 0": 34,
            "date": "2002-11-01",
            "price": 23.46,
            "symbol": "MSFT"
           },
           {
            "Unnamed: 0": 35,
            "date": "2002-12-01",
            "price": 21.03,
            "symbol": "MSFT"
           },
           {
            "Unnamed: 0": 36,
            "date": "2003-01-01",
            "price": 19.31,
            "symbol": "MSFT"
           },
           {
            "Unnamed: 0": 37,
            "date": "2003-02-01",
            "price": 19.34,
            "symbol": "MSFT"
           },
           {
            "Unnamed: 0": 38,
            "date": "2003-03-01",
            "price": 19.76,
            "symbol": "MSFT"
           },
           {
            "Unnamed: 0": 39,
            "date": "2003-04-01",
            "price": 20.87,
            "symbol": "MSFT"
           },
           {
            "Unnamed: 0": 40,
            "date": "2003-05-01",
            "price": 20.09,
            "symbol": "MSFT"
           },
           {
            "Unnamed: 0": 41,
            "date": "2003-06-01",
            "price": 20.93,
            "symbol": "MSFT"
           },
           {
            "Unnamed: 0": 42,
            "date": "2003-07-01",
            "price": 21.56,
            "symbol": "MSFT"
           },
           {
            "Unnamed: 0": 43,
            "date": "2003-08-01",
            "price": 21.65,
            "symbol": "MSFT"
           },
           {
            "Unnamed: 0": 44,
            "date": "2003-09-01",
            "price": 22.69,
            "symbol": "MSFT"
           },
           {
            "Unnamed: 0": 45,
            "date": "2003-10-01",
            "price": 21.45,
            "symbol": "MSFT"
           },
           {
            "Unnamed: 0": 46,
            "date": "2003-11-01",
            "price": 21.1,
            "symbol": "MSFT"
           },
           {
            "Unnamed: 0": 47,
            "date": "2003-12-01",
            "price": 22.46,
            "symbol": "MSFT"
           },
           {
            "Unnamed: 0": 48,
            "date": "2004-01-01",
            "price": 22.69,
            "symbol": "MSFT"
           },
           {
            "Unnamed: 0": 49,
            "date": "2004-02-01",
            "price": 21.77,
            "symbol": "MSFT"
           },
           {
            "Unnamed: 0": 50,
            "date": "2004-03-01",
            "price": 20.46,
            "symbol": "MSFT"
           },
           {
            "Unnamed: 0": 51,
            "date": "2004-04-01",
            "price": 21.45,
            "symbol": "MSFT"
           },
           {
            "Unnamed: 0": 52,
            "date": "2004-05-01",
            "price": 21.53,
            "symbol": "MSFT"
           },
           {
            "Unnamed: 0": 53,
            "date": "2004-06-01",
            "price": 23.44,
            "symbol": "MSFT"
           },
           {
            "Unnamed: 0": 54,
            "date": "2004-07-01",
            "price": 23.38,
            "symbol": "MSFT"
           },
           {
            "Unnamed: 0": 55,
            "date": "2004-08-01",
            "price": 22.47,
            "symbol": "MSFT"
           },
           {
            "Unnamed: 0": 56,
            "date": "2004-09-01",
            "price": 22.76,
            "symbol": "MSFT"
           },
           {
            "Unnamed: 0": 57,
            "date": "2004-10-01",
            "price": 23.02,
            "symbol": "MSFT"
           },
           {
            "Unnamed: 0": 58,
            "date": "2004-11-01",
            "price": 24.6,
            "symbol": "MSFT"
           },
           {
            "Unnamed: 0": 59,
            "date": "2004-12-01",
            "price": 24.52,
            "symbol": "MSFT"
           },
           {
            "Unnamed: 0": 60,
            "date": "2005-01-01",
            "price": 24.11,
            "symbol": "MSFT"
           },
           {
            "Unnamed: 0": 61,
            "date": "2005-02-01",
            "price": 23.15,
            "symbol": "MSFT"
           },
           {
            "Unnamed: 0": 62,
            "date": "2005-03-01",
            "price": 22.24,
            "symbol": "MSFT"
           },
           {
            "Unnamed: 0": 63,
            "date": "2005-04-01",
            "price": 23.28,
            "symbol": "MSFT"
           },
           {
            "Unnamed: 0": 64,
            "date": "2005-05-01",
            "price": 23.82,
            "symbol": "MSFT"
           },
           {
            "Unnamed: 0": 65,
            "date": "2005-06-01",
            "price": 22.93,
            "symbol": "MSFT"
           },
           {
            "Unnamed: 0": 66,
            "date": "2005-07-01",
            "price": 23.64,
            "symbol": "MSFT"
           },
           {
            "Unnamed: 0": 67,
            "date": "2005-08-01",
            "price": 25.35,
            "symbol": "MSFT"
           },
           {
            "Unnamed: 0": 68,
            "date": "2005-09-01",
            "price": 23.83,
            "symbol": "MSFT"
           },
           {
            "Unnamed: 0": 69,
            "date": "2005-10-01",
            "price": 23.8,
            "symbol": "MSFT"
           },
           {
            "Unnamed: 0": 70,
            "date": "2005-11-01",
            "price": 25.71,
            "symbol": "MSFT"
           },
           {
            "Unnamed: 0": 71,
            "date": "2005-12-01",
            "price": 24.29,
            "symbol": "MSFT"
           },
           {
            "Unnamed: 0": 72,
            "date": "2006-01-01",
            "price": 26.14,
            "symbol": "MSFT"
           },
           {
            "Unnamed: 0": 73,
            "date": "2006-02-01",
            "price": 25.04,
            "symbol": "MSFT"
           },
           {
            "Unnamed: 0": 74,
            "date": "2006-03-01",
            "price": 25.36,
            "symbol": "MSFT"
           },
           {
            "Unnamed: 0": 75,
            "date": "2006-04-01",
            "price": 22.5,
            "symbol": "MSFT"
           },
           {
            "Unnamed: 0": 76,
            "date": "2006-05-01",
            "price": 21.19,
            "symbol": "MSFT"
           },
           {
            "Unnamed: 0": 77,
            "date": "2006-06-01",
            "price": 21.8,
            "symbol": "MSFT"
           },
           {
            "Unnamed: 0": 78,
            "date": "2006-07-01",
            "price": 22.51,
            "symbol": "MSFT"
           },
           {
            "Unnamed: 0": 79,
            "date": "2006-08-01",
            "price": 24.13,
            "symbol": "MSFT"
           },
           {
            "Unnamed: 0": 80,
            "date": "2006-09-01",
            "price": 25.68,
            "symbol": "MSFT"
           },
           {
            "Unnamed: 0": 81,
            "date": "2006-10-01",
            "price": 26.96,
            "symbol": "MSFT"
           },
           {
            "Unnamed: 0": 82,
            "date": "2006-11-01",
            "price": 27.66,
            "symbol": "MSFT"
           },
           {
            "Unnamed: 0": 83,
            "date": "2006-12-01",
            "price": 28.13,
            "symbol": "MSFT"
           },
           {
            "Unnamed: 0": 84,
            "date": "2007-01-01",
            "price": 29.07,
            "symbol": "MSFT"
           },
           {
            "Unnamed: 0": 85,
            "date": "2007-02-01",
            "price": 26.63,
            "symbol": "MSFT"
           },
           {
            "Unnamed: 0": 86,
            "date": "2007-03-01",
            "price": 26.35,
            "symbol": "MSFT"
           },
           {
            "Unnamed: 0": 87,
            "date": "2007-04-01",
            "price": 28.3,
            "symbol": "MSFT"
           },
           {
            "Unnamed: 0": 88,
            "date": "2007-05-01",
            "price": 29.11,
            "symbol": "MSFT"
           },
           {
            "Unnamed: 0": 89,
            "date": "2007-06-01",
            "price": 27.95,
            "symbol": "MSFT"
           },
           {
            "Unnamed: 0": 90,
            "date": "2007-07-01",
            "price": 27.5,
            "symbol": "MSFT"
           },
           {
            "Unnamed: 0": 91,
            "date": "2007-08-01",
            "price": 27.34,
            "symbol": "MSFT"
           },
           {
            "Unnamed: 0": 92,
            "date": "2007-09-01",
            "price": 28.04,
            "symbol": "MSFT"
           },
           {
            "Unnamed: 0": 93,
            "date": "2007-10-01",
            "price": 35.03,
            "symbol": "MSFT"
           },
           {
            "Unnamed: 0": 94,
            "date": "2007-11-01",
            "price": 32.09,
            "symbol": "MSFT"
           },
           {
            "Unnamed: 0": 95,
            "date": "2007-12-01",
            "price": 34,
            "symbol": "MSFT"
           },
           {
            "Unnamed: 0": 96,
            "date": "2008-01-01",
            "price": 31.13,
            "symbol": "MSFT"
           },
           {
            "Unnamed: 0": 97,
            "date": "2008-02-01",
            "price": 26.07,
            "symbol": "MSFT"
           },
           {
            "Unnamed: 0": 98,
            "date": "2008-03-01",
            "price": 27.21,
            "symbol": "MSFT"
           },
           {
            "Unnamed: 0": 99,
            "date": "2008-04-01",
            "price": 27.34,
            "symbol": "MSFT"
           },
           {
            "Unnamed: 0": 100,
            "date": "2008-05-01",
            "price": 27.25,
            "symbol": "MSFT"
           },
           {
            "Unnamed: 0": 101,
            "date": "2008-06-01",
            "price": 26.47,
            "symbol": "MSFT"
           },
           {
            "Unnamed: 0": 102,
            "date": "2008-07-01",
            "price": 24.75,
            "symbol": "MSFT"
           },
           {
            "Unnamed: 0": 103,
            "date": "2008-08-01",
            "price": 26.36,
            "symbol": "MSFT"
           },
           {
            "Unnamed: 0": 104,
            "date": "2008-09-01",
            "price": 25.78,
            "symbol": "MSFT"
           },
           {
            "Unnamed: 0": 105,
            "date": "2008-10-01",
            "price": 21.57,
            "symbol": "MSFT"
           },
           {
            "Unnamed: 0": 106,
            "date": "2008-11-01",
            "price": 19.66,
            "symbol": "MSFT"
           },
           {
            "Unnamed: 0": 107,
            "date": "2008-12-01",
            "price": 18.91,
            "symbol": "MSFT"
           },
           {
            "Unnamed: 0": 108,
            "date": "2009-01-01",
            "price": 16.63,
            "symbol": "MSFT"
           },
           {
            "Unnamed: 0": 109,
            "date": "2009-02-01",
            "price": 15.81,
            "symbol": "MSFT"
           },
           {
            "Unnamed: 0": 110,
            "date": "2009-03-01",
            "price": 17.99,
            "symbol": "MSFT"
           },
           {
            "Unnamed: 0": 111,
            "date": "2009-04-01",
            "price": 19.84,
            "symbol": "MSFT"
           },
           {
            "Unnamed: 0": 112,
            "date": "2009-05-01",
            "price": 20.59,
            "symbol": "MSFT"
           },
           {
            "Unnamed: 0": 113,
            "date": "2009-06-01",
            "price": 23.42,
            "symbol": "MSFT"
           },
           {
            "Unnamed: 0": 114,
            "date": "2009-07-01",
            "price": 23.18,
            "symbol": "MSFT"
           },
           {
            "Unnamed: 0": 115,
            "date": "2009-08-01",
            "price": 24.43,
            "symbol": "MSFT"
           },
           {
            "Unnamed: 0": 116,
            "date": "2009-09-01",
            "price": 25.49,
            "symbol": "MSFT"
           },
           {
            "Unnamed: 0": 117,
            "date": "2009-10-01",
            "price": 27.48,
            "symbol": "MSFT"
           },
           {
            "Unnamed: 0": 118,
            "date": "2009-11-01",
            "price": 29.27,
            "symbol": "MSFT"
           },
           {
            "Unnamed: 0": 119,
            "date": "2009-12-01",
            "price": 30.34,
            "symbol": "MSFT"
           },
           {
            "Unnamed: 0": 120,
            "date": "2010-01-01",
            "price": 28.05,
            "symbol": "MSFT"
           },
           {
            "Unnamed: 0": 121,
            "date": "2010-02-01",
            "price": 28.67,
            "symbol": "MSFT"
           },
           {
            "Unnamed: 0": 122,
            "date": "2010-03-01",
            "price": 28.8,
            "symbol": "MSFT"
           },
           {
            "Unnamed: 0": 123,
            "date": "2000-01-01",
            "price": 64.56,
            "symbol": "AMZN"
           },
           {
            "Unnamed: 0": 124,
            "date": "2000-02-01",
            "price": 68.87,
            "symbol": "AMZN"
           },
           {
            "Unnamed: 0": 125,
            "date": "2000-03-01",
            "price": 67,
            "symbol": "AMZN"
           },
           {
            "Unnamed: 0": 126,
            "date": "2000-04-01",
            "price": 55.19,
            "symbol": "AMZN"
           },
           {
            "Unnamed: 0": 127,
            "date": "2000-05-01",
            "price": 48.31,
            "symbol": "AMZN"
           },
           {
            "Unnamed: 0": 128,
            "date": "2000-06-01",
            "price": 36.31,
            "symbol": "AMZN"
           },
           {
            "Unnamed: 0": 129,
            "date": "2000-07-01",
            "price": 30.12,
            "symbol": "AMZN"
           },
           {
            "Unnamed: 0": 130,
            "date": "2000-08-01",
            "price": 41.5,
            "symbol": "AMZN"
           },
           {
            "Unnamed: 0": 131,
            "date": "2000-09-01",
            "price": 38.44,
            "symbol": "AMZN"
           },
           {
            "Unnamed: 0": 132,
            "date": "2000-10-01",
            "price": 36.62,
            "symbol": "AMZN"
           },
           {
            "Unnamed: 0": 133,
            "date": "2000-11-01",
            "price": 24.69,
            "symbol": "AMZN"
           },
           {
            "Unnamed: 0": 134,
            "date": "2000-12-01",
            "price": 15.56,
            "symbol": "AMZN"
           },
           {
            "Unnamed: 0": 135,
            "date": "2001-01-01",
            "price": 17.31,
            "symbol": "AMZN"
           },
           {
            "Unnamed: 0": 136,
            "date": "2001-02-01",
            "price": 10.19,
            "symbol": "AMZN"
           },
           {
            "Unnamed: 0": 137,
            "date": "2001-03-01",
            "price": 10.23,
            "symbol": "AMZN"
           },
           {
            "Unnamed: 0": 138,
            "date": "2001-04-01",
            "price": 15.78,
            "symbol": "AMZN"
           },
           {
            "Unnamed: 0": 139,
            "date": "2001-05-01",
            "price": 16.69,
            "symbol": "AMZN"
           },
           {
            "Unnamed: 0": 140,
            "date": "2001-06-01",
            "price": 14.15,
            "symbol": "AMZN"
           },
           {
            "Unnamed: 0": 141,
            "date": "2001-07-01",
            "price": 12.49,
            "symbol": "AMZN"
           },
           {
            "Unnamed: 0": 142,
            "date": "2001-08-01",
            "price": 8.94,
            "symbol": "AMZN"
           },
           {
            "Unnamed: 0": 143,
            "date": "2001-09-01",
            "price": 5.97,
            "symbol": "AMZN"
           },
           {
            "Unnamed: 0": 144,
            "date": "2001-10-01",
            "price": 6.98,
            "symbol": "AMZN"
           },
           {
            "Unnamed: 0": 145,
            "date": "2001-11-01",
            "price": 11.32,
            "symbol": "AMZN"
           },
           {
            "Unnamed: 0": 146,
            "date": "2001-12-01",
            "price": 10.82,
            "symbol": "AMZN"
           },
           {
            "Unnamed: 0": 147,
            "date": "2002-01-01",
            "price": 14.19,
            "symbol": "AMZN"
           },
           {
            "Unnamed: 0": 148,
            "date": "2002-02-01",
            "price": 14.1,
            "symbol": "AMZN"
           },
           {
            "Unnamed: 0": 149,
            "date": "2002-03-01",
            "price": 14.3,
            "symbol": "AMZN"
           },
           {
            "Unnamed: 0": 150,
            "date": "2002-04-01",
            "price": 16.69,
            "symbol": "AMZN"
           },
           {
            "Unnamed: 0": 151,
            "date": "2002-05-01",
            "price": 18.23,
            "symbol": "AMZN"
           },
           {
            "Unnamed: 0": 152,
            "date": "2002-06-01",
            "price": 16.25,
            "symbol": "AMZN"
           },
           {
            "Unnamed: 0": 153,
            "date": "2002-07-01",
            "price": 14.45,
            "symbol": "AMZN"
           },
           {
            "Unnamed: 0": 154,
            "date": "2002-08-01",
            "price": 14.94,
            "symbol": "AMZN"
           },
           {
            "Unnamed: 0": 155,
            "date": "2002-09-01",
            "price": 15.93,
            "symbol": "AMZN"
           },
           {
            "Unnamed: 0": 156,
            "date": "2002-10-01",
            "price": 19.36,
            "symbol": "AMZN"
           },
           {
            "Unnamed: 0": 157,
            "date": "2002-11-01",
            "price": 23.35,
            "symbol": "AMZN"
           },
           {
            "Unnamed: 0": 158,
            "date": "2002-12-01",
            "price": 18.89,
            "symbol": "AMZN"
           },
           {
            "Unnamed: 0": 159,
            "date": "2003-01-01",
            "price": 21.85,
            "symbol": "AMZN"
           },
           {
            "Unnamed: 0": 160,
            "date": "2003-02-01",
            "price": 22.01,
            "symbol": "AMZN"
           },
           {
            "Unnamed: 0": 161,
            "date": "2003-03-01",
            "price": 26.03,
            "symbol": "AMZN"
           },
           {
            "Unnamed: 0": 162,
            "date": "2003-04-01",
            "price": 28.69,
            "symbol": "AMZN"
           },
           {
            "Unnamed: 0": 163,
            "date": "2003-05-01",
            "price": 35.89,
            "symbol": "AMZN"
           },
           {
            "Unnamed: 0": 164,
            "date": "2003-06-01",
            "price": 36.32,
            "symbol": "AMZN"
           },
           {
            "Unnamed: 0": 165,
            "date": "2003-07-01",
            "price": 41.64,
            "symbol": "AMZN"
           },
           {
            "Unnamed: 0": 166,
            "date": "2003-08-01",
            "price": 46.32,
            "symbol": "AMZN"
           },
           {
            "Unnamed: 0": 167,
            "date": "2003-09-01",
            "price": 48.43,
            "symbol": "AMZN"
           },
           {
            "Unnamed: 0": 168,
            "date": "2003-10-01",
            "price": 54.43,
            "symbol": "AMZN"
           },
           {
            "Unnamed: 0": 169,
            "date": "2003-11-01",
            "price": 53.97,
            "symbol": "AMZN"
           },
           {
            "Unnamed: 0": 170,
            "date": "2003-12-01",
            "price": 52.62,
            "symbol": "AMZN"
           },
           {
            "Unnamed: 0": 171,
            "date": "2004-01-01",
            "price": 50.4,
            "symbol": "AMZN"
           },
           {
            "Unnamed: 0": 172,
            "date": "2004-02-01",
            "price": 43.01,
            "symbol": "AMZN"
           },
           {
            "Unnamed: 0": 173,
            "date": "2004-03-01",
            "price": 43.28,
            "symbol": "AMZN"
           },
           {
            "Unnamed: 0": 174,
            "date": "2004-04-01",
            "price": 43.6,
            "symbol": "AMZN"
           },
           {
            "Unnamed: 0": 175,
            "date": "2004-05-01",
            "price": 48.5,
            "symbol": "AMZN"
           },
           {
            "Unnamed: 0": 176,
            "date": "2004-06-01",
            "price": 54.4,
            "symbol": "AMZN"
           },
           {
            "Unnamed: 0": 177,
            "date": "2004-07-01",
            "price": 38.92,
            "symbol": "AMZN"
           },
           {
            "Unnamed: 0": 178,
            "date": "2004-08-01",
            "price": 38.14,
            "symbol": "AMZN"
           },
           {
            "Unnamed: 0": 179,
            "date": "2004-09-01",
            "price": 40.86,
            "symbol": "AMZN"
           },
           {
            "Unnamed: 0": 180,
            "date": "2004-10-01",
            "price": 34.13,
            "symbol": "AMZN"
           },
           {
            "Unnamed: 0": 181,
            "date": "2004-11-01",
            "price": 39.68,
            "symbol": "AMZN"
           },
           {
            "Unnamed: 0": 182,
            "date": "2004-12-01",
            "price": 44.29,
            "symbol": "AMZN"
           },
           {
            "Unnamed: 0": 183,
            "date": "2005-01-01",
            "price": 43.22,
            "symbol": "AMZN"
           },
           {
            "Unnamed: 0": 184,
            "date": "2005-02-01",
            "price": 35.18,
            "symbol": "AMZN"
           },
           {
            "Unnamed: 0": 185,
            "date": "2005-03-01",
            "price": 34.27,
            "symbol": "AMZN"
           },
           {
            "Unnamed: 0": 186,
            "date": "2005-04-01",
            "price": 32.36,
            "symbol": "AMZN"
           },
           {
            "Unnamed: 0": 187,
            "date": "2005-05-01",
            "price": 35.51,
            "symbol": "AMZN"
           },
           {
            "Unnamed: 0": 188,
            "date": "2005-06-01",
            "price": 33.09,
            "symbol": "AMZN"
           },
           {
            "Unnamed: 0": 189,
            "date": "2005-07-01",
            "price": 45.15,
            "symbol": "AMZN"
           },
           {
            "Unnamed: 0": 190,
            "date": "2005-08-01",
            "price": 42.7,
            "symbol": "AMZN"
           },
           {
            "Unnamed: 0": 191,
            "date": "2005-09-01",
            "price": 45.3,
            "symbol": "AMZN"
           },
           {
            "Unnamed: 0": 192,
            "date": "2005-10-01",
            "price": 39.86,
            "symbol": "AMZN"
           },
           {
            "Unnamed: 0": 193,
            "date": "2005-11-01",
            "price": 48.46,
            "symbol": "AMZN"
           },
           {
            "Unnamed: 0": 194,
            "date": "2005-12-01",
            "price": 47.15,
            "symbol": "AMZN"
           },
           {
            "Unnamed: 0": 195,
            "date": "2006-01-01",
            "price": 44.82,
            "symbol": "AMZN"
           },
           {
            "Unnamed: 0": 196,
            "date": "2006-02-01",
            "price": 37.44,
            "symbol": "AMZN"
           },
           {
            "Unnamed: 0": 197,
            "date": "2006-03-01",
            "price": 36.53,
            "symbol": "AMZN"
           },
           {
            "Unnamed: 0": 198,
            "date": "2006-04-01",
            "price": 35.21,
            "symbol": "AMZN"
           },
           {
            "Unnamed: 0": 199,
            "date": "2006-05-01",
            "price": 34.61,
            "symbol": "AMZN"
           },
           {
            "Unnamed: 0": 200,
            "date": "2006-06-01",
            "price": 38.68,
            "symbol": "AMZN"
           },
           {
            "Unnamed: 0": 201,
            "date": "2006-07-01",
            "price": 26.89,
            "symbol": "AMZN"
           },
           {
            "Unnamed: 0": 202,
            "date": "2006-08-01",
            "price": 30.83,
            "symbol": "AMZN"
           },
           {
            "Unnamed: 0": 203,
            "date": "2006-09-01",
            "price": 32.12,
            "symbol": "AMZN"
           },
           {
            "Unnamed: 0": 204,
            "date": "2006-10-01",
            "price": 38.09,
            "symbol": "AMZN"
           },
           {
            "Unnamed: 0": 205,
            "date": "2006-11-01",
            "price": 40.34,
            "symbol": "AMZN"
           },
           {
            "Unnamed: 0": 206,
            "date": "2006-12-01",
            "price": 39.46,
            "symbol": "AMZN"
           },
           {
            "Unnamed: 0": 207,
            "date": "2007-01-01",
            "price": 37.67,
            "symbol": "AMZN"
           },
           {
            "Unnamed: 0": 208,
            "date": "2007-02-01",
            "price": 39.14,
            "symbol": "AMZN"
           },
           {
            "Unnamed: 0": 209,
            "date": "2007-03-01",
            "price": 39.79,
            "symbol": "AMZN"
           },
           {
            "Unnamed: 0": 210,
            "date": "2007-04-01",
            "price": 61.33,
            "symbol": "AMZN"
           },
           {
            "Unnamed: 0": 211,
            "date": "2007-05-01",
            "price": 69.14,
            "symbol": "AMZN"
           },
           {
            "Unnamed: 0": 212,
            "date": "2007-06-01",
            "price": 68.41,
            "symbol": "AMZN"
           },
           {
            "Unnamed: 0": 213,
            "date": "2007-07-01",
            "price": 78.54,
            "symbol": "AMZN"
           },
           {
            "Unnamed: 0": 214,
            "date": "2007-08-01",
            "price": 79.91,
            "symbol": "AMZN"
           },
           {
            "Unnamed: 0": 215,
            "date": "2007-09-01",
            "price": 93.15,
            "symbol": "AMZN"
           },
           {
            "Unnamed: 0": 216,
            "date": "2007-10-01",
            "price": 89.15,
            "symbol": "AMZN"
           },
           {
            "Unnamed: 0": 217,
            "date": "2007-11-01",
            "price": 90.56,
            "symbol": "AMZN"
           },
           {
            "Unnamed: 0": 218,
            "date": "2007-12-01",
            "price": 92.64,
            "symbol": "AMZN"
           },
           {
            "Unnamed: 0": 219,
            "date": "2008-01-01",
            "price": 77.7,
            "symbol": "AMZN"
           },
           {
            "Unnamed: 0": 220,
            "date": "2008-02-01",
            "price": 64.47,
            "symbol": "AMZN"
           },
           {
            "Unnamed: 0": 221,
            "date": "2008-03-01",
            "price": 71.3,
            "symbol": "AMZN"
           },
           {
            "Unnamed: 0": 222,
            "date": "2008-04-01",
            "price": 78.63,
            "symbol": "AMZN"
           },
           {
            "Unnamed: 0": 223,
            "date": "2008-05-01",
            "price": 81.62,
            "symbol": "AMZN"
           },
           {
            "Unnamed: 0": 224,
            "date": "2008-06-01",
            "price": 73.33,
            "symbol": "AMZN"
           },
           {
            "Unnamed: 0": 225,
            "date": "2008-07-01",
            "price": 76.34,
            "symbol": "AMZN"
           },
           {
            "Unnamed: 0": 226,
            "date": "2008-08-01",
            "price": 80.81,
            "symbol": "AMZN"
           },
           {
            "Unnamed: 0": 227,
            "date": "2008-09-01",
            "price": 72.76,
            "symbol": "AMZN"
           },
           {
            "Unnamed: 0": 228,
            "date": "2008-10-01",
            "price": 57.24,
            "symbol": "AMZN"
           },
           {
            "Unnamed: 0": 229,
            "date": "2008-11-01",
            "price": 42.7,
            "symbol": "AMZN"
           },
           {
            "Unnamed: 0": 230,
            "date": "2008-12-01",
            "price": 51.28,
            "symbol": "AMZN"
           },
           {
            "Unnamed: 0": 231,
            "date": "2009-01-01",
            "price": 58.82,
            "symbol": "AMZN"
           },
           {
            "Unnamed: 0": 232,
            "date": "2009-02-01",
            "price": 64.79,
            "symbol": "AMZN"
           },
           {
            "Unnamed: 0": 233,
            "date": "2009-03-01",
            "price": 73.44,
            "symbol": "AMZN"
           },
           {
            "Unnamed: 0": 234,
            "date": "2009-04-01",
            "price": 80.52,
            "symbol": "AMZN"
           },
           {
            "Unnamed: 0": 235,
            "date": "2009-05-01",
            "price": 77.99,
            "symbol": "AMZN"
           },
           {
            "Unnamed: 0": 236,
            "date": "2009-06-01",
            "price": 83.66,
            "symbol": "AMZN"
           },
           {
            "Unnamed: 0": 237,
            "date": "2009-07-01",
            "price": 85.76,
            "symbol": "AMZN"
           },
           {
            "Unnamed: 0": 238,
            "date": "2009-08-01",
            "price": 81.19,
            "symbol": "AMZN"
           },
           {
            "Unnamed: 0": 239,
            "date": "2009-09-01",
            "price": 93.36,
            "symbol": "AMZN"
           },
           {
            "Unnamed: 0": 240,
            "date": "2009-10-01",
            "price": 118.81,
            "symbol": "AMZN"
           },
           {
            "Unnamed: 0": 241,
            "date": "2009-11-01",
            "price": 135.91,
            "symbol": "AMZN"
           },
           {
            "Unnamed: 0": 242,
            "date": "2009-12-01",
            "price": 134.52,
            "symbol": "AMZN"
           },
           {
            "Unnamed: 0": 243,
            "date": "2010-01-01",
            "price": 125.41,
            "symbol": "AMZN"
           },
           {
            "Unnamed: 0": 244,
            "date": "2010-02-01",
            "price": 118.4,
            "symbol": "AMZN"
           },
           {
            "Unnamed: 0": 245,
            "date": "2010-03-01",
            "price": 128.82,
            "symbol": "AMZN"
           },
           {
            "Unnamed: 0": 246,
            "date": "2000-01-01",
            "price": 100.52,
            "symbol": "IBM"
           },
           {
            "Unnamed: 0": 247,
            "date": "2000-02-01",
            "price": 92.11,
            "symbol": "IBM"
           },
           {
            "Unnamed: 0": 248,
            "date": "2000-03-01",
            "price": 106.11,
            "symbol": "IBM"
           },
           {
            "Unnamed: 0": 249,
            "date": "2000-04-01",
            "price": 99.95,
            "symbol": "IBM"
           },
           {
            "Unnamed: 0": 250,
            "date": "2000-05-01",
            "price": 96.31,
            "symbol": "IBM"
           },
           {
            "Unnamed: 0": 251,
            "date": "2000-06-01",
            "price": 98.33,
            "symbol": "IBM"
           },
           {
            "Unnamed: 0": 252,
            "date": "2000-07-01",
            "price": 100.74,
            "symbol": "IBM"
           },
           {
            "Unnamed: 0": 253,
            "date": "2000-08-01",
            "price": 118.62,
            "symbol": "IBM"
           },
           {
            "Unnamed: 0": 254,
            "date": "2000-09-01",
            "price": 101.19,
            "symbol": "IBM"
           },
           {
            "Unnamed: 0": 255,
            "date": "2000-10-01",
            "price": 88.5,
            "symbol": "IBM"
           },
           {
            "Unnamed: 0": 256,
            "date": "2000-11-01",
            "price": 84.12,
            "symbol": "IBM"
           },
           {
            "Unnamed: 0": 257,
            "date": "2000-12-01",
            "price": 76.47,
            "symbol": "IBM"
           },
           {
            "Unnamed: 0": 258,
            "date": "2001-01-01",
            "price": 100.76,
            "symbol": "IBM"
           },
           {
            "Unnamed: 0": 259,
            "date": "2001-02-01",
            "price": 89.98,
            "symbol": "IBM"
           },
           {
            "Unnamed: 0": 260,
            "date": "2001-03-01",
            "price": 86.63,
            "symbol": "IBM"
           },
           {
            "Unnamed: 0": 261,
            "date": "2001-04-01",
            "price": 103.7,
            "symbol": "IBM"
           },
           {
            "Unnamed: 0": 262,
            "date": "2001-05-01",
            "price": 100.82,
            "symbol": "IBM"
           },
           {
            "Unnamed: 0": 263,
            "date": "2001-06-01",
            "price": 102.35,
            "symbol": "IBM"
           },
           {
            "Unnamed: 0": 264,
            "date": "2001-07-01",
            "price": 94.87,
            "symbol": "IBM"
           },
           {
            "Unnamed: 0": 265,
            "date": "2001-08-01",
            "price": 90.25,
            "symbol": "IBM"
           },
           {
            "Unnamed: 0": 266,
            "date": "2001-09-01",
            "price": 82.82,
            "symbol": "IBM"
           },
           {
            "Unnamed: 0": 267,
            "date": "2001-10-01",
            "price": 97.58,
            "symbol": "IBM"
           },
           {
            "Unnamed: 0": 268,
            "date": "2001-11-01",
            "price": 104.5,
            "symbol": "IBM"
           },
           {
            "Unnamed: 0": 269,
            "date": "2001-12-01",
            "price": 109.36,
            "symbol": "IBM"
           },
           {
            "Unnamed: 0": 270,
            "date": "2002-01-01",
            "price": 97.54,
            "symbol": "IBM"
           },
           {
            "Unnamed: 0": 271,
            "date": "2002-02-01",
            "price": 88.82,
            "symbol": "IBM"
           },
           {
            "Unnamed: 0": 272,
            "date": "2002-03-01",
            "price": 94.15,
            "symbol": "IBM"
           },
           {
            "Unnamed: 0": 273,
            "date": "2002-04-01",
            "price": 75.82,
            "symbol": "IBM"
           },
           {
            "Unnamed: 0": 274,
            "date": "2002-05-01",
            "price": 72.97,
            "symbol": "IBM"
           },
           {
            "Unnamed: 0": 275,
            "date": "2002-06-01",
            "price": 65.31,
            "symbol": "IBM"
           },
           {
            "Unnamed: 0": 276,
            "date": "2002-07-01",
            "price": 63.86,
            "symbol": "IBM"
           },
           {
            "Unnamed: 0": 277,
            "date": "2002-08-01",
            "price": 68.52,
            "symbol": "IBM"
           },
           {
            "Unnamed: 0": 278,
            "date": "2002-09-01",
            "price": 53.01,
            "symbol": "IBM"
           },
           {
            "Unnamed: 0": 279,
            "date": "2002-10-01",
            "price": 71.76,
            "symbol": "IBM"
           },
           {
            "Unnamed: 0": 280,
            "date": "2002-11-01",
            "price": 79.16,
            "symbol": "IBM"
           },
           {
            "Unnamed: 0": 281,
            "date": "2002-12-01",
            "price": 70.58,
            "symbol": "IBM"
           },
           {
            "Unnamed: 0": 282,
            "date": "2003-01-01",
            "price": 71.22,
            "symbol": "IBM"
           },
           {
            "Unnamed: 0": 283,
            "date": "2003-02-01",
            "price": 71.13,
            "symbol": "IBM"
           },
           {
            "Unnamed: 0": 284,
            "date": "2003-03-01",
            "price": 71.57,
            "symbol": "IBM"
           },
           {
            "Unnamed: 0": 285,
            "date": "2003-04-01",
            "price": 77.47,
            "symbol": "IBM"
           },
           {
            "Unnamed: 0": 286,
            "date": "2003-05-01",
            "price": 80.48,
            "symbol": "IBM"
           },
           {
            "Unnamed: 0": 287,
            "date": "2003-06-01",
            "price": 75.42,
            "symbol": "IBM"
           },
           {
            "Unnamed: 0": 288,
            "date": "2003-07-01",
            "price": 74.28,
            "symbol": "IBM"
           },
           {
            "Unnamed: 0": 289,
            "date": "2003-08-01",
            "price": 75.12,
            "symbol": "IBM"
           },
           {
            "Unnamed: 0": 290,
            "date": "2003-09-01",
            "price": 80.91,
            "symbol": "IBM"
           },
           {
            "Unnamed: 0": 291,
            "date": "2003-10-01",
            "price": 81.96,
            "symbol": "IBM"
           },
           {
            "Unnamed: 0": 292,
            "date": "2003-11-01",
            "price": 83.08,
            "symbol": "IBM"
           },
           {
            "Unnamed: 0": 293,
            "date": "2003-12-01",
            "price": 85.05,
            "symbol": "IBM"
           },
           {
            "Unnamed: 0": 294,
            "date": "2004-01-01",
            "price": 91.06,
            "symbol": "IBM"
           },
           {
            "Unnamed: 0": 295,
            "date": "2004-02-01",
            "price": 88.7,
            "symbol": "IBM"
           },
           {
            "Unnamed: 0": 296,
            "date": "2004-03-01",
            "price": 84.41,
            "symbol": "IBM"
           },
           {
            "Unnamed: 0": 297,
            "date": "2004-04-01",
            "price": 81.04,
            "symbol": "IBM"
           },
           {
            "Unnamed: 0": 298,
            "date": "2004-05-01",
            "price": 81.59,
            "symbol": "IBM"
           },
           {
            "Unnamed: 0": 299,
            "date": "2004-06-01",
            "price": 81.19,
            "symbol": "IBM"
           },
           {
            "Unnamed: 0": 300,
            "date": "2004-07-01",
            "price": 80.19,
            "symbol": "IBM"
           },
           {
            "Unnamed: 0": 301,
            "date": "2004-08-01",
            "price": 78.17,
            "symbol": "IBM"
           },
           {
            "Unnamed: 0": 302,
            "date": "2004-09-01",
            "price": 79.13,
            "symbol": "IBM"
           },
           {
            "Unnamed: 0": 303,
            "date": "2004-10-01",
            "price": 82.84,
            "symbol": "IBM"
           },
           {
            "Unnamed: 0": 304,
            "date": "2004-11-01",
            "price": 87.15,
            "symbol": "IBM"
           },
           {
            "Unnamed: 0": 305,
            "date": "2004-12-01",
            "price": 91.16,
            "symbol": "IBM"
           },
           {
            "Unnamed: 0": 306,
            "date": "2005-01-01",
            "price": 86.39,
            "symbol": "IBM"
           },
           {
            "Unnamed: 0": 307,
            "date": "2005-02-01",
            "price": 85.78,
            "symbol": "IBM"
           },
           {
            "Unnamed: 0": 308,
            "date": "2005-03-01",
            "price": 84.66,
            "symbol": "IBM"
           },
           {
            "Unnamed: 0": 309,
            "date": "2005-04-01",
            "price": 70.77,
            "symbol": "IBM"
           },
           {
            "Unnamed: 0": 310,
            "date": "2005-05-01",
            "price": 70.18,
            "symbol": "IBM"
           },
           {
            "Unnamed: 0": 311,
            "date": "2005-06-01",
            "price": 68.93,
            "symbol": "IBM"
           },
           {
            "Unnamed: 0": 312,
            "date": "2005-07-01",
            "price": 77.53,
            "symbol": "IBM"
           },
           {
            "Unnamed: 0": 313,
            "date": "2005-08-01",
            "price": 75.07,
            "symbol": "IBM"
           },
           {
            "Unnamed: 0": 314,
            "date": "2005-09-01",
            "price": 74.7,
            "symbol": "IBM"
           },
           {
            "Unnamed: 0": 315,
            "date": "2005-10-01",
            "price": 76.25,
            "symbol": "IBM"
           },
           {
            "Unnamed: 0": 316,
            "date": "2005-11-01",
            "price": 82.98,
            "symbol": "IBM"
           },
           {
            "Unnamed: 0": 317,
            "date": "2005-12-01",
            "price": 76.73,
            "symbol": "IBM"
           },
           {
            "Unnamed: 0": 318,
            "date": "2006-01-01",
            "price": 75.89,
            "symbol": "IBM"
           },
           {
            "Unnamed: 0": 319,
            "date": "2006-02-01",
            "price": 75.09,
            "symbol": "IBM"
           },
           {
            "Unnamed: 0": 320,
            "date": "2006-03-01",
            "price": 77.17,
            "symbol": "IBM"
           },
           {
            "Unnamed: 0": 321,
            "date": "2006-04-01",
            "price": 77.05,
            "symbol": "IBM"
           },
           {
            "Unnamed: 0": 322,
            "date": "2006-05-01",
            "price": 75.04,
            "symbol": "IBM"
           },
           {
            "Unnamed: 0": 323,
            "date": "2006-06-01",
            "price": 72.15,
            "symbol": "IBM"
           },
           {
            "Unnamed: 0": 324,
            "date": "2006-07-01",
            "price": 72.7,
            "symbol": "IBM"
           },
           {
            "Unnamed: 0": 325,
            "date": "2006-08-01",
            "price": 76.35,
            "symbol": "IBM"
           },
           {
            "Unnamed: 0": 326,
            "date": "2006-09-01",
            "price": 77.26,
            "symbol": "IBM"
           },
           {
            "Unnamed: 0": 327,
            "date": "2006-10-01",
            "price": 87.06,
            "symbol": "IBM"
           },
           {
            "Unnamed: 0": 328,
            "date": "2006-11-01",
            "price": 86.95,
            "symbol": "IBM"
           },
           {
            "Unnamed: 0": 329,
            "date": "2006-12-01",
            "price": 91.9,
            "symbol": "IBM"
           },
           {
            "Unnamed: 0": 330,
            "date": "2007-01-01",
            "price": 93.79,
            "symbol": "IBM"
           },
           {
            "Unnamed: 0": 331,
            "date": "2007-02-01",
            "price": 88.18,
            "symbol": "IBM"
           },
           {
            "Unnamed: 0": 332,
            "date": "2007-03-01",
            "price": 89.44,
            "symbol": "IBM"
           },
           {
            "Unnamed: 0": 333,
            "date": "2007-04-01",
            "price": 96.98,
            "symbol": "IBM"
           },
           {
            "Unnamed: 0": 334,
            "date": "2007-05-01",
            "price": 101.54,
            "symbol": "IBM"
           },
           {
            "Unnamed: 0": 335,
            "date": "2007-06-01",
            "price": 100.25,
            "symbol": "IBM"
           },
           {
            "Unnamed: 0": 336,
            "date": "2007-07-01",
            "price": 105.4,
            "symbol": "IBM"
           },
           {
            "Unnamed: 0": 337,
            "date": "2007-08-01",
            "price": 111.54,
            "symbol": "IBM"
           },
           {
            "Unnamed: 0": 338,
            "date": "2007-09-01",
            "price": 112.6,
            "symbol": "IBM"
           },
           {
            "Unnamed: 0": 339,
            "date": "2007-10-01",
            "price": 111,
            "symbol": "IBM"
           },
           {
            "Unnamed: 0": 340,
            "date": "2007-11-01",
            "price": 100.9,
            "symbol": "IBM"
           },
           {
            "Unnamed: 0": 341,
            "date": "2007-12-01",
            "price": 103.7,
            "symbol": "IBM"
           },
           {
            "Unnamed: 0": 342,
            "date": "2008-01-01",
            "price": 102.75,
            "symbol": "IBM"
           },
           {
            "Unnamed: 0": 343,
            "date": "2008-02-01",
            "price": 109.64,
            "symbol": "IBM"
           },
           {
            "Unnamed: 0": 344,
            "date": "2008-03-01",
            "price": 110.87,
            "symbol": "IBM"
           },
           {
            "Unnamed: 0": 345,
            "date": "2008-04-01",
            "price": 116.23,
            "symbol": "IBM"
           },
           {
            "Unnamed: 0": 346,
            "date": "2008-05-01",
            "price": 125.14,
            "symbol": "IBM"
           },
           {
            "Unnamed: 0": 347,
            "date": "2008-06-01",
            "price": 114.6,
            "symbol": "IBM"
           },
           {
            "Unnamed: 0": 348,
            "date": "2008-07-01",
            "price": 123.74,
            "symbol": "IBM"
           },
           {
            "Unnamed: 0": 349,
            "date": "2008-08-01",
            "price": 118.16,
            "symbol": "IBM"
           },
           {
            "Unnamed: 0": 350,
            "date": "2008-09-01",
            "price": 113.53,
            "symbol": "IBM"
           },
           {
            "Unnamed: 0": 351,
            "date": "2008-10-01",
            "price": 90.24,
            "symbol": "IBM"
           },
           {
            "Unnamed: 0": 352,
            "date": "2008-11-01",
            "price": 79.65,
            "symbol": "IBM"
           },
           {
            "Unnamed: 0": 353,
            "date": "2008-12-01",
            "price": 82.15,
            "symbol": "IBM"
           },
           {
            "Unnamed: 0": 354,
            "date": "2009-01-01",
            "price": 89.46,
            "symbol": "IBM"
           },
           {
            "Unnamed: 0": 355,
            "date": "2009-02-01",
            "price": 90.32,
            "symbol": "IBM"
           },
           {
            "Unnamed: 0": 356,
            "date": "2009-03-01",
            "price": 95.09,
            "symbol": "IBM"
           },
           {
            "Unnamed: 0": 357,
            "date": "2009-04-01",
            "price": 101.29,
            "symbol": "IBM"
           },
           {
            "Unnamed: 0": 358,
            "date": "2009-05-01",
            "price": 104.85,
            "symbol": "IBM"
           },
           {
            "Unnamed: 0": 359,
            "date": "2009-06-01",
            "price": 103.01,
            "symbol": "IBM"
           },
           {
            "Unnamed: 0": 360,
            "date": "2009-07-01",
            "price": 116.34,
            "symbol": "IBM"
           },
           {
            "Unnamed: 0": 361,
            "date": "2009-08-01",
            "price": 117,
            "symbol": "IBM"
           },
           {
            "Unnamed: 0": 362,
            "date": "2009-09-01",
            "price": 118.55,
            "symbol": "IBM"
           },
           {
            "Unnamed: 0": 363,
            "date": "2009-10-01",
            "price": 119.54,
            "symbol": "IBM"
           },
           {
            "Unnamed: 0": 364,
            "date": "2009-11-01",
            "price": 125.79,
            "symbol": "IBM"
           },
           {
            "Unnamed: 0": 365,
            "date": "2009-12-01",
            "price": 130.32,
            "symbol": "IBM"
           },
           {
            "Unnamed: 0": 366,
            "date": "2010-01-01",
            "price": 121.85,
            "symbol": "IBM"
           },
           {
            "Unnamed: 0": 367,
            "date": "2010-02-01",
            "price": 127.16,
            "symbol": "IBM"
           },
           {
            "Unnamed: 0": 368,
            "date": "2010-03-01",
            "price": 125.55,
            "symbol": "IBM"
           },
           {
            "Unnamed: 0": 369,
            "date": "2004-08-01",
            "price": 102.37,
            "symbol": "GOOG"
           },
           {
            "Unnamed: 0": 370,
            "date": "2004-09-01",
            "price": 129.6,
            "symbol": "GOOG"
           },
           {
            "Unnamed: 0": 371,
            "date": "2004-10-01",
            "price": 190.64,
            "symbol": "GOOG"
           },
           {
            "Unnamed: 0": 372,
            "date": "2004-11-01",
            "price": 181.98,
            "symbol": "GOOG"
           },
           {
            "Unnamed: 0": 373,
            "date": "2004-12-01",
            "price": 192.79,
            "symbol": "GOOG"
           },
           {
            "Unnamed: 0": 374,
            "date": "2005-01-01",
            "price": 195.62,
            "symbol": "GOOG"
           },
           {
            "Unnamed: 0": 375,
            "date": "2005-02-01",
            "price": 187.99,
            "symbol": "GOOG"
           },
           {
            "Unnamed: 0": 376,
            "date": "2005-03-01",
            "price": 180.51,
            "symbol": "GOOG"
           },
           {
            "Unnamed: 0": 377,
            "date": "2005-04-01",
            "price": 220,
            "symbol": "GOOG"
           },
           {
            "Unnamed: 0": 378,
            "date": "2005-05-01",
            "price": 277.27,
            "symbol": "GOOG"
           },
           {
            "Unnamed: 0": 379,
            "date": "2005-06-01",
            "price": 294.15,
            "symbol": "GOOG"
           },
           {
            "Unnamed: 0": 380,
            "date": "2005-07-01",
            "price": 287.76,
            "symbol": "GOOG"
           },
           {
            "Unnamed: 0": 381,
            "date": "2005-08-01",
            "price": 286,
            "symbol": "GOOG"
           },
           {
            "Unnamed: 0": 382,
            "date": "2005-09-01",
            "price": 316.46,
            "symbol": "GOOG"
           },
           {
            "Unnamed: 0": 383,
            "date": "2005-10-01",
            "price": 372.14,
            "symbol": "GOOG"
           },
           {
            "Unnamed: 0": 384,
            "date": "2005-11-01",
            "price": 404.91,
            "symbol": "GOOG"
           },
           {
            "Unnamed: 0": 385,
            "date": "2005-12-01",
            "price": 414.86,
            "symbol": "GOOG"
           },
           {
            "Unnamed: 0": 386,
            "date": "2006-01-01",
            "price": 432.66,
            "symbol": "GOOG"
           },
           {
            "Unnamed: 0": 387,
            "date": "2006-02-01",
            "price": 362.62,
            "symbol": "GOOG"
           },
           {
            "Unnamed: 0": 388,
            "date": "2006-03-01",
            "price": 390,
            "symbol": "GOOG"
           },
           {
            "Unnamed: 0": 389,
            "date": "2006-04-01",
            "price": 417.94,
            "symbol": "GOOG"
           },
           {
            "Unnamed: 0": 390,
            "date": "2006-05-01",
            "price": 371.82,
            "symbol": "GOOG"
           },
           {
            "Unnamed: 0": 391,
            "date": "2006-06-01",
            "price": 419.33,
            "symbol": "GOOG"
           },
           {
            "Unnamed: 0": 392,
            "date": "2006-07-01",
            "price": 386.6,
            "symbol": "GOOG"
           },
           {
            "Unnamed: 0": 393,
            "date": "2006-08-01",
            "price": 378.53,
            "symbol": "GOOG"
           },
           {
            "Unnamed: 0": 394,
            "date": "2006-09-01",
            "price": 401.9,
            "symbol": "GOOG"
           },
           {
            "Unnamed: 0": 395,
            "date": "2006-10-01",
            "price": 476.39,
            "symbol": "GOOG"
           },
           {
            "Unnamed: 0": 396,
            "date": "2006-11-01",
            "price": 484.81,
            "symbol": "GOOG"
           },
           {
            "Unnamed: 0": 397,
            "date": "2006-12-01",
            "price": 460.48,
            "symbol": "GOOG"
           },
           {
            "Unnamed: 0": 398,
            "date": "2007-01-01",
            "price": 501.5,
            "symbol": "GOOG"
           },
           {
            "Unnamed: 0": 399,
            "date": "2007-02-01",
            "price": 449.45,
            "symbol": "GOOG"
           },
           {
            "Unnamed: 0": 400,
            "date": "2007-03-01",
            "price": 458.16,
            "symbol": "GOOG"
           },
           {
            "Unnamed: 0": 401,
            "date": "2007-04-01",
            "price": 471.38,
            "symbol": "GOOG"
           },
           {
            "Unnamed: 0": 402,
            "date": "2007-05-01",
            "price": 497.91,
            "symbol": "GOOG"
           },
           {
            "Unnamed: 0": 403,
            "date": "2007-06-01",
            "price": 522.7,
            "symbol": "GOOG"
           },
           {
            "Unnamed: 0": 404,
            "date": "2007-07-01",
            "price": 510,
            "symbol": "GOOG"
           },
           {
            "Unnamed: 0": 405,
            "date": "2007-08-01",
            "price": 515.25,
            "symbol": "GOOG"
           },
           {
            "Unnamed: 0": 406,
            "date": "2007-09-01",
            "price": 567.27,
            "symbol": "GOOG"
           },
           {
            "Unnamed: 0": 407,
            "date": "2007-10-01",
            "price": 707,
            "symbol": "GOOG"
           },
           {
            "Unnamed: 0": 408,
            "date": "2007-11-01",
            "price": 693,
            "symbol": "GOOG"
           },
           {
            "Unnamed: 0": 409,
            "date": "2007-12-01",
            "price": 691.48,
            "symbol": "GOOG"
           },
           {
            "Unnamed: 0": 410,
            "date": "2008-01-01",
            "price": 564.3,
            "symbol": "GOOG"
           },
           {
            "Unnamed: 0": 411,
            "date": "2008-02-01",
            "price": 471.18,
            "symbol": "GOOG"
           },
           {
            "Unnamed: 0": 412,
            "date": "2008-03-01",
            "price": 440.47,
            "symbol": "GOOG"
           },
           {
            "Unnamed: 0": 413,
            "date": "2008-04-01",
            "price": 574.29,
            "symbol": "GOOG"
           },
           {
            "Unnamed: 0": 414,
            "date": "2008-05-01",
            "price": 585.8,
            "symbol": "GOOG"
           },
           {
            "Unnamed: 0": 415,
            "date": "2008-06-01",
            "price": 526.42,
            "symbol": "GOOG"
           },
           {
            "Unnamed: 0": 416,
            "date": "2008-07-01",
            "price": 473.75,
            "symbol": "GOOG"
           },
           {
            "Unnamed: 0": 417,
            "date": "2008-08-01",
            "price": 463.29,
            "symbol": "GOOG"
           },
           {
            "Unnamed: 0": 418,
            "date": "2008-09-01",
            "price": 400.52,
            "symbol": "GOOG"
           },
           {
            "Unnamed: 0": 419,
            "date": "2008-10-01",
            "price": 359.36,
            "symbol": "GOOG"
           },
           {
            "Unnamed: 0": 420,
            "date": "2008-11-01",
            "price": 292.96,
            "symbol": "GOOG"
           },
           {
            "Unnamed: 0": 421,
            "date": "2008-12-01",
            "price": 307.65,
            "symbol": "GOOG"
           },
           {
            "Unnamed: 0": 422,
            "date": "2009-01-01",
            "price": 338.53,
            "symbol": "GOOG"
           },
           {
            "Unnamed: 0": 423,
            "date": "2009-02-01",
            "price": 337.99,
            "symbol": "GOOG"
           },
           {
            "Unnamed: 0": 424,
            "date": "2009-03-01",
            "price": 348.06,
            "symbol": "GOOG"
           },
           {
            "Unnamed: 0": 425,
            "date": "2009-04-01",
            "price": 395.97,
            "symbol": "GOOG"
           },
           {
            "Unnamed: 0": 426,
            "date": "2009-05-01",
            "price": 417.23,
            "symbol": "GOOG"
           },
           {
            "Unnamed: 0": 427,
            "date": "2009-06-01",
            "price": 421.59,
            "symbol": "GOOG"
           },
           {
            "Unnamed: 0": 428,
            "date": "2009-07-01",
            "price": 443.05,
            "symbol": "GOOG"
           },
           {
            "Unnamed: 0": 429,
            "date": "2009-08-01",
            "price": 461.67,
            "symbol": "GOOG"
           },
           {
            "Unnamed: 0": 430,
            "date": "2009-09-01",
            "price": 495.85,
            "symbol": "GOOG"
           },
           {
            "Unnamed: 0": 431,
            "date": "2009-10-01",
            "price": 536.12,
            "symbol": "GOOG"
           },
           {
            "Unnamed: 0": 432,
            "date": "2009-11-01",
            "price": 583,
            "symbol": "GOOG"
           },
           {
            "Unnamed: 0": 433,
            "date": "2009-12-01",
            "price": 619.98,
            "symbol": "GOOG"
           },
           {
            "Unnamed: 0": 434,
            "date": "2010-01-01",
            "price": 529.94,
            "symbol": "GOOG"
           },
           {
            "Unnamed: 0": 435,
            "date": "2010-02-01",
            "price": 526.8,
            "symbol": "GOOG"
           },
           {
            "Unnamed: 0": 436,
            "date": "2010-03-01",
            "price": 560.19,
            "symbol": "GOOG"
           },
           {
            "Unnamed: 0": 437,
            "date": "2000-01-01",
            "price": 25.94,
            "symbol": "AAPL"
           },
           {
            "Unnamed: 0": 438,
            "date": "2000-02-01",
            "price": 28.66,
            "symbol": "AAPL"
           },
           {
            "Unnamed: 0": 439,
            "date": "2000-03-01",
            "price": 33.95,
            "symbol": "AAPL"
           },
           {
            "Unnamed: 0": 440,
            "date": "2000-04-01",
            "price": 31.01,
            "symbol": "AAPL"
           },
           {
            "Unnamed: 0": 441,
            "date": "2000-05-01",
            "price": 21,
            "symbol": "AAPL"
           },
           {
            "Unnamed: 0": 442,
            "date": "2000-06-01",
            "price": 26.19,
            "symbol": "AAPL"
           },
           {
            "Unnamed: 0": 443,
            "date": "2000-07-01",
            "price": 25.41,
            "symbol": "AAPL"
           },
           {
            "Unnamed: 0": 444,
            "date": "2000-08-01",
            "price": 30.47,
            "symbol": "AAPL"
           },
           {
            "Unnamed: 0": 445,
            "date": "2000-09-01",
            "price": 12.88,
            "symbol": "AAPL"
           },
           {
            "Unnamed: 0": 446,
            "date": "2000-10-01",
            "price": 9.78,
            "symbol": "AAPL"
           },
           {
            "Unnamed: 0": 447,
            "date": "2000-11-01",
            "price": 8.25,
            "symbol": "AAPL"
           },
           {
            "Unnamed: 0": 448,
            "date": "2000-12-01",
            "price": 7.44,
            "symbol": "AAPL"
           },
           {
            "Unnamed: 0": 449,
            "date": "2001-01-01",
            "price": 10.81,
            "symbol": "AAPL"
           },
           {
            "Unnamed: 0": 450,
            "date": "2001-02-01",
            "price": 9.12,
            "symbol": "AAPL"
           },
           {
            "Unnamed: 0": 451,
            "date": "2001-03-01",
            "price": 11.03,
            "symbol": "AAPL"
           },
           {
            "Unnamed: 0": 452,
            "date": "2001-04-01",
            "price": 12.74,
            "symbol": "AAPL"
           },
           {
            "Unnamed: 0": 453,
            "date": "2001-05-01",
            "price": 9.98,
            "symbol": "AAPL"
           },
           {
            "Unnamed: 0": 454,
            "date": "2001-06-01",
            "price": 11.62,
            "symbol": "AAPL"
           },
           {
            "Unnamed: 0": 455,
            "date": "2001-07-01",
            "price": 9.4,
            "symbol": "AAPL"
           },
           {
            "Unnamed: 0": 456,
            "date": "2001-08-01",
            "price": 9.27,
            "symbol": "AAPL"
           },
           {
            "Unnamed: 0": 457,
            "date": "2001-09-01",
            "price": 7.76,
            "symbol": "AAPL"
           },
           {
            "Unnamed: 0": 458,
            "date": "2001-10-01",
            "price": 8.78,
            "symbol": "AAPL"
           },
           {
            "Unnamed: 0": 459,
            "date": "2001-11-01",
            "price": 10.65,
            "symbol": "AAPL"
           },
           {
            "Unnamed: 0": 460,
            "date": "2001-12-01",
            "price": 10.95,
            "symbol": "AAPL"
           },
           {
            "Unnamed: 0": 461,
            "date": "2002-01-01",
            "price": 12.36,
            "symbol": "AAPL"
           },
           {
            "Unnamed: 0": 462,
            "date": "2002-02-01",
            "price": 10.85,
            "symbol": "AAPL"
           },
           {
            "Unnamed: 0": 463,
            "date": "2002-03-01",
            "price": 11.84,
            "symbol": "AAPL"
           },
           {
            "Unnamed: 0": 464,
            "date": "2002-04-01",
            "price": 12.14,
            "symbol": "AAPL"
           },
           {
            "Unnamed: 0": 465,
            "date": "2002-05-01",
            "price": 11.65,
            "symbol": "AAPL"
           },
           {
            "Unnamed: 0": 466,
            "date": "2002-06-01",
            "price": 8.86,
            "symbol": "AAPL"
           },
           {
            "Unnamed: 0": 467,
            "date": "2002-07-01",
            "price": 7.63,
            "symbol": "AAPL"
           },
           {
            "Unnamed: 0": 468,
            "date": "2002-08-01",
            "price": 7.38,
            "symbol": "AAPL"
           },
           {
            "Unnamed: 0": 469,
            "date": "2002-09-01",
            "price": 7.25,
            "symbol": "AAPL"
           },
           {
            "Unnamed: 0": 470,
            "date": "2002-10-01",
            "price": 8.03,
            "symbol": "AAPL"
           },
           {
            "Unnamed: 0": 471,
            "date": "2002-11-01",
            "price": 7.75,
            "symbol": "AAPL"
           },
           {
            "Unnamed: 0": 472,
            "date": "2002-12-01",
            "price": 7.16,
            "symbol": "AAPL"
           },
           {
            "Unnamed: 0": 473,
            "date": "2003-01-01",
            "price": 7.18,
            "symbol": "AAPL"
           },
           {
            "Unnamed: 0": 474,
            "date": "2003-02-01",
            "price": 7.51,
            "symbol": "AAPL"
           },
           {
            "Unnamed: 0": 475,
            "date": "2003-03-01",
            "price": 7.07,
            "symbol": "AAPL"
           },
           {
            "Unnamed: 0": 476,
            "date": "2003-04-01",
            "price": 7.11,
            "symbol": "AAPL"
           },
           {
            "Unnamed: 0": 477,
            "date": "2003-05-01",
            "price": 8.98,
            "symbol": "AAPL"
           },
           {
            "Unnamed: 0": 478,
            "date": "2003-06-01",
            "price": 9.53,
            "symbol": "AAPL"
           },
           {
            "Unnamed: 0": 479,
            "date": "2003-07-01",
            "price": 10.54,
            "symbol": "AAPL"
           },
           {
            "Unnamed: 0": 480,
            "date": "2003-08-01",
            "price": 11.31,
            "symbol": "AAPL"
           },
           {
            "Unnamed: 0": 481,
            "date": "2003-09-01",
            "price": 10.36,
            "symbol": "AAPL"
           },
           {
            "Unnamed: 0": 482,
            "date": "2003-10-01",
            "price": 11.44,
            "symbol": "AAPL"
           },
           {
            "Unnamed: 0": 483,
            "date": "2003-11-01",
            "price": 10.45,
            "symbol": "AAPL"
           },
           {
            "Unnamed: 0": 484,
            "date": "2003-12-01",
            "price": 10.69,
            "symbol": "AAPL"
           },
           {
            "Unnamed: 0": 485,
            "date": "2004-01-01",
            "price": 11.28,
            "symbol": "AAPL"
           },
           {
            "Unnamed: 0": 486,
            "date": "2004-02-01",
            "price": 11.96,
            "symbol": "AAPL"
           },
           {
            "Unnamed: 0": 487,
            "date": "2004-03-01",
            "price": 13.52,
            "symbol": "AAPL"
           },
           {
            "Unnamed: 0": 488,
            "date": "2004-04-01",
            "price": 12.89,
            "symbol": "AAPL"
           },
           {
            "Unnamed: 0": 489,
            "date": "2004-05-01",
            "price": 14.03,
            "symbol": "AAPL"
           },
           {
            "Unnamed: 0": 490,
            "date": "2004-06-01",
            "price": 16.27,
            "symbol": "AAPL"
           },
           {
            "Unnamed: 0": 491,
            "date": "2004-07-01",
            "price": 16.17,
            "symbol": "AAPL"
           },
           {
            "Unnamed: 0": 492,
            "date": "2004-08-01",
            "price": 17.25,
            "symbol": "AAPL"
           },
           {
            "Unnamed: 0": 493,
            "date": "2004-09-01",
            "price": 19.38,
            "symbol": "AAPL"
           },
           {
            "Unnamed: 0": 494,
            "date": "2004-10-01",
            "price": 26.2,
            "symbol": "AAPL"
           },
           {
            "Unnamed: 0": 495,
            "date": "2004-11-01",
            "price": 33.53,
            "symbol": "AAPL"
           },
           {
            "Unnamed: 0": 496,
            "date": "2004-12-01",
            "price": 32.2,
            "symbol": "AAPL"
           },
           {
            "Unnamed: 0": 497,
            "date": "2005-01-01",
            "price": 38.45,
            "symbol": "AAPL"
           },
           {
            "Unnamed: 0": 498,
            "date": "2005-02-01",
            "price": 44.86,
            "symbol": "AAPL"
           },
           {
            "Unnamed: 0": 499,
            "date": "2005-03-01",
            "price": 41.67,
            "symbol": "AAPL"
           },
           {
            "Unnamed: 0": 500,
            "date": "2005-04-01",
            "price": 36.06,
            "symbol": "AAPL"
           },
           {
            "Unnamed: 0": 501,
            "date": "2005-05-01",
            "price": 39.76,
            "symbol": "AAPL"
           },
           {
            "Unnamed: 0": 502,
            "date": "2005-06-01",
            "price": 36.81,
            "symbol": "AAPL"
           },
           {
            "Unnamed: 0": 503,
            "date": "2005-07-01",
            "price": 42.65,
            "symbol": "AAPL"
           },
           {
            "Unnamed: 0": 504,
            "date": "2005-08-01",
            "price": 46.89,
            "symbol": "AAPL"
           },
           {
            "Unnamed: 0": 505,
            "date": "2005-09-01",
            "price": 53.61,
            "symbol": "AAPL"
           },
           {
            "Unnamed: 0": 506,
            "date": "2005-10-01",
            "price": 57.59,
            "symbol": "AAPL"
           },
           {
            "Unnamed: 0": 507,
            "date": "2005-11-01",
            "price": 67.82,
            "symbol": "AAPL"
           },
           {
            "Unnamed: 0": 508,
            "date": "2005-12-01",
            "price": 71.89,
            "symbol": "AAPL"
           },
           {
            "Unnamed: 0": 509,
            "date": "2006-01-01",
            "price": 75.51,
            "symbol": "AAPL"
           },
           {
            "Unnamed: 0": 510,
            "date": "2006-02-01",
            "price": 68.49,
            "symbol": "AAPL"
           },
           {
            "Unnamed: 0": 511,
            "date": "2006-03-01",
            "price": 62.72,
            "symbol": "AAPL"
           },
           {
            "Unnamed: 0": 512,
            "date": "2006-04-01",
            "price": 70.39,
            "symbol": "AAPL"
           },
           {
            "Unnamed: 0": 513,
            "date": "2006-05-01",
            "price": 59.77,
            "symbol": "AAPL"
           },
           {
            "Unnamed: 0": 514,
            "date": "2006-06-01",
            "price": 57.27,
            "symbol": "AAPL"
           },
           {
            "Unnamed: 0": 515,
            "date": "2006-07-01",
            "price": 67.96,
            "symbol": "AAPL"
           },
           {
            "Unnamed: 0": 516,
            "date": "2006-08-01",
            "price": 67.85,
            "symbol": "AAPL"
           },
           {
            "Unnamed: 0": 517,
            "date": "2006-09-01",
            "price": 76.98,
            "symbol": "AAPL"
           },
           {
            "Unnamed: 0": 518,
            "date": "2006-10-01",
            "price": 81.08,
            "symbol": "AAPL"
           },
           {
            "Unnamed: 0": 519,
            "date": "2006-11-01",
            "price": 91.66,
            "symbol": "AAPL"
           },
           {
            "Unnamed: 0": 520,
            "date": "2006-12-01",
            "price": 84.84,
            "symbol": "AAPL"
           },
           {
            "Unnamed: 0": 521,
            "date": "2007-01-01",
            "price": 85.73,
            "symbol": "AAPL"
           },
           {
            "Unnamed: 0": 522,
            "date": "2007-02-01",
            "price": 84.61,
            "symbol": "AAPL"
           },
           {
            "Unnamed: 0": 523,
            "date": "2007-03-01",
            "price": 92.91,
            "symbol": "AAPL"
           },
           {
            "Unnamed: 0": 524,
            "date": "2007-04-01",
            "price": 99.8,
            "symbol": "AAPL"
           },
           {
            "Unnamed: 0": 525,
            "date": "2007-05-01",
            "price": 121.19,
            "symbol": "AAPL"
           },
           {
            "Unnamed: 0": 526,
            "date": "2007-06-01",
            "price": 122.04,
            "symbol": "AAPL"
           },
           {
            "Unnamed: 0": 527,
            "date": "2007-07-01",
            "price": 131.76,
            "symbol": "AAPL"
           },
           {
            "Unnamed: 0": 528,
            "date": "2007-08-01",
            "price": 138.48,
            "symbol": "AAPL"
           },
           {
            "Unnamed: 0": 529,
            "date": "2007-09-01",
            "price": 153.47,
            "symbol": "AAPL"
           },
           {
            "Unnamed: 0": 530,
            "date": "2007-10-01",
            "price": 189.95,
            "symbol": "AAPL"
           },
           {
            "Unnamed: 0": 531,
            "date": "2007-11-01",
            "price": 182.22,
            "symbol": "AAPL"
           },
           {
            "Unnamed: 0": 532,
            "date": "2007-12-01",
            "price": 198.08,
            "symbol": "AAPL"
           },
           {
            "Unnamed: 0": 533,
            "date": "2008-01-01",
            "price": 135.36,
            "symbol": "AAPL"
           },
           {
            "Unnamed: 0": 534,
            "date": "2008-02-01",
            "price": 125.02,
            "symbol": "AAPL"
           },
           {
            "Unnamed: 0": 535,
            "date": "2008-03-01",
            "price": 143.5,
            "symbol": "AAPL"
           },
           {
            "Unnamed: 0": 536,
            "date": "2008-04-01",
            "price": 173.95,
            "symbol": "AAPL"
           },
           {
            "Unnamed: 0": 537,
            "date": "2008-05-01",
            "price": 188.75,
            "symbol": "AAPL"
           },
           {
            "Unnamed: 0": 538,
            "date": "2008-06-01",
            "price": 167.44,
            "symbol": "AAPL"
           },
           {
            "Unnamed: 0": 539,
            "date": "2008-07-01",
            "price": 158.95,
            "symbol": "AAPL"
           },
           {
            "Unnamed: 0": 540,
            "date": "2008-08-01",
            "price": 169.53,
            "symbol": "AAPL"
           },
           {
            "Unnamed: 0": 541,
            "date": "2008-09-01",
            "price": 113.66,
            "symbol": "AAPL"
           },
           {
            "Unnamed: 0": 542,
            "date": "2008-10-01",
            "price": 107.59,
            "symbol": "AAPL"
           },
           {
            "Unnamed: 0": 543,
            "date": "2008-11-01",
            "price": 92.67,
            "symbol": "AAPL"
           },
           {
            "Unnamed: 0": 544,
            "date": "2008-12-01",
            "price": 85.35,
            "symbol": "AAPL"
           },
           {
            "Unnamed: 0": 545,
            "date": "2009-01-01",
            "price": 90.13,
            "symbol": "AAPL"
           },
           {
            "Unnamed: 0": 546,
            "date": "2009-02-01",
            "price": 89.31,
            "symbol": "AAPL"
           },
           {
            "Unnamed: 0": 547,
            "date": "2009-03-01",
            "price": 105.12,
            "symbol": "AAPL"
           },
           {
            "Unnamed: 0": 548,
            "date": "2009-04-01",
            "price": 125.83,
            "symbol": "AAPL"
           },
           {
            "Unnamed: 0": 549,
            "date": "2009-05-01",
            "price": 135.81,
            "symbol": "AAPL"
           },
           {
            "Unnamed: 0": 550,
            "date": "2009-06-01",
            "price": 142.43,
            "symbol": "AAPL"
           },
           {
            "Unnamed: 0": 551,
            "date": "2009-07-01",
            "price": 163.39,
            "symbol": "AAPL"
           },
           {
            "Unnamed: 0": 552,
            "date": "2009-08-01",
            "price": 168.21,
            "symbol": "AAPL"
           },
           {
            "Unnamed: 0": 553,
            "date": "2009-09-01",
            "price": 185.35,
            "symbol": "AAPL"
           },
           {
            "Unnamed: 0": 554,
            "date": "2009-10-01",
            "price": 188.5,
            "symbol": "AAPL"
           },
           {
            "Unnamed: 0": 555,
            "date": "2009-11-01",
            "price": 199.91,
            "symbol": "AAPL"
           },
           {
            "Unnamed: 0": 556,
            "date": "2009-12-01",
            "price": 210.73,
            "symbol": "AAPL"
           },
           {
            "Unnamed: 0": 557,
            "date": "2010-01-01",
            "price": 192.06,
            "symbol": "AAPL"
           },
           {
            "Unnamed: 0": 558,
            "date": "2010-02-01",
            "price": 204.62,
            "symbol": "AAPL"
           },
           {
            "Unnamed: 0": 559,
            "date": "2010-03-01",
            "price": 223.02,
            "symbol": "AAPL"
           }
          ]
         },
         "encoding": {
          "color": {
           "field": "symbol",
           "type": "nominal"
          },
          "tooltip": [
           {
            "field": "Unnamed: 0",
            "type": "quantitative"
           },
           {
            "field": "symbol",
            "type": "nominal"
           },
           {
            "field": "date",
            "type": "nominal"
           },
           {
            "field": "price",
            "type": "quantitative"
           }
          ],
          "x": {
           "field": "date",
           "type": "temporal"
          },
          "y": {
           "field": "price",
           "stack": null,
           "type": "quantitative"
          }
         },
         "height": 400,
         "mark": {
          "opacity": 0.5,
          "type": "area"
         },
         "selection": {
          "selector055": {
           "bind": "scales",
           "encodings": [
            "x"
           ],
           "mark": {
            "fill": "#333",
            "fillOpacity": 0.125,
            "stroke": "white"
           },
           "on": "[mousedown, window:mouseup] > window:mousemove!",
           "resolve": "global",
           "translate": "[mousedown, window:mouseup] > window:mousemove!",
           "type": "interval",
           "zoom": "wheel!"
          }
         },
         "width": 1000
        },
        {
         "data": {
          "values": [
           {
            "Unnamed: 0": 0,
            "date": "2000-01-01",
            "price": 39.81,
            "symbol": "MSFT"
           },
           {
            "Unnamed: 0": 1,
            "date": "2000-02-01",
            "price": 36.35,
            "symbol": "MSFT"
           },
           {
            "Unnamed: 0": 2,
            "date": "2000-03-01",
            "price": 43.22,
            "symbol": "MSFT"
           },
           {
            "Unnamed: 0": 3,
            "date": "2000-04-01",
            "price": 28.37,
            "symbol": "MSFT"
           },
           {
            "Unnamed: 0": 4,
            "date": "2000-05-01",
            "price": 25.45,
            "symbol": "MSFT"
           },
           {
            "Unnamed: 0": 5,
            "date": "2000-06-01",
            "price": 32.54,
            "symbol": "MSFT"
           },
           {
            "Unnamed: 0": 6,
            "date": "2000-07-01",
            "price": 28.4,
            "symbol": "MSFT"
           },
           {
            "Unnamed: 0": 7,
            "date": "2000-08-01",
            "price": 28.4,
            "symbol": "MSFT"
           },
           {
            "Unnamed: 0": 8,
            "date": "2000-09-01",
            "price": 24.53,
            "symbol": "MSFT"
           },
           {
            "Unnamed: 0": 9,
            "date": "2000-10-01",
            "price": 28.02,
            "symbol": "MSFT"
           },
           {
            "Unnamed: 0": 10,
            "date": "2000-11-01",
            "price": 23.34,
            "symbol": "MSFT"
           },
           {
            "Unnamed: 0": 11,
            "date": "2000-12-01",
            "price": 17.65,
            "symbol": "MSFT"
           },
           {
            "Unnamed: 0": 12,
            "date": "2001-01-01",
            "price": 24.84,
            "symbol": "MSFT"
           },
           {
            "Unnamed: 0": 13,
            "date": "2001-02-01",
            "price": 24,
            "symbol": "MSFT"
           },
           {
            "Unnamed: 0": 14,
            "date": "2001-03-01",
            "price": 22.25,
            "symbol": "MSFT"
           },
           {
            "Unnamed: 0": 15,
            "date": "2001-04-01",
            "price": 27.56,
            "symbol": "MSFT"
           },
           {
            "Unnamed: 0": 16,
            "date": "2001-05-01",
            "price": 28.14,
            "symbol": "MSFT"
           },
           {
            "Unnamed: 0": 17,
            "date": "2001-06-01",
            "price": 29.7,
            "symbol": "MSFT"
           },
           {
            "Unnamed: 0": 18,
            "date": "2001-07-01",
            "price": 26.93,
            "symbol": "MSFT"
           },
           {
            "Unnamed: 0": 19,
            "date": "2001-08-01",
            "price": 23.21,
            "symbol": "MSFT"
           },
           {
            "Unnamed: 0": 20,
            "date": "2001-09-01",
            "price": 20.82,
            "symbol": "MSFT"
           },
           {
            "Unnamed: 0": 21,
            "date": "2001-10-01",
            "price": 23.65,
            "symbol": "MSFT"
           },
           {
            "Unnamed: 0": 22,
            "date": "2001-11-01",
            "price": 26.12,
            "symbol": "MSFT"
           },
           {
            "Unnamed: 0": 23,
            "date": "2001-12-01",
            "price": 26.95,
            "symbol": "MSFT"
           },
           {
            "Unnamed: 0": 24,
            "date": "2002-01-01",
            "price": 25.92,
            "symbol": "MSFT"
           },
           {
            "Unnamed: 0": 25,
            "date": "2002-02-01",
            "price": 23.73,
            "symbol": "MSFT"
           },
           {
            "Unnamed: 0": 26,
            "date": "2002-03-01",
            "price": 24.53,
            "symbol": "MSFT"
           },
           {
            "Unnamed: 0": 27,
            "date": "2002-04-01",
            "price": 21.26,
            "symbol": "MSFT"
           },
           {
            "Unnamed: 0": 28,
            "date": "2002-05-01",
            "price": 20.71,
            "symbol": "MSFT"
           },
           {
            "Unnamed: 0": 29,
            "date": "2002-06-01",
            "price": 22.25,
            "symbol": "MSFT"
           },
           {
            "Unnamed: 0": 30,
            "date": "2002-07-01",
            "price": 19.52,
            "symbol": "MSFT"
           },
           {
            "Unnamed: 0": 31,
            "date": "2002-08-01",
            "price": 19.97,
            "symbol": "MSFT"
           },
           {
            "Unnamed: 0": 32,
            "date": "2002-09-01",
            "price": 17.79,
            "symbol": "MSFT"
           },
           {
            "Unnamed: 0": 33,
            "date": "2002-10-01",
            "price": 21.75,
            "symbol": "MSFT"
           },
           {
            "Unnamed: 0": 34,
            "date": "2002-11-01",
            "price": 23.46,
            "symbol": "MSFT"
           },
           {
            "Unnamed: 0": 35,
            "date": "2002-12-01",
            "price": 21.03,
            "symbol": "MSFT"
           },
           {
            "Unnamed: 0": 36,
            "date": "2003-01-01",
            "price": 19.31,
            "symbol": "MSFT"
           },
           {
            "Unnamed: 0": 37,
            "date": "2003-02-01",
            "price": 19.34,
            "symbol": "MSFT"
           },
           {
            "Unnamed: 0": 38,
            "date": "2003-03-01",
            "price": 19.76,
            "symbol": "MSFT"
           },
           {
            "Unnamed: 0": 39,
            "date": "2003-04-01",
            "price": 20.87,
            "symbol": "MSFT"
           },
           {
            "Unnamed: 0": 40,
            "date": "2003-05-01",
            "price": 20.09,
            "symbol": "MSFT"
           },
           {
            "Unnamed: 0": 41,
            "date": "2003-06-01",
            "price": 20.93,
            "symbol": "MSFT"
           },
           {
            "Unnamed: 0": 42,
            "date": "2003-07-01",
            "price": 21.56,
            "symbol": "MSFT"
           },
           {
            "Unnamed: 0": 43,
            "date": "2003-08-01",
            "price": 21.65,
            "symbol": "MSFT"
           },
           {
            "Unnamed: 0": 44,
            "date": "2003-09-01",
            "price": 22.69,
            "symbol": "MSFT"
           },
           {
            "Unnamed: 0": 45,
            "date": "2003-10-01",
            "price": 21.45,
            "symbol": "MSFT"
           },
           {
            "Unnamed: 0": 46,
            "date": "2003-11-01",
            "price": 21.1,
            "symbol": "MSFT"
           },
           {
            "Unnamed: 0": 47,
            "date": "2003-12-01",
            "price": 22.46,
            "symbol": "MSFT"
           },
           {
            "Unnamed: 0": 48,
            "date": "2004-01-01",
            "price": 22.69,
            "symbol": "MSFT"
           },
           {
            "Unnamed: 0": 49,
            "date": "2004-02-01",
            "price": 21.77,
            "symbol": "MSFT"
           },
           {
            "Unnamed: 0": 50,
            "date": "2004-03-01",
            "price": 20.46,
            "symbol": "MSFT"
           },
           {
            "Unnamed: 0": 51,
            "date": "2004-04-01",
            "price": 21.45,
            "symbol": "MSFT"
           },
           {
            "Unnamed: 0": 52,
            "date": "2004-05-01",
            "price": 21.53,
            "symbol": "MSFT"
           },
           {
            "Unnamed: 0": 53,
            "date": "2004-06-01",
            "price": 23.44,
            "symbol": "MSFT"
           },
           {
            "Unnamed: 0": 54,
            "date": "2004-07-01",
            "price": 23.38,
            "symbol": "MSFT"
           },
           {
            "Unnamed: 0": 55,
            "date": "2004-08-01",
            "price": 22.47,
            "symbol": "MSFT"
           },
           {
            "Unnamed: 0": 56,
            "date": "2004-09-01",
            "price": 22.76,
            "symbol": "MSFT"
           },
           {
            "Unnamed: 0": 57,
            "date": "2004-10-01",
            "price": 23.02,
            "symbol": "MSFT"
           },
           {
            "Unnamed: 0": 58,
            "date": "2004-11-01",
            "price": 24.6,
            "symbol": "MSFT"
           },
           {
            "Unnamed: 0": 59,
            "date": "2004-12-01",
            "price": 24.52,
            "symbol": "MSFT"
           },
           {
            "Unnamed: 0": 60,
            "date": "2005-01-01",
            "price": 24.11,
            "symbol": "MSFT"
           },
           {
            "Unnamed: 0": 61,
            "date": "2005-02-01",
            "price": 23.15,
            "symbol": "MSFT"
           },
           {
            "Unnamed: 0": 62,
            "date": "2005-03-01",
            "price": 22.24,
            "symbol": "MSFT"
           },
           {
            "Unnamed: 0": 63,
            "date": "2005-04-01",
            "price": 23.28,
            "symbol": "MSFT"
           },
           {
            "Unnamed: 0": 64,
            "date": "2005-05-01",
            "price": 23.82,
            "symbol": "MSFT"
           },
           {
            "Unnamed: 0": 65,
            "date": "2005-06-01",
            "price": 22.93,
            "symbol": "MSFT"
           },
           {
            "Unnamed: 0": 66,
            "date": "2005-07-01",
            "price": 23.64,
            "symbol": "MSFT"
           },
           {
            "Unnamed: 0": 67,
            "date": "2005-08-01",
            "price": 25.35,
            "symbol": "MSFT"
           },
           {
            "Unnamed: 0": 68,
            "date": "2005-09-01",
            "price": 23.83,
            "symbol": "MSFT"
           },
           {
            "Unnamed: 0": 69,
            "date": "2005-10-01",
            "price": 23.8,
            "symbol": "MSFT"
           },
           {
            "Unnamed: 0": 70,
            "date": "2005-11-01",
            "price": 25.71,
            "symbol": "MSFT"
           },
           {
            "Unnamed: 0": 71,
            "date": "2005-12-01",
            "price": 24.29,
            "symbol": "MSFT"
           },
           {
            "Unnamed: 0": 72,
            "date": "2006-01-01",
            "price": 26.14,
            "symbol": "MSFT"
           },
           {
            "Unnamed: 0": 73,
            "date": "2006-02-01",
            "price": 25.04,
            "symbol": "MSFT"
           },
           {
            "Unnamed: 0": 74,
            "date": "2006-03-01",
            "price": 25.36,
            "symbol": "MSFT"
           },
           {
            "Unnamed: 0": 75,
            "date": "2006-04-01",
            "price": 22.5,
            "symbol": "MSFT"
           },
           {
            "Unnamed: 0": 76,
            "date": "2006-05-01",
            "price": 21.19,
            "symbol": "MSFT"
           },
           {
            "Unnamed: 0": 77,
            "date": "2006-06-01",
            "price": 21.8,
            "symbol": "MSFT"
           },
           {
            "Unnamed: 0": 78,
            "date": "2006-07-01",
            "price": 22.51,
            "symbol": "MSFT"
           },
           {
            "Unnamed: 0": 79,
            "date": "2006-08-01",
            "price": 24.13,
            "symbol": "MSFT"
           },
           {
            "Unnamed: 0": 80,
            "date": "2006-09-01",
            "price": 25.68,
            "symbol": "MSFT"
           },
           {
            "Unnamed: 0": 81,
            "date": "2006-10-01",
            "price": 26.96,
            "symbol": "MSFT"
           },
           {
            "Unnamed: 0": 82,
            "date": "2006-11-01",
            "price": 27.66,
            "symbol": "MSFT"
           },
           {
            "Unnamed: 0": 83,
            "date": "2006-12-01",
            "price": 28.13,
            "symbol": "MSFT"
           },
           {
            "Unnamed: 0": 84,
            "date": "2007-01-01",
            "price": 29.07,
            "symbol": "MSFT"
           },
           {
            "Unnamed: 0": 85,
            "date": "2007-02-01",
            "price": 26.63,
            "symbol": "MSFT"
           },
           {
            "Unnamed: 0": 86,
            "date": "2007-03-01",
            "price": 26.35,
            "symbol": "MSFT"
           },
           {
            "Unnamed: 0": 87,
            "date": "2007-04-01",
            "price": 28.3,
            "symbol": "MSFT"
           },
           {
            "Unnamed: 0": 88,
            "date": "2007-05-01",
            "price": 29.11,
            "symbol": "MSFT"
           },
           {
            "Unnamed: 0": 89,
            "date": "2007-06-01",
            "price": 27.95,
            "symbol": "MSFT"
           },
           {
            "Unnamed: 0": 90,
            "date": "2007-07-01",
            "price": 27.5,
            "symbol": "MSFT"
           },
           {
            "Unnamed: 0": 91,
            "date": "2007-08-01",
            "price": 27.34,
            "symbol": "MSFT"
           },
           {
            "Unnamed: 0": 92,
            "date": "2007-09-01",
            "price": 28.04,
            "symbol": "MSFT"
           },
           {
            "Unnamed: 0": 93,
            "date": "2007-10-01",
            "price": 35.03,
            "symbol": "MSFT"
           },
           {
            "Unnamed: 0": 94,
            "date": "2007-11-01",
            "price": 32.09,
            "symbol": "MSFT"
           },
           {
            "Unnamed: 0": 95,
            "date": "2007-12-01",
            "price": 34,
            "symbol": "MSFT"
           },
           {
            "Unnamed: 0": 96,
            "date": "2008-01-01",
            "price": 31.13,
            "symbol": "MSFT"
           },
           {
            "Unnamed: 0": 97,
            "date": "2008-02-01",
            "price": 26.07,
            "symbol": "MSFT"
           },
           {
            "Unnamed: 0": 98,
            "date": "2008-03-01",
            "price": 27.21,
            "symbol": "MSFT"
           },
           {
            "Unnamed: 0": 99,
            "date": "2008-04-01",
            "price": 27.34,
            "symbol": "MSFT"
           },
           {
            "Unnamed: 0": 100,
            "date": "2008-05-01",
            "price": 27.25,
            "symbol": "MSFT"
           },
           {
            "Unnamed: 0": 101,
            "date": "2008-06-01",
            "price": 26.47,
            "symbol": "MSFT"
           },
           {
            "Unnamed: 0": 102,
            "date": "2008-07-01",
            "price": 24.75,
            "symbol": "MSFT"
           },
           {
            "Unnamed: 0": 103,
            "date": "2008-08-01",
            "price": 26.36,
            "symbol": "MSFT"
           },
           {
            "Unnamed: 0": 104,
            "date": "2008-09-01",
            "price": 25.78,
            "symbol": "MSFT"
           },
           {
            "Unnamed: 0": 105,
            "date": "2008-10-01",
            "price": 21.57,
            "symbol": "MSFT"
           },
           {
            "Unnamed: 0": 106,
            "date": "2008-11-01",
            "price": 19.66,
            "symbol": "MSFT"
           },
           {
            "Unnamed: 0": 107,
            "date": "2008-12-01",
            "price": 18.91,
            "symbol": "MSFT"
           },
           {
            "Unnamed: 0": 108,
            "date": "2009-01-01",
            "price": 16.63,
            "symbol": "MSFT"
           },
           {
            "Unnamed: 0": 109,
            "date": "2009-02-01",
            "price": 15.81,
            "symbol": "MSFT"
           },
           {
            "Unnamed: 0": 110,
            "date": "2009-03-01",
            "price": 17.99,
            "symbol": "MSFT"
           },
           {
            "Unnamed: 0": 111,
            "date": "2009-04-01",
            "price": 19.84,
            "symbol": "MSFT"
           },
           {
            "Unnamed: 0": 112,
            "date": "2009-05-01",
            "price": 20.59,
            "symbol": "MSFT"
           },
           {
            "Unnamed: 0": 113,
            "date": "2009-06-01",
            "price": 23.42,
            "symbol": "MSFT"
           },
           {
            "Unnamed: 0": 114,
            "date": "2009-07-01",
            "price": 23.18,
            "symbol": "MSFT"
           },
           {
            "Unnamed: 0": 115,
            "date": "2009-08-01",
            "price": 24.43,
            "symbol": "MSFT"
           },
           {
            "Unnamed: 0": 116,
            "date": "2009-09-01",
            "price": 25.49,
            "symbol": "MSFT"
           },
           {
            "Unnamed: 0": 117,
            "date": "2009-10-01",
            "price": 27.48,
            "symbol": "MSFT"
           },
           {
            "Unnamed: 0": 118,
            "date": "2009-11-01",
            "price": 29.27,
            "symbol": "MSFT"
           },
           {
            "Unnamed: 0": 119,
            "date": "2009-12-01",
            "price": 30.34,
            "symbol": "MSFT"
           },
           {
            "Unnamed: 0": 120,
            "date": "2010-01-01",
            "price": 28.05,
            "symbol": "MSFT"
           },
           {
            "Unnamed: 0": 121,
            "date": "2010-02-01",
            "price": 28.67,
            "symbol": "MSFT"
           },
           {
            "Unnamed: 0": 122,
            "date": "2010-03-01",
            "price": 28.8,
            "symbol": "MSFT"
           },
           {
            "Unnamed: 0": 123,
            "date": "2000-01-01",
            "price": 64.56,
            "symbol": "AMZN"
           },
           {
            "Unnamed: 0": 124,
            "date": "2000-02-01",
            "price": 68.87,
            "symbol": "AMZN"
           },
           {
            "Unnamed: 0": 125,
            "date": "2000-03-01",
            "price": 67,
            "symbol": "AMZN"
           },
           {
            "Unnamed: 0": 126,
            "date": "2000-04-01",
            "price": 55.19,
            "symbol": "AMZN"
           },
           {
            "Unnamed: 0": 127,
            "date": "2000-05-01",
            "price": 48.31,
            "symbol": "AMZN"
           },
           {
            "Unnamed: 0": 128,
            "date": "2000-06-01",
            "price": 36.31,
            "symbol": "AMZN"
           },
           {
            "Unnamed: 0": 129,
            "date": "2000-07-01",
            "price": 30.12,
            "symbol": "AMZN"
           },
           {
            "Unnamed: 0": 130,
            "date": "2000-08-01",
            "price": 41.5,
            "symbol": "AMZN"
           },
           {
            "Unnamed: 0": 131,
            "date": "2000-09-01",
            "price": 38.44,
            "symbol": "AMZN"
           },
           {
            "Unnamed: 0": 132,
            "date": "2000-10-01",
            "price": 36.62,
            "symbol": "AMZN"
           },
           {
            "Unnamed: 0": 133,
            "date": "2000-11-01",
            "price": 24.69,
            "symbol": "AMZN"
           },
           {
            "Unnamed: 0": 134,
            "date": "2000-12-01",
            "price": 15.56,
            "symbol": "AMZN"
           },
           {
            "Unnamed: 0": 135,
            "date": "2001-01-01",
            "price": 17.31,
            "symbol": "AMZN"
           },
           {
            "Unnamed: 0": 136,
            "date": "2001-02-01",
            "price": 10.19,
            "symbol": "AMZN"
           },
           {
            "Unnamed: 0": 137,
            "date": "2001-03-01",
            "price": 10.23,
            "symbol": "AMZN"
           },
           {
            "Unnamed: 0": 138,
            "date": "2001-04-01",
            "price": 15.78,
            "symbol": "AMZN"
           },
           {
            "Unnamed: 0": 139,
            "date": "2001-05-01",
            "price": 16.69,
            "symbol": "AMZN"
           },
           {
            "Unnamed: 0": 140,
            "date": "2001-06-01",
            "price": 14.15,
            "symbol": "AMZN"
           },
           {
            "Unnamed: 0": 141,
            "date": "2001-07-01",
            "price": 12.49,
            "symbol": "AMZN"
           },
           {
            "Unnamed: 0": 142,
            "date": "2001-08-01",
            "price": 8.94,
            "symbol": "AMZN"
           },
           {
            "Unnamed: 0": 143,
            "date": "2001-09-01",
            "price": 5.97,
            "symbol": "AMZN"
           },
           {
            "Unnamed: 0": 144,
            "date": "2001-10-01",
            "price": 6.98,
            "symbol": "AMZN"
           },
           {
            "Unnamed: 0": 145,
            "date": "2001-11-01",
            "price": 11.32,
            "symbol": "AMZN"
           },
           {
            "Unnamed: 0": 146,
            "date": "2001-12-01",
            "price": 10.82,
            "symbol": "AMZN"
           },
           {
            "Unnamed: 0": 147,
            "date": "2002-01-01",
            "price": 14.19,
            "symbol": "AMZN"
           },
           {
            "Unnamed: 0": 148,
            "date": "2002-02-01",
            "price": 14.1,
            "symbol": "AMZN"
           },
           {
            "Unnamed: 0": 149,
            "date": "2002-03-01",
            "price": 14.3,
            "symbol": "AMZN"
           },
           {
            "Unnamed: 0": 150,
            "date": "2002-04-01",
            "price": 16.69,
            "symbol": "AMZN"
           },
           {
            "Unnamed: 0": 151,
            "date": "2002-05-01",
            "price": 18.23,
            "symbol": "AMZN"
           },
           {
            "Unnamed: 0": 152,
            "date": "2002-06-01",
            "price": 16.25,
            "symbol": "AMZN"
           },
           {
            "Unnamed: 0": 153,
            "date": "2002-07-01",
            "price": 14.45,
            "symbol": "AMZN"
           },
           {
            "Unnamed: 0": 154,
            "date": "2002-08-01",
            "price": 14.94,
            "symbol": "AMZN"
           },
           {
            "Unnamed: 0": 155,
            "date": "2002-09-01",
            "price": 15.93,
            "symbol": "AMZN"
           },
           {
            "Unnamed: 0": 156,
            "date": "2002-10-01",
            "price": 19.36,
            "symbol": "AMZN"
           },
           {
            "Unnamed: 0": 157,
            "date": "2002-11-01",
            "price": 23.35,
            "symbol": "AMZN"
           },
           {
            "Unnamed: 0": 158,
            "date": "2002-12-01",
            "price": 18.89,
            "symbol": "AMZN"
           },
           {
            "Unnamed: 0": 159,
            "date": "2003-01-01",
            "price": 21.85,
            "symbol": "AMZN"
           },
           {
            "Unnamed: 0": 160,
            "date": "2003-02-01",
            "price": 22.01,
            "symbol": "AMZN"
           },
           {
            "Unnamed: 0": 161,
            "date": "2003-03-01",
            "price": 26.03,
            "symbol": "AMZN"
           },
           {
            "Unnamed: 0": 162,
            "date": "2003-04-01",
            "price": 28.69,
            "symbol": "AMZN"
           },
           {
            "Unnamed: 0": 163,
            "date": "2003-05-01",
            "price": 35.89,
            "symbol": "AMZN"
           },
           {
            "Unnamed: 0": 164,
            "date": "2003-06-01",
            "price": 36.32,
            "symbol": "AMZN"
           },
           {
            "Unnamed: 0": 165,
            "date": "2003-07-01",
            "price": 41.64,
            "symbol": "AMZN"
           },
           {
            "Unnamed: 0": 166,
            "date": "2003-08-01",
            "price": 46.32,
            "symbol": "AMZN"
           },
           {
            "Unnamed: 0": 167,
            "date": "2003-09-01",
            "price": 48.43,
            "symbol": "AMZN"
           },
           {
            "Unnamed: 0": 168,
            "date": "2003-10-01",
            "price": 54.43,
            "symbol": "AMZN"
           },
           {
            "Unnamed: 0": 169,
            "date": "2003-11-01",
            "price": 53.97,
            "symbol": "AMZN"
           },
           {
            "Unnamed: 0": 170,
            "date": "2003-12-01",
            "price": 52.62,
            "symbol": "AMZN"
           },
           {
            "Unnamed: 0": 171,
            "date": "2004-01-01",
            "price": 50.4,
            "symbol": "AMZN"
           },
           {
            "Unnamed: 0": 172,
            "date": "2004-02-01",
            "price": 43.01,
            "symbol": "AMZN"
           },
           {
            "Unnamed: 0": 173,
            "date": "2004-03-01",
            "price": 43.28,
            "symbol": "AMZN"
           },
           {
            "Unnamed: 0": 174,
            "date": "2004-04-01",
            "price": 43.6,
            "symbol": "AMZN"
           },
           {
            "Unnamed: 0": 175,
            "date": "2004-05-01",
            "price": 48.5,
            "symbol": "AMZN"
           },
           {
            "Unnamed: 0": 176,
            "date": "2004-06-01",
            "price": 54.4,
            "symbol": "AMZN"
           },
           {
            "Unnamed: 0": 177,
            "date": "2004-07-01",
            "price": 38.92,
            "symbol": "AMZN"
           },
           {
            "Unnamed: 0": 178,
            "date": "2004-08-01",
            "price": 38.14,
            "symbol": "AMZN"
           },
           {
            "Unnamed: 0": 179,
            "date": "2004-09-01",
            "price": 40.86,
            "symbol": "AMZN"
           },
           {
            "Unnamed: 0": 180,
            "date": "2004-10-01",
            "price": 34.13,
            "symbol": "AMZN"
           },
           {
            "Unnamed: 0": 181,
            "date": "2004-11-01",
            "price": 39.68,
            "symbol": "AMZN"
           },
           {
            "Unnamed: 0": 182,
            "date": "2004-12-01",
            "price": 44.29,
            "symbol": "AMZN"
           },
           {
            "Unnamed: 0": 183,
            "date": "2005-01-01",
            "price": 43.22,
            "symbol": "AMZN"
           },
           {
            "Unnamed: 0": 184,
            "date": "2005-02-01",
            "price": 35.18,
            "symbol": "AMZN"
           },
           {
            "Unnamed: 0": 185,
            "date": "2005-03-01",
            "price": 34.27,
            "symbol": "AMZN"
           },
           {
            "Unnamed: 0": 186,
            "date": "2005-04-01",
            "price": 32.36,
            "symbol": "AMZN"
           },
           {
            "Unnamed: 0": 187,
            "date": "2005-05-01",
            "price": 35.51,
            "symbol": "AMZN"
           },
           {
            "Unnamed: 0": 188,
            "date": "2005-06-01",
            "price": 33.09,
            "symbol": "AMZN"
           },
           {
            "Unnamed: 0": 189,
            "date": "2005-07-01",
            "price": 45.15,
            "symbol": "AMZN"
           },
           {
            "Unnamed: 0": 190,
            "date": "2005-08-01",
            "price": 42.7,
            "symbol": "AMZN"
           },
           {
            "Unnamed: 0": 191,
            "date": "2005-09-01",
            "price": 45.3,
            "symbol": "AMZN"
           },
           {
            "Unnamed: 0": 192,
            "date": "2005-10-01",
            "price": 39.86,
            "symbol": "AMZN"
           },
           {
            "Unnamed: 0": 193,
            "date": "2005-11-01",
            "price": 48.46,
            "symbol": "AMZN"
           },
           {
            "Unnamed: 0": 194,
            "date": "2005-12-01",
            "price": 47.15,
            "symbol": "AMZN"
           },
           {
            "Unnamed: 0": 195,
            "date": "2006-01-01",
            "price": 44.82,
            "symbol": "AMZN"
           },
           {
            "Unnamed: 0": 196,
            "date": "2006-02-01",
            "price": 37.44,
            "symbol": "AMZN"
           },
           {
            "Unnamed: 0": 197,
            "date": "2006-03-01",
            "price": 36.53,
            "symbol": "AMZN"
           },
           {
            "Unnamed: 0": 198,
            "date": "2006-04-01",
            "price": 35.21,
            "symbol": "AMZN"
           },
           {
            "Unnamed: 0": 199,
            "date": "2006-05-01",
            "price": 34.61,
            "symbol": "AMZN"
           },
           {
            "Unnamed: 0": 200,
            "date": "2006-06-01",
            "price": 38.68,
            "symbol": "AMZN"
           },
           {
            "Unnamed: 0": 201,
            "date": "2006-07-01",
            "price": 26.89,
            "symbol": "AMZN"
           },
           {
            "Unnamed: 0": 202,
            "date": "2006-08-01",
            "price": 30.83,
            "symbol": "AMZN"
           },
           {
            "Unnamed: 0": 203,
            "date": "2006-09-01",
            "price": 32.12,
            "symbol": "AMZN"
           },
           {
            "Unnamed: 0": 204,
            "date": "2006-10-01",
            "price": 38.09,
            "symbol": "AMZN"
           },
           {
            "Unnamed: 0": 205,
            "date": "2006-11-01",
            "price": 40.34,
            "symbol": "AMZN"
           },
           {
            "Unnamed: 0": 206,
            "date": "2006-12-01",
            "price": 39.46,
            "symbol": "AMZN"
           },
           {
            "Unnamed: 0": 207,
            "date": "2007-01-01",
            "price": 37.67,
            "symbol": "AMZN"
           },
           {
            "Unnamed: 0": 208,
            "date": "2007-02-01",
            "price": 39.14,
            "symbol": "AMZN"
           },
           {
            "Unnamed: 0": 209,
            "date": "2007-03-01",
            "price": 39.79,
            "symbol": "AMZN"
           },
           {
            "Unnamed: 0": 210,
            "date": "2007-04-01",
            "price": 61.33,
            "symbol": "AMZN"
           },
           {
            "Unnamed: 0": 211,
            "date": "2007-05-01",
            "price": 69.14,
            "symbol": "AMZN"
           },
           {
            "Unnamed: 0": 212,
            "date": "2007-06-01",
            "price": 68.41,
            "symbol": "AMZN"
           },
           {
            "Unnamed: 0": 213,
            "date": "2007-07-01",
            "price": 78.54,
            "symbol": "AMZN"
           },
           {
            "Unnamed: 0": 214,
            "date": "2007-08-01",
            "price": 79.91,
            "symbol": "AMZN"
           },
           {
            "Unnamed: 0": 215,
            "date": "2007-09-01",
            "price": 93.15,
            "symbol": "AMZN"
           },
           {
            "Unnamed: 0": 216,
            "date": "2007-10-01",
            "price": 89.15,
            "symbol": "AMZN"
           },
           {
            "Unnamed: 0": 217,
            "date": "2007-11-01",
            "price": 90.56,
            "symbol": "AMZN"
           },
           {
            "Unnamed: 0": 218,
            "date": "2007-12-01",
            "price": 92.64,
            "symbol": "AMZN"
           },
           {
            "Unnamed: 0": 219,
            "date": "2008-01-01",
            "price": 77.7,
            "symbol": "AMZN"
           },
           {
            "Unnamed: 0": 220,
            "date": "2008-02-01",
            "price": 64.47,
            "symbol": "AMZN"
           },
           {
            "Unnamed: 0": 221,
            "date": "2008-03-01",
            "price": 71.3,
            "symbol": "AMZN"
           },
           {
            "Unnamed: 0": 222,
            "date": "2008-04-01",
            "price": 78.63,
            "symbol": "AMZN"
           },
           {
            "Unnamed: 0": 223,
            "date": "2008-05-01",
            "price": 81.62,
            "symbol": "AMZN"
           },
           {
            "Unnamed: 0": 224,
            "date": "2008-06-01",
            "price": 73.33,
            "symbol": "AMZN"
           },
           {
            "Unnamed: 0": 225,
            "date": "2008-07-01",
            "price": 76.34,
            "symbol": "AMZN"
           },
           {
            "Unnamed: 0": 226,
            "date": "2008-08-01",
            "price": 80.81,
            "symbol": "AMZN"
           },
           {
            "Unnamed: 0": 227,
            "date": "2008-09-01",
            "price": 72.76,
            "symbol": "AMZN"
           },
           {
            "Unnamed: 0": 228,
            "date": "2008-10-01",
            "price": 57.24,
            "symbol": "AMZN"
           },
           {
            "Unnamed: 0": 229,
            "date": "2008-11-01",
            "price": 42.7,
            "symbol": "AMZN"
           },
           {
            "Unnamed: 0": 230,
            "date": "2008-12-01",
            "price": 51.28,
            "symbol": "AMZN"
           },
           {
            "Unnamed: 0": 231,
            "date": "2009-01-01",
            "price": 58.82,
            "symbol": "AMZN"
           },
           {
            "Unnamed: 0": 232,
            "date": "2009-02-01",
            "price": 64.79,
            "symbol": "AMZN"
           },
           {
            "Unnamed: 0": 233,
            "date": "2009-03-01",
            "price": 73.44,
            "symbol": "AMZN"
           },
           {
            "Unnamed: 0": 234,
            "date": "2009-04-01",
            "price": 80.52,
            "symbol": "AMZN"
           },
           {
            "Unnamed: 0": 235,
            "date": "2009-05-01",
            "price": 77.99,
            "symbol": "AMZN"
           },
           {
            "Unnamed: 0": 236,
            "date": "2009-06-01",
            "price": 83.66,
            "symbol": "AMZN"
           },
           {
            "Unnamed: 0": 237,
            "date": "2009-07-01",
            "price": 85.76,
            "symbol": "AMZN"
           },
           {
            "Unnamed: 0": 238,
            "date": "2009-08-01",
            "price": 81.19,
            "symbol": "AMZN"
           },
           {
            "Unnamed: 0": 239,
            "date": "2009-09-01",
            "price": 93.36,
            "symbol": "AMZN"
           },
           {
            "Unnamed: 0": 240,
            "date": "2009-10-01",
            "price": 118.81,
            "symbol": "AMZN"
           },
           {
            "Unnamed: 0": 241,
            "date": "2009-11-01",
            "price": 135.91,
            "symbol": "AMZN"
           },
           {
            "Unnamed: 0": 242,
            "date": "2009-12-01",
            "price": 134.52,
            "symbol": "AMZN"
           },
           {
            "Unnamed: 0": 243,
            "date": "2010-01-01",
            "price": 125.41,
            "symbol": "AMZN"
           },
           {
            "Unnamed: 0": 244,
            "date": "2010-02-01",
            "price": 118.4,
            "symbol": "AMZN"
           },
           {
            "Unnamed: 0": 245,
            "date": "2010-03-01",
            "price": 128.82,
            "symbol": "AMZN"
           },
           {
            "Unnamed: 0": 246,
            "date": "2000-01-01",
            "price": 100.52,
            "symbol": "IBM"
           },
           {
            "Unnamed: 0": 247,
            "date": "2000-02-01",
            "price": 92.11,
            "symbol": "IBM"
           },
           {
            "Unnamed: 0": 248,
            "date": "2000-03-01",
            "price": 106.11,
            "symbol": "IBM"
           },
           {
            "Unnamed: 0": 249,
            "date": "2000-04-01",
            "price": 99.95,
            "symbol": "IBM"
           },
           {
            "Unnamed: 0": 250,
            "date": "2000-05-01",
            "price": 96.31,
            "symbol": "IBM"
           },
           {
            "Unnamed: 0": 251,
            "date": "2000-06-01",
            "price": 98.33,
            "symbol": "IBM"
           },
           {
            "Unnamed: 0": 252,
            "date": "2000-07-01",
            "price": 100.74,
            "symbol": "IBM"
           },
           {
            "Unnamed: 0": 253,
            "date": "2000-08-01",
            "price": 118.62,
            "symbol": "IBM"
           },
           {
            "Unnamed: 0": 254,
            "date": "2000-09-01",
            "price": 101.19,
            "symbol": "IBM"
           },
           {
            "Unnamed: 0": 255,
            "date": "2000-10-01",
            "price": 88.5,
            "symbol": "IBM"
           },
           {
            "Unnamed: 0": 256,
            "date": "2000-11-01",
            "price": 84.12,
            "symbol": "IBM"
           },
           {
            "Unnamed: 0": 257,
            "date": "2000-12-01",
            "price": 76.47,
            "symbol": "IBM"
           },
           {
            "Unnamed: 0": 258,
            "date": "2001-01-01",
            "price": 100.76,
            "symbol": "IBM"
           },
           {
            "Unnamed: 0": 259,
            "date": "2001-02-01",
            "price": 89.98,
            "symbol": "IBM"
           },
           {
            "Unnamed: 0": 260,
            "date": "2001-03-01",
            "price": 86.63,
            "symbol": "IBM"
           },
           {
            "Unnamed: 0": 261,
            "date": "2001-04-01",
            "price": 103.7,
            "symbol": "IBM"
           },
           {
            "Unnamed: 0": 262,
            "date": "2001-05-01",
            "price": 100.82,
            "symbol": "IBM"
           },
           {
            "Unnamed: 0": 263,
            "date": "2001-06-01",
            "price": 102.35,
            "symbol": "IBM"
           },
           {
            "Unnamed: 0": 264,
            "date": "2001-07-01",
            "price": 94.87,
            "symbol": "IBM"
           },
           {
            "Unnamed: 0": 265,
            "date": "2001-08-01",
            "price": 90.25,
            "symbol": "IBM"
           },
           {
            "Unnamed: 0": 266,
            "date": "2001-09-01",
            "price": 82.82,
            "symbol": "IBM"
           },
           {
            "Unnamed: 0": 267,
            "date": "2001-10-01",
            "price": 97.58,
            "symbol": "IBM"
           },
           {
            "Unnamed: 0": 268,
            "date": "2001-11-01",
            "price": 104.5,
            "symbol": "IBM"
           },
           {
            "Unnamed: 0": 269,
            "date": "2001-12-01",
            "price": 109.36,
            "symbol": "IBM"
           },
           {
            "Unnamed: 0": 270,
            "date": "2002-01-01",
            "price": 97.54,
            "symbol": "IBM"
           },
           {
            "Unnamed: 0": 271,
            "date": "2002-02-01",
            "price": 88.82,
            "symbol": "IBM"
           },
           {
            "Unnamed: 0": 272,
            "date": "2002-03-01",
            "price": 94.15,
            "symbol": "IBM"
           },
           {
            "Unnamed: 0": 273,
            "date": "2002-04-01",
            "price": 75.82,
            "symbol": "IBM"
           },
           {
            "Unnamed: 0": 274,
            "date": "2002-05-01",
            "price": 72.97,
            "symbol": "IBM"
           },
           {
            "Unnamed: 0": 275,
            "date": "2002-06-01",
            "price": 65.31,
            "symbol": "IBM"
           },
           {
            "Unnamed: 0": 276,
            "date": "2002-07-01",
            "price": 63.86,
            "symbol": "IBM"
           },
           {
            "Unnamed: 0": 277,
            "date": "2002-08-01",
            "price": 68.52,
            "symbol": "IBM"
           },
           {
            "Unnamed: 0": 278,
            "date": "2002-09-01",
            "price": 53.01,
            "symbol": "IBM"
           },
           {
            "Unnamed: 0": 279,
            "date": "2002-10-01",
            "price": 71.76,
            "symbol": "IBM"
           },
           {
            "Unnamed: 0": 280,
            "date": "2002-11-01",
            "price": 79.16,
            "symbol": "IBM"
           },
           {
            "Unnamed: 0": 281,
            "date": "2002-12-01",
            "price": 70.58,
            "symbol": "IBM"
           },
           {
            "Unnamed: 0": 282,
            "date": "2003-01-01",
            "price": 71.22,
            "symbol": "IBM"
           },
           {
            "Unnamed: 0": 283,
            "date": "2003-02-01",
            "price": 71.13,
            "symbol": "IBM"
           },
           {
            "Unnamed: 0": 284,
            "date": "2003-03-01",
            "price": 71.57,
            "symbol": "IBM"
           },
           {
            "Unnamed: 0": 285,
            "date": "2003-04-01",
            "price": 77.47,
            "symbol": "IBM"
           },
           {
            "Unnamed: 0": 286,
            "date": "2003-05-01",
            "price": 80.48,
            "symbol": "IBM"
           },
           {
            "Unnamed: 0": 287,
            "date": "2003-06-01",
            "price": 75.42,
            "symbol": "IBM"
           },
           {
            "Unnamed: 0": 288,
            "date": "2003-07-01",
            "price": 74.28,
            "symbol": "IBM"
           },
           {
            "Unnamed: 0": 289,
            "date": "2003-08-01",
            "price": 75.12,
            "symbol": "IBM"
           },
           {
            "Unnamed: 0": 290,
            "date": "2003-09-01",
            "price": 80.91,
            "symbol": "IBM"
           },
           {
            "Unnamed: 0": 291,
            "date": "2003-10-01",
            "price": 81.96,
            "symbol": "IBM"
           },
           {
            "Unnamed: 0": 292,
            "date": "2003-11-01",
            "price": 83.08,
            "symbol": "IBM"
           },
           {
            "Unnamed: 0": 293,
            "date": "2003-12-01",
            "price": 85.05,
            "symbol": "IBM"
           },
           {
            "Unnamed: 0": 294,
            "date": "2004-01-01",
            "price": 91.06,
            "symbol": "IBM"
           },
           {
            "Unnamed: 0": 295,
            "date": "2004-02-01",
            "price": 88.7,
            "symbol": "IBM"
           },
           {
            "Unnamed: 0": 296,
            "date": "2004-03-01",
            "price": 84.41,
            "symbol": "IBM"
           },
           {
            "Unnamed: 0": 297,
            "date": "2004-04-01",
            "price": 81.04,
            "symbol": "IBM"
           },
           {
            "Unnamed: 0": 298,
            "date": "2004-05-01",
            "price": 81.59,
            "symbol": "IBM"
           },
           {
            "Unnamed: 0": 299,
            "date": "2004-06-01",
            "price": 81.19,
            "symbol": "IBM"
           },
           {
            "Unnamed: 0": 300,
            "date": "2004-07-01",
            "price": 80.19,
            "symbol": "IBM"
           },
           {
            "Unnamed: 0": 301,
            "date": "2004-08-01",
            "price": 78.17,
            "symbol": "IBM"
           },
           {
            "Unnamed: 0": 302,
            "date": "2004-09-01",
            "price": 79.13,
            "symbol": "IBM"
           },
           {
            "Unnamed: 0": 303,
            "date": "2004-10-01",
            "price": 82.84,
            "symbol": "IBM"
           },
           {
            "Unnamed: 0": 304,
            "date": "2004-11-01",
            "price": 87.15,
            "symbol": "IBM"
           },
           {
            "Unnamed: 0": 305,
            "date": "2004-12-01",
            "price": 91.16,
            "symbol": "IBM"
           },
           {
            "Unnamed: 0": 306,
            "date": "2005-01-01",
            "price": 86.39,
            "symbol": "IBM"
           },
           {
            "Unnamed: 0": 307,
            "date": "2005-02-01",
            "price": 85.78,
            "symbol": "IBM"
           },
           {
            "Unnamed: 0": 308,
            "date": "2005-03-01",
            "price": 84.66,
            "symbol": "IBM"
           },
           {
            "Unnamed: 0": 309,
            "date": "2005-04-01",
            "price": 70.77,
            "symbol": "IBM"
           },
           {
            "Unnamed: 0": 310,
            "date": "2005-05-01",
            "price": 70.18,
            "symbol": "IBM"
           },
           {
            "Unnamed: 0": 311,
            "date": "2005-06-01",
            "price": 68.93,
            "symbol": "IBM"
           },
           {
            "Unnamed: 0": 312,
            "date": "2005-07-01",
            "price": 77.53,
            "symbol": "IBM"
           },
           {
            "Unnamed: 0": 313,
            "date": "2005-08-01",
            "price": 75.07,
            "symbol": "IBM"
           },
           {
            "Unnamed: 0": 314,
            "date": "2005-09-01",
            "price": 74.7,
            "symbol": "IBM"
           },
           {
            "Unnamed: 0": 315,
            "date": "2005-10-01",
            "price": 76.25,
            "symbol": "IBM"
           },
           {
            "Unnamed: 0": 316,
            "date": "2005-11-01",
            "price": 82.98,
            "symbol": "IBM"
           },
           {
            "Unnamed: 0": 317,
            "date": "2005-12-01",
            "price": 76.73,
            "symbol": "IBM"
           },
           {
            "Unnamed: 0": 318,
            "date": "2006-01-01",
            "price": 75.89,
            "symbol": "IBM"
           },
           {
            "Unnamed: 0": 319,
            "date": "2006-02-01",
            "price": 75.09,
            "symbol": "IBM"
           },
           {
            "Unnamed: 0": 320,
            "date": "2006-03-01",
            "price": 77.17,
            "symbol": "IBM"
           },
           {
            "Unnamed: 0": 321,
            "date": "2006-04-01",
            "price": 77.05,
            "symbol": "IBM"
           },
           {
            "Unnamed: 0": 322,
            "date": "2006-05-01",
            "price": 75.04,
            "symbol": "IBM"
           },
           {
            "Unnamed: 0": 323,
            "date": "2006-06-01",
            "price": 72.15,
            "symbol": "IBM"
           },
           {
            "Unnamed: 0": 324,
            "date": "2006-07-01",
            "price": 72.7,
            "symbol": "IBM"
           },
           {
            "Unnamed: 0": 325,
            "date": "2006-08-01",
            "price": 76.35,
            "symbol": "IBM"
           },
           {
            "Unnamed: 0": 326,
            "date": "2006-09-01",
            "price": 77.26,
            "symbol": "IBM"
           },
           {
            "Unnamed: 0": 327,
            "date": "2006-10-01",
            "price": 87.06,
            "symbol": "IBM"
           },
           {
            "Unnamed: 0": 328,
            "date": "2006-11-01",
            "price": 86.95,
            "symbol": "IBM"
           },
           {
            "Unnamed: 0": 329,
            "date": "2006-12-01",
            "price": 91.9,
            "symbol": "IBM"
           },
           {
            "Unnamed: 0": 330,
            "date": "2007-01-01",
            "price": 93.79,
            "symbol": "IBM"
           },
           {
            "Unnamed: 0": 331,
            "date": "2007-02-01",
            "price": 88.18,
            "symbol": "IBM"
           },
           {
            "Unnamed: 0": 332,
            "date": "2007-03-01",
            "price": 89.44,
            "symbol": "IBM"
           },
           {
            "Unnamed: 0": 333,
            "date": "2007-04-01",
            "price": 96.98,
            "symbol": "IBM"
           },
           {
            "Unnamed: 0": 334,
            "date": "2007-05-01",
            "price": 101.54,
            "symbol": "IBM"
           },
           {
            "Unnamed: 0": 335,
            "date": "2007-06-01",
            "price": 100.25,
            "symbol": "IBM"
           },
           {
            "Unnamed: 0": 336,
            "date": "2007-07-01",
            "price": 105.4,
            "symbol": "IBM"
           },
           {
            "Unnamed: 0": 337,
            "date": "2007-08-01",
            "price": 111.54,
            "symbol": "IBM"
           },
           {
            "Unnamed: 0": 338,
            "date": "2007-09-01",
            "price": 112.6,
            "symbol": "IBM"
           },
           {
            "Unnamed: 0": 339,
            "date": "2007-10-01",
            "price": 111,
            "symbol": "IBM"
           },
           {
            "Unnamed: 0": 340,
            "date": "2007-11-01",
            "price": 100.9,
            "symbol": "IBM"
           },
           {
            "Unnamed: 0": 341,
            "date": "2007-12-01",
            "price": 103.7,
            "symbol": "IBM"
           },
           {
            "Unnamed: 0": 342,
            "date": "2008-01-01",
            "price": 102.75,
            "symbol": "IBM"
           },
           {
            "Unnamed: 0": 343,
            "date": "2008-02-01",
            "price": 109.64,
            "symbol": "IBM"
           },
           {
            "Unnamed: 0": 344,
            "date": "2008-03-01",
            "price": 110.87,
            "symbol": "IBM"
           },
           {
            "Unnamed: 0": 345,
            "date": "2008-04-01",
            "price": 116.23,
            "symbol": "IBM"
           },
           {
            "Unnamed: 0": 346,
            "date": "2008-05-01",
            "price": 125.14,
            "symbol": "IBM"
           },
           {
            "Unnamed: 0": 347,
            "date": "2008-06-01",
            "price": 114.6,
            "symbol": "IBM"
           },
           {
            "Unnamed: 0": 348,
            "date": "2008-07-01",
            "price": 123.74,
            "symbol": "IBM"
           },
           {
            "Unnamed: 0": 349,
            "date": "2008-08-01",
            "price": 118.16,
            "symbol": "IBM"
           },
           {
            "Unnamed: 0": 350,
            "date": "2008-09-01",
            "price": 113.53,
            "symbol": "IBM"
           },
           {
            "Unnamed: 0": 351,
            "date": "2008-10-01",
            "price": 90.24,
            "symbol": "IBM"
           },
           {
            "Unnamed: 0": 352,
            "date": "2008-11-01",
            "price": 79.65,
            "symbol": "IBM"
           },
           {
            "Unnamed: 0": 353,
            "date": "2008-12-01",
            "price": 82.15,
            "symbol": "IBM"
           },
           {
            "Unnamed: 0": 354,
            "date": "2009-01-01",
            "price": 89.46,
            "symbol": "IBM"
           },
           {
            "Unnamed: 0": 355,
            "date": "2009-02-01",
            "price": 90.32,
            "symbol": "IBM"
           },
           {
            "Unnamed: 0": 356,
            "date": "2009-03-01",
            "price": 95.09,
            "symbol": "IBM"
           },
           {
            "Unnamed: 0": 357,
            "date": "2009-04-01",
            "price": 101.29,
            "symbol": "IBM"
           },
           {
            "Unnamed: 0": 358,
            "date": "2009-05-01",
            "price": 104.85,
            "symbol": "IBM"
           },
           {
            "Unnamed: 0": 359,
            "date": "2009-06-01",
            "price": 103.01,
            "symbol": "IBM"
           },
           {
            "Unnamed: 0": 360,
            "date": "2009-07-01",
            "price": 116.34,
            "symbol": "IBM"
           },
           {
            "Unnamed: 0": 361,
            "date": "2009-08-01",
            "price": 117,
            "symbol": "IBM"
           },
           {
            "Unnamed: 0": 362,
            "date": "2009-09-01",
            "price": 118.55,
            "symbol": "IBM"
           },
           {
            "Unnamed: 0": 363,
            "date": "2009-10-01",
            "price": 119.54,
            "symbol": "IBM"
           },
           {
            "Unnamed: 0": 364,
            "date": "2009-11-01",
            "price": 125.79,
            "symbol": "IBM"
           },
           {
            "Unnamed: 0": 365,
            "date": "2009-12-01",
            "price": 130.32,
            "symbol": "IBM"
           },
           {
            "Unnamed: 0": 366,
            "date": "2010-01-01",
            "price": 121.85,
            "symbol": "IBM"
           },
           {
            "Unnamed: 0": 367,
            "date": "2010-02-01",
            "price": 127.16,
            "symbol": "IBM"
           },
           {
            "Unnamed: 0": 368,
            "date": "2010-03-01",
            "price": 125.55,
            "symbol": "IBM"
           },
           {
            "Unnamed: 0": 369,
            "date": "2004-08-01",
            "price": 102.37,
            "symbol": "GOOG"
           },
           {
            "Unnamed: 0": 370,
            "date": "2004-09-01",
            "price": 129.6,
            "symbol": "GOOG"
           },
           {
            "Unnamed: 0": 371,
            "date": "2004-10-01",
            "price": 190.64,
            "symbol": "GOOG"
           },
           {
            "Unnamed: 0": 372,
            "date": "2004-11-01",
            "price": 181.98,
            "symbol": "GOOG"
           },
           {
            "Unnamed: 0": 373,
            "date": "2004-12-01",
            "price": 192.79,
            "symbol": "GOOG"
           },
           {
            "Unnamed: 0": 374,
            "date": "2005-01-01",
            "price": 195.62,
            "symbol": "GOOG"
           },
           {
            "Unnamed: 0": 375,
            "date": "2005-02-01",
            "price": 187.99,
            "symbol": "GOOG"
           },
           {
            "Unnamed: 0": 376,
            "date": "2005-03-01",
            "price": 180.51,
            "symbol": "GOOG"
           },
           {
            "Unnamed: 0": 377,
            "date": "2005-04-01",
            "price": 220,
            "symbol": "GOOG"
           },
           {
            "Unnamed: 0": 378,
            "date": "2005-05-01",
            "price": 277.27,
            "symbol": "GOOG"
           },
           {
            "Unnamed: 0": 379,
            "date": "2005-06-01",
            "price": 294.15,
            "symbol": "GOOG"
           },
           {
            "Unnamed: 0": 380,
            "date": "2005-07-01",
            "price": 287.76,
            "symbol": "GOOG"
           },
           {
            "Unnamed: 0": 381,
            "date": "2005-08-01",
            "price": 286,
            "symbol": "GOOG"
           },
           {
            "Unnamed: 0": 382,
            "date": "2005-09-01",
            "price": 316.46,
            "symbol": "GOOG"
           },
           {
            "Unnamed: 0": 383,
            "date": "2005-10-01",
            "price": 372.14,
            "symbol": "GOOG"
           },
           {
            "Unnamed: 0": 384,
            "date": "2005-11-01",
            "price": 404.91,
            "symbol": "GOOG"
           },
           {
            "Unnamed: 0": 385,
            "date": "2005-12-01",
            "price": 414.86,
            "symbol": "GOOG"
           },
           {
            "Unnamed: 0": 386,
            "date": "2006-01-01",
            "price": 432.66,
            "symbol": "GOOG"
           },
           {
            "Unnamed: 0": 387,
            "date": "2006-02-01",
            "price": 362.62,
            "symbol": "GOOG"
           },
           {
            "Unnamed: 0": 388,
            "date": "2006-03-01",
            "price": 390,
            "symbol": "GOOG"
           },
           {
            "Unnamed: 0": 389,
            "date": "2006-04-01",
            "price": 417.94,
            "symbol": "GOOG"
           },
           {
            "Unnamed: 0": 390,
            "date": "2006-05-01",
            "price": 371.82,
            "symbol": "GOOG"
           },
           {
            "Unnamed: 0": 391,
            "date": "2006-06-01",
            "price": 419.33,
            "symbol": "GOOG"
           },
           {
            "Unnamed: 0": 392,
            "date": "2006-07-01",
            "price": 386.6,
            "symbol": "GOOG"
           },
           {
            "Unnamed: 0": 393,
            "date": "2006-08-01",
            "price": 378.53,
            "symbol": "GOOG"
           },
           {
            "Unnamed: 0": 394,
            "date": "2006-09-01",
            "price": 401.9,
            "symbol": "GOOG"
           },
           {
            "Unnamed: 0": 395,
            "date": "2006-10-01",
            "price": 476.39,
            "symbol": "GOOG"
           },
           {
            "Unnamed: 0": 396,
            "date": "2006-11-01",
            "price": 484.81,
            "symbol": "GOOG"
           },
           {
            "Unnamed: 0": 397,
            "date": "2006-12-01",
            "price": 460.48,
            "symbol": "GOOG"
           },
           {
            "Unnamed: 0": 398,
            "date": "2007-01-01",
            "price": 501.5,
            "symbol": "GOOG"
           },
           {
            "Unnamed: 0": 399,
            "date": "2007-02-01",
            "price": 449.45,
            "symbol": "GOOG"
           },
           {
            "Unnamed: 0": 400,
            "date": "2007-03-01",
            "price": 458.16,
            "symbol": "GOOG"
           },
           {
            "Unnamed: 0": 401,
            "date": "2007-04-01",
            "price": 471.38,
            "symbol": "GOOG"
           },
           {
            "Unnamed: 0": 402,
            "date": "2007-05-01",
            "price": 497.91,
            "symbol": "GOOG"
           },
           {
            "Unnamed: 0": 403,
            "date": "2007-06-01",
            "price": 522.7,
            "symbol": "GOOG"
           },
           {
            "Unnamed: 0": 404,
            "date": "2007-07-01",
            "price": 510,
            "symbol": "GOOG"
           },
           {
            "Unnamed: 0": 405,
            "date": "2007-08-01",
            "price": 515.25,
            "symbol": "GOOG"
           },
           {
            "Unnamed: 0": 406,
            "date": "2007-09-01",
            "price": 567.27,
            "symbol": "GOOG"
           },
           {
            "Unnamed: 0": 407,
            "date": "2007-10-01",
            "price": 707,
            "symbol": "GOOG"
           },
           {
            "Unnamed: 0": 408,
            "date": "2007-11-01",
            "price": 693,
            "symbol": "GOOG"
           },
           {
            "Unnamed: 0": 409,
            "date": "2007-12-01",
            "price": 691.48,
            "symbol": "GOOG"
           },
           {
            "Unnamed: 0": 410,
            "date": "2008-01-01",
            "price": 564.3,
            "symbol": "GOOG"
           },
           {
            "Unnamed: 0": 411,
            "date": "2008-02-01",
            "price": 471.18,
            "symbol": "GOOG"
           },
           {
            "Unnamed: 0": 412,
            "date": "2008-03-01",
            "price": 440.47,
            "symbol": "GOOG"
           },
           {
            "Unnamed: 0": 413,
            "date": "2008-04-01",
            "price": 574.29,
            "symbol": "GOOG"
           },
           {
            "Unnamed: 0": 414,
            "date": "2008-05-01",
            "price": 585.8,
            "symbol": "GOOG"
           },
           {
            "Unnamed: 0": 415,
            "date": "2008-06-01",
            "price": 526.42,
            "symbol": "GOOG"
           },
           {
            "Unnamed: 0": 416,
            "date": "2008-07-01",
            "price": 473.75,
            "symbol": "GOOG"
           },
           {
            "Unnamed: 0": 417,
            "date": "2008-08-01",
            "price": 463.29,
            "symbol": "GOOG"
           },
           {
            "Unnamed: 0": 418,
            "date": "2008-09-01",
            "price": 400.52,
            "symbol": "GOOG"
           },
           {
            "Unnamed: 0": 419,
            "date": "2008-10-01",
            "price": 359.36,
            "symbol": "GOOG"
           },
           {
            "Unnamed: 0": 420,
            "date": "2008-11-01",
            "price": 292.96,
            "symbol": "GOOG"
           },
           {
            "Unnamed: 0": 421,
            "date": "2008-12-01",
            "price": 307.65,
            "symbol": "GOOG"
           },
           {
            "Unnamed: 0": 422,
            "date": "2009-01-01",
            "price": 338.53,
            "symbol": "GOOG"
           },
           {
            "Unnamed: 0": 423,
            "date": "2009-02-01",
            "price": 337.99,
            "symbol": "GOOG"
           },
           {
            "Unnamed: 0": 424,
            "date": "2009-03-01",
            "price": 348.06,
            "symbol": "GOOG"
           },
           {
            "Unnamed: 0": 425,
            "date": "2009-04-01",
            "price": 395.97,
            "symbol": "GOOG"
           },
           {
            "Unnamed: 0": 426,
            "date": "2009-05-01",
            "price": 417.23,
            "symbol": "GOOG"
           },
           {
            "Unnamed: 0": 427,
            "date": "2009-06-01",
            "price": 421.59,
            "symbol": "GOOG"
           },
           {
            "Unnamed: 0": 428,
            "date": "2009-07-01",
            "price": 443.05,
            "symbol": "GOOG"
           },
           {
            "Unnamed: 0": 429,
            "date": "2009-08-01",
            "price": 461.67,
            "symbol": "GOOG"
           },
           {
            "Unnamed: 0": 430,
            "date": "2009-09-01",
            "price": 495.85,
            "symbol": "GOOG"
           },
           {
            "Unnamed: 0": 431,
            "date": "2009-10-01",
            "price": 536.12,
            "symbol": "GOOG"
           },
           {
            "Unnamed: 0": 432,
            "date": "2009-11-01",
            "price": 583,
            "symbol": "GOOG"
           },
           {
            "Unnamed: 0": 433,
            "date": "2009-12-01",
            "price": 619.98,
            "symbol": "GOOG"
           },
           {
            "Unnamed: 0": 434,
            "date": "2010-01-01",
            "price": 529.94,
            "symbol": "GOOG"
           },
           {
            "Unnamed: 0": 435,
            "date": "2010-02-01",
            "price": 526.8,
            "symbol": "GOOG"
           },
           {
            "Unnamed: 0": 436,
            "date": "2010-03-01",
            "price": 560.19,
            "symbol": "GOOG"
           },
           {
            "Unnamed: 0": 437,
            "date": "2000-01-01",
            "price": 25.94,
            "symbol": "AAPL"
           },
           {
            "Unnamed: 0": 438,
            "date": "2000-02-01",
            "price": 28.66,
            "symbol": "AAPL"
           },
           {
            "Unnamed: 0": 439,
            "date": "2000-03-01",
            "price": 33.95,
            "symbol": "AAPL"
           },
           {
            "Unnamed: 0": 440,
            "date": "2000-04-01",
            "price": 31.01,
            "symbol": "AAPL"
           },
           {
            "Unnamed: 0": 441,
            "date": "2000-05-01",
            "price": 21,
            "symbol": "AAPL"
           },
           {
            "Unnamed: 0": 442,
            "date": "2000-06-01",
            "price": 26.19,
            "symbol": "AAPL"
           },
           {
            "Unnamed: 0": 443,
            "date": "2000-07-01",
            "price": 25.41,
            "symbol": "AAPL"
           },
           {
            "Unnamed: 0": 444,
            "date": "2000-08-01",
            "price": 30.47,
            "symbol": "AAPL"
           },
           {
            "Unnamed: 0": 445,
            "date": "2000-09-01",
            "price": 12.88,
            "symbol": "AAPL"
           },
           {
            "Unnamed: 0": 446,
            "date": "2000-10-01",
            "price": 9.78,
            "symbol": "AAPL"
           },
           {
            "Unnamed: 0": 447,
            "date": "2000-11-01",
            "price": 8.25,
            "symbol": "AAPL"
           },
           {
            "Unnamed: 0": 448,
            "date": "2000-12-01",
            "price": 7.44,
            "symbol": "AAPL"
           },
           {
            "Unnamed: 0": 449,
            "date": "2001-01-01",
            "price": 10.81,
            "symbol": "AAPL"
           },
           {
            "Unnamed: 0": 450,
            "date": "2001-02-01",
            "price": 9.12,
            "symbol": "AAPL"
           },
           {
            "Unnamed: 0": 451,
            "date": "2001-03-01",
            "price": 11.03,
            "symbol": "AAPL"
           },
           {
            "Unnamed: 0": 452,
            "date": "2001-04-01",
            "price": 12.74,
            "symbol": "AAPL"
           },
           {
            "Unnamed: 0": 453,
            "date": "2001-05-01",
            "price": 9.98,
            "symbol": "AAPL"
           },
           {
            "Unnamed: 0": 454,
            "date": "2001-06-01",
            "price": 11.62,
            "symbol": "AAPL"
           },
           {
            "Unnamed: 0": 455,
            "date": "2001-07-01",
            "price": 9.4,
            "symbol": "AAPL"
           },
           {
            "Unnamed: 0": 456,
            "date": "2001-08-01",
            "price": 9.27,
            "symbol": "AAPL"
           },
           {
            "Unnamed: 0": 457,
            "date": "2001-09-01",
            "price": 7.76,
            "symbol": "AAPL"
           },
           {
            "Unnamed: 0": 458,
            "date": "2001-10-01",
            "price": 8.78,
            "symbol": "AAPL"
           },
           {
            "Unnamed: 0": 459,
            "date": "2001-11-01",
            "price": 10.65,
            "symbol": "AAPL"
           },
           {
            "Unnamed: 0": 460,
            "date": "2001-12-01",
            "price": 10.95,
            "symbol": "AAPL"
           },
           {
            "Unnamed: 0": 461,
            "date": "2002-01-01",
            "price": 12.36,
            "symbol": "AAPL"
           },
           {
            "Unnamed: 0": 462,
            "date": "2002-02-01",
            "price": 10.85,
            "symbol": "AAPL"
           },
           {
            "Unnamed: 0": 463,
            "date": "2002-03-01",
            "price": 11.84,
            "symbol": "AAPL"
           },
           {
            "Unnamed: 0": 464,
            "date": "2002-04-01",
            "price": 12.14,
            "symbol": "AAPL"
           },
           {
            "Unnamed: 0": 465,
            "date": "2002-05-01",
            "price": 11.65,
            "symbol": "AAPL"
           },
           {
            "Unnamed: 0": 466,
            "date": "2002-06-01",
            "price": 8.86,
            "symbol": "AAPL"
           },
           {
            "Unnamed: 0": 467,
            "date": "2002-07-01",
            "price": 7.63,
            "symbol": "AAPL"
           },
           {
            "Unnamed: 0": 468,
            "date": "2002-08-01",
            "price": 7.38,
            "symbol": "AAPL"
           },
           {
            "Unnamed: 0": 469,
            "date": "2002-09-01",
            "price": 7.25,
            "symbol": "AAPL"
           },
           {
            "Unnamed: 0": 470,
            "date": "2002-10-01",
            "price": 8.03,
            "symbol": "AAPL"
           },
           {
            "Unnamed: 0": 471,
            "date": "2002-11-01",
            "price": 7.75,
            "symbol": "AAPL"
           },
           {
            "Unnamed: 0": 472,
            "date": "2002-12-01",
            "price": 7.16,
            "symbol": "AAPL"
           },
           {
            "Unnamed: 0": 473,
            "date": "2003-01-01",
            "price": 7.18,
            "symbol": "AAPL"
           },
           {
            "Unnamed: 0": 474,
            "date": "2003-02-01",
            "price": 7.51,
            "symbol": "AAPL"
           },
           {
            "Unnamed: 0": 475,
            "date": "2003-03-01",
            "price": 7.07,
            "symbol": "AAPL"
           },
           {
            "Unnamed: 0": 476,
            "date": "2003-04-01",
            "price": 7.11,
            "symbol": "AAPL"
           },
           {
            "Unnamed: 0": 477,
            "date": "2003-05-01",
            "price": 8.98,
            "symbol": "AAPL"
           },
           {
            "Unnamed: 0": 478,
            "date": "2003-06-01",
            "price": 9.53,
            "symbol": "AAPL"
           },
           {
            "Unnamed: 0": 479,
            "date": "2003-07-01",
            "price": 10.54,
            "symbol": "AAPL"
           },
           {
            "Unnamed: 0": 480,
            "date": "2003-08-01",
            "price": 11.31,
            "symbol": "AAPL"
           },
           {
            "Unnamed: 0": 481,
            "date": "2003-09-01",
            "price": 10.36,
            "symbol": "AAPL"
           },
           {
            "Unnamed: 0": 482,
            "date": "2003-10-01",
            "price": 11.44,
            "symbol": "AAPL"
           },
           {
            "Unnamed: 0": 483,
            "date": "2003-11-01",
            "price": 10.45,
            "symbol": "AAPL"
           },
           {
            "Unnamed: 0": 484,
            "date": "2003-12-01",
            "price": 10.69,
            "symbol": "AAPL"
           },
           {
            "Unnamed: 0": 485,
            "date": "2004-01-01",
            "price": 11.28,
            "symbol": "AAPL"
           },
           {
            "Unnamed: 0": 486,
            "date": "2004-02-01",
            "price": 11.96,
            "symbol": "AAPL"
           },
           {
            "Unnamed: 0": 487,
            "date": "2004-03-01",
            "price": 13.52,
            "symbol": "AAPL"
           },
           {
            "Unnamed: 0": 488,
            "date": "2004-04-01",
            "price": 12.89,
            "symbol": "AAPL"
           },
           {
            "Unnamed: 0": 489,
            "date": "2004-05-01",
            "price": 14.03,
            "symbol": "AAPL"
           },
           {
            "Unnamed: 0": 490,
            "date": "2004-06-01",
            "price": 16.27,
            "symbol": "AAPL"
           },
           {
            "Unnamed: 0": 491,
            "date": "2004-07-01",
            "price": 16.17,
            "symbol": "AAPL"
           },
           {
            "Unnamed: 0": 492,
            "date": "2004-08-01",
            "price": 17.25,
            "symbol": "AAPL"
           },
           {
            "Unnamed: 0": 493,
            "date": "2004-09-01",
            "price": 19.38,
            "symbol": "AAPL"
           },
           {
            "Unnamed: 0": 494,
            "date": "2004-10-01",
            "price": 26.2,
            "symbol": "AAPL"
           },
           {
            "Unnamed: 0": 495,
            "date": "2004-11-01",
            "price": 33.53,
            "symbol": "AAPL"
           },
           {
            "Unnamed: 0": 496,
            "date": "2004-12-01",
            "price": 32.2,
            "symbol": "AAPL"
           },
           {
            "Unnamed: 0": 497,
            "date": "2005-01-01",
            "price": 38.45,
            "symbol": "AAPL"
           },
           {
            "Unnamed: 0": 498,
            "date": "2005-02-01",
            "price": 44.86,
            "symbol": "AAPL"
           },
           {
            "Unnamed: 0": 499,
            "date": "2005-03-01",
            "price": 41.67,
            "symbol": "AAPL"
           },
           {
            "Unnamed: 0": 500,
            "date": "2005-04-01",
            "price": 36.06,
            "symbol": "AAPL"
           },
           {
            "Unnamed: 0": 501,
            "date": "2005-05-01",
            "price": 39.76,
            "symbol": "AAPL"
           },
           {
            "Unnamed: 0": 502,
            "date": "2005-06-01",
            "price": 36.81,
            "symbol": "AAPL"
           },
           {
            "Unnamed: 0": 503,
            "date": "2005-07-01",
            "price": 42.65,
            "symbol": "AAPL"
           },
           {
            "Unnamed: 0": 504,
            "date": "2005-08-01",
            "price": 46.89,
            "symbol": "AAPL"
           },
           {
            "Unnamed: 0": 505,
            "date": "2005-09-01",
            "price": 53.61,
            "symbol": "AAPL"
           },
           {
            "Unnamed: 0": 506,
            "date": "2005-10-01",
            "price": 57.59,
            "symbol": "AAPL"
           },
           {
            "Unnamed: 0": 507,
            "date": "2005-11-01",
            "price": 67.82,
            "symbol": "AAPL"
           },
           {
            "Unnamed: 0": 508,
            "date": "2005-12-01",
            "price": 71.89,
            "symbol": "AAPL"
           },
           {
            "Unnamed: 0": 509,
            "date": "2006-01-01",
            "price": 75.51,
            "symbol": "AAPL"
           },
           {
            "Unnamed: 0": 510,
            "date": "2006-02-01",
            "price": 68.49,
            "symbol": "AAPL"
           },
           {
            "Unnamed: 0": 511,
            "date": "2006-03-01",
            "price": 62.72,
            "symbol": "AAPL"
           },
           {
            "Unnamed: 0": 512,
            "date": "2006-04-01",
            "price": 70.39,
            "symbol": "AAPL"
           },
           {
            "Unnamed: 0": 513,
            "date": "2006-05-01",
            "price": 59.77,
            "symbol": "AAPL"
           },
           {
            "Unnamed: 0": 514,
            "date": "2006-06-01",
            "price": 57.27,
            "symbol": "AAPL"
           },
           {
            "Unnamed: 0": 515,
            "date": "2006-07-01",
            "price": 67.96,
            "symbol": "AAPL"
           },
           {
            "Unnamed: 0": 516,
            "date": "2006-08-01",
            "price": 67.85,
            "symbol": "AAPL"
           },
           {
            "Unnamed: 0": 517,
            "date": "2006-09-01",
            "price": 76.98,
            "symbol": "AAPL"
           },
           {
            "Unnamed: 0": 518,
            "date": "2006-10-01",
            "price": 81.08,
            "symbol": "AAPL"
           },
           {
            "Unnamed: 0": 519,
            "date": "2006-11-01",
            "price": 91.66,
            "symbol": "AAPL"
           },
           {
            "Unnamed: 0": 520,
            "date": "2006-12-01",
            "price": 84.84,
            "symbol": "AAPL"
           },
           {
            "Unnamed: 0": 521,
            "date": "2007-01-01",
            "price": 85.73,
            "symbol": "AAPL"
           },
           {
            "Unnamed: 0": 522,
            "date": "2007-02-01",
            "price": 84.61,
            "symbol": "AAPL"
           },
           {
            "Unnamed: 0": 523,
            "date": "2007-03-01",
            "price": 92.91,
            "symbol": "AAPL"
           },
           {
            "Unnamed: 0": 524,
            "date": "2007-04-01",
            "price": 99.8,
            "symbol": "AAPL"
           },
           {
            "Unnamed: 0": 525,
            "date": "2007-05-01",
            "price": 121.19,
            "symbol": "AAPL"
           },
           {
            "Unnamed: 0": 526,
            "date": "2007-06-01",
            "price": 122.04,
            "symbol": "AAPL"
           },
           {
            "Unnamed: 0": 527,
            "date": "2007-07-01",
            "price": 131.76,
            "symbol": "AAPL"
           },
           {
            "Unnamed: 0": 528,
            "date": "2007-08-01",
            "price": 138.48,
            "symbol": "AAPL"
           },
           {
            "Unnamed: 0": 529,
            "date": "2007-09-01",
            "price": 153.47,
            "symbol": "AAPL"
           },
           {
            "Unnamed: 0": 530,
            "date": "2007-10-01",
            "price": 189.95,
            "symbol": "AAPL"
           },
           {
            "Unnamed: 0": 531,
            "date": "2007-11-01",
            "price": 182.22,
            "symbol": "AAPL"
           },
           {
            "Unnamed: 0": 532,
            "date": "2007-12-01",
            "price": 198.08,
            "symbol": "AAPL"
           },
           {
            "Unnamed: 0": 533,
            "date": "2008-01-01",
            "price": 135.36,
            "symbol": "AAPL"
           },
           {
            "Unnamed: 0": 534,
            "date": "2008-02-01",
            "price": 125.02,
            "symbol": "AAPL"
           },
           {
            "Unnamed: 0": 535,
            "date": "2008-03-01",
            "price": 143.5,
            "symbol": "AAPL"
           },
           {
            "Unnamed: 0": 536,
            "date": "2008-04-01",
            "price": 173.95,
            "symbol": "AAPL"
           },
           {
            "Unnamed: 0": 537,
            "date": "2008-05-01",
            "price": 188.75,
            "symbol": "AAPL"
           },
           {
            "Unnamed: 0": 538,
            "date": "2008-06-01",
            "price": 167.44,
            "symbol": "AAPL"
           },
           {
            "Unnamed: 0": 539,
            "date": "2008-07-01",
            "price": 158.95,
            "symbol": "AAPL"
           },
           {
            "Unnamed: 0": 540,
            "date": "2008-08-01",
            "price": 169.53,
            "symbol": "AAPL"
           },
           {
            "Unnamed: 0": 541,
            "date": "2008-09-01",
            "price": 113.66,
            "symbol": "AAPL"
           },
           {
            "Unnamed: 0": 542,
            "date": "2008-10-01",
            "price": 107.59,
            "symbol": "AAPL"
           },
           {
            "Unnamed: 0": 543,
            "date": "2008-11-01",
            "price": 92.67,
            "symbol": "AAPL"
           },
           {
            "Unnamed: 0": 544,
            "date": "2008-12-01",
            "price": 85.35,
            "symbol": "AAPL"
           },
           {
            "Unnamed: 0": 545,
            "date": "2009-01-01",
            "price": 90.13,
            "symbol": "AAPL"
           },
           {
            "Unnamed: 0": 546,
            "date": "2009-02-01",
            "price": 89.31,
            "symbol": "AAPL"
           },
           {
            "Unnamed: 0": 547,
            "date": "2009-03-01",
            "price": 105.12,
            "symbol": "AAPL"
           },
           {
            "Unnamed: 0": 548,
            "date": "2009-04-01",
            "price": 125.83,
            "symbol": "AAPL"
           },
           {
            "Unnamed: 0": 549,
            "date": "2009-05-01",
            "price": 135.81,
            "symbol": "AAPL"
           },
           {
            "Unnamed: 0": 550,
            "date": "2009-06-01",
            "price": 142.43,
            "symbol": "AAPL"
           },
           {
            "Unnamed: 0": 551,
            "date": "2009-07-01",
            "price": 163.39,
            "symbol": "AAPL"
           },
           {
            "Unnamed: 0": 552,
            "date": "2009-08-01",
            "price": 168.21,
            "symbol": "AAPL"
           },
           {
            "Unnamed: 0": 553,
            "date": "2009-09-01",
            "price": 185.35,
            "symbol": "AAPL"
           },
           {
            "Unnamed: 0": 554,
            "date": "2009-10-01",
            "price": 188.5,
            "symbol": "AAPL"
           },
           {
            "Unnamed: 0": 555,
            "date": "2009-11-01",
            "price": 199.91,
            "symbol": "AAPL"
           },
           {
            "Unnamed: 0": 556,
            "date": "2009-12-01",
            "price": 210.73,
            "symbol": "AAPL"
           },
           {
            "Unnamed: 0": 557,
            "date": "2010-01-01",
            "price": 192.06,
            "symbol": "AAPL"
           },
           {
            "Unnamed: 0": 558,
            "date": "2010-02-01",
            "price": 204.62,
            "symbol": "AAPL"
           },
           {
            "Unnamed: 0": 559,
            "date": "2010-03-01",
            "price": 223.02,
            "symbol": "AAPL"
           }
          ]
         },
         "encoding": {
          "color": {
           "field": "symbol",
           "type": "nominal"
          },
          "tooltip": [
           {
            "field": "Unnamed: 0",
            "type": "quantitative"
           },
           {
            "field": "symbol",
            "type": "nominal"
           },
           {
            "field": "date",
            "type": "nominal"
           },
           {
            "field": "price",
            "type": "quantitative"
           }
          ],
          "x": {
           "field": "date",
           "type": "temporal"
          },
          "y": {
           "field": "price",
           "type": "quantitative"
          }
         },
         "height": 400,
         "mark": {
          "size": 8.130081300813009,
          "type": "line"
         },
         "selection": {
          "selector054": {
           "bind": "scales",
           "encodings": [
            "x"
           ],
           "mark": {
            "fill": "#333",
            "fillOpacity": 0.125,
            "stroke": "white"
           },
           "on": "[mousedown, window:mouseup] > window:mousemove!",
           "resolve": "global",
           "translate": "[mousedown, window:mouseup] > window:mousemove!",
           "type": "interval",
           "zoom": "wheel!"
          }
         },
         "width": 1000
        }
       ]
      },
      "image/png": "[encoded data removed]",
      "text/plain": [
       "<VegaLite 2 object>\n",
       "\n",
       "If you see this message, it means the renderer has not been properly enabled\n",
       "for the frontend that you are using. For more information, see\n",
       "https://altair-viz.github.io/user_guide/troubleshooting.html\n"
      ]
     },
     "execution_count": 87,
     "metadata": {},
     "output_type": "execute_result"
    }
   ],
   "source": [
    "areaChart(data, \"date:T\", \"price:Q\", \"symbol:N\")"
   ]
  },
  {
   "cell_type": "code",
   "execution_count": null,
   "metadata": {},
   "outputs": [],
   "source": []
  },
  {
   "cell_type": "code",
   "execution_count": null,
   "metadata": {},
   "outputs": [],
   "source": []
  }
 ],
 "metadata": {
  "kernelspec": {
   "display_name": "Python 3",
   "language": "python",
   "name": "python3"
  },
  "language_info": {
   "codemirror_mode": {
    "name": "ipython",
    "version": 3
   },
   "file_extension": ".py",
   "mimetype": "text/x-python",
   "name": "python",
   "nbconvert_exporter": "python",
   "pygments_lexer": "ipython3",
   "version": "3.7.0"
  }
 },
 "nbformat": 4,
 "nbformat_minor": 2
}
